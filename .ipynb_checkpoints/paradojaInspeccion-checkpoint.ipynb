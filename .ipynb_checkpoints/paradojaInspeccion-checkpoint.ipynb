{
 "cells": [
  {
   "cell_type": "markdown",
   "metadata": {},
   "source": [
    "# La paradoja de la Inspección\n",
    "Basado en la presentación de Allen Downey https://www.youtube.com/watch?v=cXWTHfvycyM"
   ]
  },
  {
   "cell_type": "code",
   "execution_count": 7,
   "metadata": {},
   "outputs": [
    {
     "name": "stdout",
     "output_type": "stream",
     "text": [
      "Collecting empiricaldist\n",
      "  Downloading empiricaldist-0.3.10.tar.gz (9.0 kB)\n",
      "Building wheels for collected packages: empiricaldist\n",
      "  Building wheel for empiricaldist (setup.py): started\n",
      "  Building wheel for empiricaldist (setup.py): finished with status 'done'\n",
      "  Created wheel for empiricaldist: filename=empiricaldist-0.3.10-py3-none-any.whl size=10189 sha256=4296d2554e4b9f68fcb2edc1bde50fb2ba0c5675cd90d1afbbcb3540709f5f96\n",
      "  Stored in directory: c:\\users\\yoda\\appdata\\local\\pip\\cache\\wheels\\10\\1f\\bf\\40cf9e012f04d579e7a050f27db561ce8e587b22dc0a776f79\n",
      "Successfully built empiricaldist\n",
      "Installing collected packages: empiricaldist\n",
      "Successfully installed empiricaldist-0.3.10\n"
     ]
    }
   ],
   "source": [
    "\n",
    "import sys\n",
    "IN_COLAB = 'google.colab' in sys.modules\n",
    "\n",
    "if IN_COLAB:\n",
    "    !pip install empiricaldist"
   ]
  },
  {
   "cell_type": "code",
   "execution_count": 2,
   "metadata": {},
   "outputs": [],
   "source": [
    "# Set the random seed so we get the same results every time\n",
    "import numpy as np\n",
    "np.random.seed(17)"
   ]
  },
  {
   "cell_type": "code",
   "execution_count": 3,
   "metadata": {},
   "outputs": [],
   "source": [
    "import matplotlib.pyplot as plt\n",
    "\n",
    "# FUncion para mejorar el grafico.\n",
    "def decorate(**options):\n",
    "    \"\"\"Decorate the current axes.\"\"\"\n",
    "    ax = plt.gca()\n",
    "    ax.set(**options)\n",
    "    handles, labels = ax.get_legend_handles_labels()\n",
    "    if handles:\n",
    "        plt.legend()\n",
    "    plt.tight_layout()"
   ]
  },
  {
   "cell_type": "markdown",
   "metadata": {},
   "source": [
    "## Cantidad de hijos\n",
    "\n",
    "Importando datos del form"
   ]
  },
  {
   "cell_type": "code",
   "execution_count": 5,
   "metadata": {},
   "outputs": [
    {
     "data": {
      "text/html": [
       "<div>\n",
       "<style scoped>\n",
       "    .dataframe tbody tr th:only-of-type {\n",
       "        vertical-align: middle;\n",
       "    }\n",
       "\n",
       "    .dataframe tbody tr th {\n",
       "        vertical-align: top;\n",
       "    }\n",
       "\n",
       "    .dataframe thead th {\n",
       "        text-align: right;\n",
       "    }\n",
       "</style>\n",
       "<table border=\"1\" class=\"dataframe\">\n",
       "  <thead>\n",
       "    <tr style=\"text-align: right;\">\n",
       "      <th></th>\n",
       "      <th>Horario</th>\n",
       "      <th>Numero de hijos</th>\n",
       "    </tr>\n",
       "  </thead>\n",
       "  <tbody>\n",
       "    <tr>\n",
       "      <th>0</th>\n",
       "      <td>15/12/2020 13:13:04</td>\n",
       "      <td>3</td>\n",
       "    </tr>\n",
       "  </tbody>\n",
       "</table>\n",
       "</div>"
      ],
      "text/plain": [
       "               Horario  Numero de hijos\n",
       "0  15/12/2020 13:13:04                3"
      ]
     },
     "execution_count": 5,
     "metadata": {},
     "output_type": "execute_result"
    }
   ],
   "source": [
    "import pandas as pd\n",
    "\n",
    "sheet_id = '1LE-PiXfSyzeMejdT4dwY7daE-RWMJZEmwEoG6HcA2qo'\n",
    "url = f'https://docs.google.com/spreadsheets/d/{sheet_id}/export?format=csv'\n",
    "df = pd.read_csv(url)\n",
    "df.columns = ['Horario', 'Numero de hijos']\n",
    "df.head()"
   ]
  },
  {
   "cell_type": "markdown",
   "metadata": {},
   "source": [
    "Obtener la columna"
   ]
  },
  {
   "cell_type": "code",
   "execution_count": 9,
   "metadata": {},
   "outputs": [],
   "source": [
    "cantidadHijos = df['Numero de hijos'].copy()"
   ]
  },
  {
   "cell_type": "markdown",
   "metadata": {},
   "source": [
    "Graficar la distribución"
   ]
  },
  {
   "cell_type": "code",
   "execution_count": 10,
   "metadata": {},
   "outputs": [
    {
     "data": {
      "image/png": "[encoded data removed]",
      "text/plain": [
       "<Figure size 432x288 with 1 Axes>"
      ]
     },
     "metadata": {
      "needs_background": "light"
     },
     "output_type": "display_data"
    }
   ],
   "source": [
    "from empiricaldist import Pmf\n",
    "\n",
    "pmf = Pmf.from_seq(cantidadHijos, normalize=False)\n",
    "pmf.bar(label='Curso SC')\n",
    "\n",
    "decorate(xlabel='tamanho',\n",
    "         ylabel='Numero de hijo',\n",
    "         title='Distribución de cantidad de hijos')"
   ]
  },
  {
   "cell_type": "markdown",
   "metadata": {},
   "source": [
    "Caso alguien este bromenado"
   ]
  },
  {
   "cell_type": "code",
   "execution_count": 11,
   "metadata": {},
   "outputs": [],
   "source": [
    "cantidadHijos[cantidadHijos > 15] = np.nan"
   ]
  },
  {
   "cell_type": "markdown",
   "metadata": {},
   "source": [
    "La media de los datos está destinada a estimar la cantidad promedio de hijos de las familias en Paraguay?\n",
    "\n",
    "¿Pero lo hace?"
   ]
  },
  {
   "cell_type": "code",
   "execution_count": 12,
   "metadata": {},
   "outputs": [
    {
     "data": {
      "text/plain": [
       "3.0"
      ]
     },
     "execution_count": 12,
     "metadata": {},
     "output_type": "execute_result"
    }
   ],
   "source": [
    "cantidadHijos.mean()"
   ]
  },
  {
   "cell_type": "markdown",
   "metadata": {},
   "source": [
    "## Class size\n",
    "\n",
    "Aquí están los datos que resumen la distribución de la cantidad de alumnos en las clases de pregrado en la Universidad de Purdue en 2013-14.\n"
   ]
  },
  {
   "cell_type": "code",
   "execution_count": 27,
   "metadata": {},
   "outputs": [],
   "source": [
    "cantidadAlumnos = [(1, 1), \n",
    "         (2, 9),\n",
    "         (10, 19),\n",
    "         (20, 29),\n",
    "         (30, 39),\n",
    "         (40, 49),\n",
    "         (50, 99),\n",
    "         (100, 300)]\n",
    "         \n",
    "frecuencia = [138, 635, 1788, 1979, 796, 354, 487, 333]"
   ]
  },
  {
   "cell_type": "markdown",
   "metadata": {},
   "source": [
    "Genero una muestra de esta distribución, asumiendo una distribución uniforme en cada rango y un límite superior de 300."
   ]
  },
  {
   "cell_type": "code",
   "execution_count": 28,
   "metadata": {},
   "outputs": [],
   "source": [
    "def generate_sample(sizes, counts):\n",
    "    \"\"\"Generate a sample from a distribution.\n",
    "    \n",
    "    sizes: sequence of (low, high) pairs\n",
    "    counts: sequence of integers\n",
    "    \n",
    "    returns: NumPy array\n",
    "    \"\"\"\n",
    "    t = []\n",
    "    for (low, high), count in zip(sizes, counts):\n",
    "        print(low, high, count)\n",
    "        sample = np.random.randint(low, high+1, count)\n",
    "        t.extend(sample)\n",
    "    return np.array(t)"
   ]
  },
  {
   "cell_type": "markdown",
   "metadata": {},
   "source": [
    "La muestra \"no sesgada\" es como la ve la universidad, y cada clase tiene la misma probabilidad de estar en la muestra."
   ]
  },
  {
   "cell_type": "code",
   "execution_count": 33,
   "metadata": {},
   "outputs": [
    {
     "name": "stdout",
     "output_type": "stream",
     "text": [
      "1 1 138\n",
      "2 9 635\n",
      "10 19 1788\n",
      "20 29 1979\n",
      "30 39 796\n",
      "40 49 354\n",
      "50 99 487\n",
      "100 300 333\n"
     ]
    }
   ],
   "source": [
    "sinSesgo = generate_sample(cantidadAlumnos, frecuencia)"
   ]
  },
  {
   "cell_type": "markdown",
   "metadata": {},
   "source": [
    "Para generar una muestra sesgada, utilizamos los valores mismos como ponderaciones y volvemos a muestrear con reemplazo."
   ]
  },
  {
   "cell_type": "code",
   "execution_count": 34,
   "metadata": {},
   "outputs": [],
   "source": [
    "def resample_weighted(sample, weights):\n",
    "    \"\"\"Generate a biased sample.\n",
    "    \n",
    "    sample: NumPy array\n",
    "    weights: NumPy array\n",
    "    \n",
    "    returns: NumPy array\n",
    "    \"\"\"\n",
    "    n = len(sample)\n",
    "    p = weights / np.sum(weights)\n",
    "    return np.random.choice(sample, n, p=p)"
   ]
  },
  {
   "cell_type": "code",
   "execution_count": 40,
   "metadata": {},
   "outputs": [],
   "source": [
    "sesgada = resample_weighted(sinSesgo, sinSesgo)"
   ]
  },
  {
   "cell_type": "markdown",
   "metadata": {},
   "source": [
    "Para trazar la distribución, utilizo KDE para estimar la función de densidad, luego la evalúo sobre la secuencia dada de \"xs\"."
   ]
  },
  {
   "cell_type": "code",
   "execution_count": 41,
   "metadata": {},
   "outputs": [],
   "source": [
    "import matplotlib.pyplot as plt\n",
    "from scipy.stats import gaussian_kde\n",
    "\n",
    "def kdeplot(sample, xs, label=None, **options):\n",
    "    \"\"\"Use KDE to plot the density function.\n",
    "    \n",
    "    sample: NumPy array\n",
    "    xs: NumPy array\n",
    "    label: string\n",
    "    \"\"\"\n",
    "    density = gaussian_kde(sample, **options).evaluate(xs)\n",
    "    plt.plot(xs, density, label=label)\n",
    "    decorate(ylabel='Pdf')"
   ]
  },
  {
   "cell_type": "markdown",
   "metadata": {},
   "source": [
    "\n",
    "La siguiente gráfica muestra la distribución del tamaño de la clase tal como la ve el Decano y una muestra de estudiantes."
   ]
  },
  {
   "cell_type": "code",
   "execution_count": 42,
   "metadata": {},
   "outputs": [
    {
     "data": {
      "image/png": "[encoded data removed]",
      "text/plain": [
       "<Figure size 432x288 with 1 Axes>"
      ]
     },
     "metadata": {
      "needs_background": "light"
     },
     "output_type": "display_data"
    }
   ],
   "source": [
    "xs = np.arange(1, 300)\n",
    "kdeplot(sinSesgo, xs, 'Registrado en la universidad')\n",
    "\n",
    "decorate(xlabel='Cantidad de Alumnos',\n",
    "         title='Distribucion')\n",
    "\n",
    "plt.savefig('class_size0.png', dpi=150)"
   ]
  },
  {
   "cell_type": "code",
   "execution_count": 44,
   "metadata": {},
   "outputs": [
    {
     "data": {
      "image/png": "[encoded data removed]",
      "text/plain": [
       "<Figure size 432x288 with 1 Axes>"
      ]
     },
     "metadata": {
      "needs_background": "light"
     },
     "output_type": "display_data"
    }
   ],
   "source": [
    "xs = np.arange(1, 300)\n",
    "kdeplot(sinSesgo, xs, 'Registrado en la universidad')\n",
    "kdeplot(sesgada, xs, 'Reportado en una encuesta')\n",
    "\n",
    "decorate(xlabel='Cantidad de Alumnos',\n",
    "         title='Distribution')\n",
    "\n",
    "plt.savefig('class_size1.png', dpi=150)"
   ]
  },
  {
   "cell_type": "markdown",
   "metadata": {},
   "source": [
    "Here are the means of the unbiased and biased distributions."
   ]
  },
  {
   "cell_type": "code",
   "execution_count": 45,
   "metadata": {},
   "outputs": [
    {
     "data": {
      "text/plain": [
       "34.43932411674347"
      ]
     },
     "execution_count": 45,
     "metadata": {},
     "output_type": "execute_result"
    }
   ],
   "source": [
    "np.mean(sinSesgo)"
   ]
  },
  {
   "cell_type": "code",
   "execution_count": 46,
   "metadata": {},
   "outputs": [
    {
     "data": {
      "text/plain": [
       "91.65714285714286"
      ]
     },
     "execution_count": 46,
     "metadata": {},
     "output_type": "execute_result"
    }
   ],
   "source": [
    "np.mean(sesgada)"
   ]
  },
  {
   "cell_type": "code",
   "execution_count": 48,
   "metadata": {},
   "outputs": [],
   "source": [
    "muestra= np.random.choice(sesgada, 500)"
   ]
  },
  {
   "cell_type": "code",
   "execution_count": 52,
   "metadata": {},
   "outputs": [],
   "source": [
    "rePonderada= resample_weighted(muestra, 1/muestra)"
   ]
  },
  {
   "cell_type": "code",
   "execution_count": 53,
   "metadata": {},
   "outputs": [
    {
     "data": {
      "image/png": "[encoded data removed]",
      "text/plain": [
       "<Figure size 432x288 with 1 Axes>"
      ]
     },
     "metadata": {
      "needs_background": "light"
     },
     "output_type": "display_data"
    }
   ],
   "source": [
    "xs = np.arange(1, 300)\n",
    "kdeplot(sinSesgo, xs, 'Registrado en la universidad')\n",
    "kdeplot(muestra, xs, 'Reportado en una encuesta')\n",
    "kdeplot(rePonderada, xs, 'Reponderado de la encuesta')\n",
    "\n",
    "decorate(xlabel='Cantidad de Alumnos',\n",
    "         title='Distribucion')\n",
    "\n"
   ]
  }
 ],
 "metadata": {
  "kernelspec": {
   "display_name": "Python 3",
   "language": "python",
   "name": "python3"
  },
  "language_info": {
   "codemirror_mode": {
    "name": "ipython",
    "version": 3
   },
   "file_extension": ".py",
   "mimetype": "text/x-python",
   "name": "python",
   "nbconvert_exporter": "python",
   "pygments_lexer": "ipython3",
   "version": "3.7.7"
  }
 },
 "nbformat": 4,
 "nbformat_minor": 4
}
