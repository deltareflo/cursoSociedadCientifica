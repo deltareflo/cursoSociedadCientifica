{
 "cells": [
  {
   "cell_type": "markdown",
   "metadata": {},
   "source": [
    "\"Prueba de bondad de ajuste chi cuadrado\"\n",
    "Esto también se usa para probar si las frecuencias de muestra observadas son consistentes con las frecuencias esperadas.\n",
    "\n",
    "### Supuestos\n",
    "* El método de muestreo es un muestreo aleatorio simple.\n",
    "* La variable en estudio es ** categórica **.\n",
    "* El valor esperado del número de observaciones de muestra en cada nivel de la variable es al menos 5.\n",
    "\n",
    "### Hipótesis\n",
    "** Hipótesis nula **: los valores observados y esperados son consistentes\n",
    "\n",
    "** Hipótesis alternativa **: los valores observados y esperados son significativamente diferentes\n",
    "\n",
    "### Estadística de prueba\n",
    "La estadística de prueba (CV) se calcula como\n",
    "\n",
    "$ \\ chi ^ 2 = \\ sum_i (O_i - E_i) ^ 2 / E_i $\n",
    "\n",
    "donde se observan $ O_i $ y $ E_i $ y se cuentan las frecuencias esperadas.\n",
    "\n",
    "### p -value\n",
    "después de calcular CV y ​​grados de libertad ($ = n - 1 $),\n",
    "estimamos la probabilidad de P (chi2 $ \\ leq $ CV).\n",
    "Esto se hace usando el CDF para chi2, como se muestra en este cuaderno.\n"
   ]
  },
  {
   "cell_type": "code",
   "execution_count": null,
   "metadata": {},
   "outputs": [],
   "source": []
  },
  {
   "cell_type": "markdown",
   "metadata": {},
   "source": [
    "\n",
    "Ejemplo\n",
    "\n",
    "> Acme Toy Company imprime tarjetas de béisbol. La compañía afirma que el 30% de las tarjetas son novatos, el 60% veteranos y el 10% son All-Stars.\n",
    "\n",
    "> Suponga que una muestra aleatoria de 100 cartas tiene 50 novatos, 45 veteranos y 5 All-Stars. ¿Es esto consistente con la afirmación de Acme? Utilice un nivel de significancia de 0.05."
   ]
  },
  {
   "cell_type": "code",
   "execution_count": 15,
   "metadata": {},
   "outputs": [],
   "source": [
    "import numpy as np\n",
    "from scipy import stats"
   ]
  },
  {
   "cell_type": "code",
   "execution_count": 16,
   "metadata": {},
   "outputs": [
    {
     "name": "stdout",
     "output_type": "stream",
     "text": [
      "Observado [50 45  5]\n",
      "Esperado o previsto [30 60 10]\n"
     ]
    }
   ],
   "source": [
    " \n",
    "O=np.array([50,45,5])\n",
    "E=np.array([30,60,10])\n",
    "\n",
    "print('Observado',O)\n",
    "print('Esperado o previsto',E)"
   ]
  },
  {
   "cell_type": "code",
   "execution_count": 17,
   "metadata": {},
   "outputs": [
    {
     "name": "stdout",
     "output_type": "stream",
     "text": [
      "Statistic 19.583333333333336\n",
      "Critical value for 95% confidence 5.991464547107979\n",
      "P value     0.000056\n"
     ]
    }
   ],
   "source": [
    "\n",
    "# Statistic   \n",
    "cv = np.sum((O-E)**2/E)\n",
    "print(\"Statistic\",cv)\n",
    "df=len(O)-1\n",
    "crit = stats.chi2.ppf(q = 0.95, # Find the critical value for 95% confidence*\n",
    "                      df = df)   # *\n",
    "\n",
    "\n",
    "print(\"Critical value for 95% confidence\",crit)\n",
    "\n",
    "p_value = float(1.0 - stats.chi2.cdf(x=cv, df=df))\n",
    "print(\"P value %12.6f\" % p_value)"
   ]
  },
  {
   "cell_type": "markdown",
   "metadata": {},
   "source": [
    "Nuestro estadístico de prueba es más alto que el valor crítico del 95% de confianza, por lo que no podemos aceptar la hipótesis nula de que las dos muestras son consistentes.\n",
    "Tenga en cuenta que el valor P está cerca de 0."
   ]
  },
  {
   "cell_type": "code",
   "execution_count": null,
   "metadata": {},
   "outputs": [],
   "source": []
  },
  {
   "cell_type": "code",
   "execution_count": null,
   "metadata": {},
   "outputs": [],
   "source": []
  }
 ],
 "metadata": {
  "kernelspec": {
   "display_name": "Python 3",
   "language": "python",
   "name": "python3"
  },
  "language_info": {
   "codemirror_mode": {
    "name": "ipython",
    "version": 3
   },
   "file_extension": ".py",
   "mimetype": "text/x-python",
   "name": "python",
   "nbconvert_exporter": "python",
   "pygments_lexer": "ipython3",
   "version": "3.7.6"
  }
 },
 "nbformat": 4,
 "nbformat_minor": 4
}
