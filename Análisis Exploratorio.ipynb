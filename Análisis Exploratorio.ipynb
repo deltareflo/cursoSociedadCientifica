{
 "cells": [
  {
   "cell_type": "markdown",
   "metadata": {
    "colab_type": "text",
    "id": "hptL_gH71KzB"
   },
   "source": [
    "# Tabla de Contenido\n",
    "\n",
    "* [Antes de Comenzar](#requisitos)\n",
    "\n",
    "* [Análisis Exploratorio de Datos](#1.1)\n",
    "    * [¿Por qué es importante?](#1.1.1)\n",
    "    * [Manipulación de datos con Pandas](#1.1.2)\n",
    "    * [¿Qué Gráfico debería usar?](#1.1.3)\n",
    "\n",
    "* [Caso de estudio: Migraciones en Chile](#1.2)\n",
    "    * [Carga de Datos](#1.2.1)\n",
    "    * [Conociendo el Dataframe](#1.2.2)\n",
    "    * [Realizar Consultas](#1.2.3)\n",
    "    * [Operaciones sobre el DataFrame](#1.2.4)\n",
    "    * [Agrupar datos](#1.2.5)\n",
    "    * [Visualizaciones Básicas](#1.2.6)\n",
    "\n",
    "* [Caso de estudio: Pokemon Dataset](#1.3)\n",
    "    * [Estadísticas Básicas](#1.3.1)\n",
    "    * [Operaciones y Comparaciones entre Columnas](#1.3.2)\n",
    "    * [Visualización Estadística de Datos](#1.3.3)\n",
    "    \n",
    "* [Caso de estudio: SARS-CoV-2 Total Cases Dataset](#1.4)\n",
    "    Pronto...\n",
    "    * [How to combine data from multiple tables?](#1.4.1)\n",
    "    * [How to handle time series data with ease?](#1.4.2)\n",
    "    * [Log Scales](#1.4.3)\n",
    "    * [Gráficos Interactivos con Plotly](#1.4.4)\n"
   ]
  },
  {
   "cell_type": "markdown",
   "metadata": {},
   "source": [
    "<div id=\"requisitos\"></div>"
   ]
  },
  {
   "cell_type": "markdown",
   "metadata": {
    "colab_type": "text",
    "id": "LauQ9LVC1KzK"
   },
   "source": [
    "# Antes de Comenzar\n",
    "\n",
    "Para tener un primer acercamiento a la **sintaxis** usada en **Pandas** y sus objetos **DataFrame** y **Series** recomiendo enormemente inicar con:\n",
    "\n",
    "<br>\n",
    "<center>\n",
    "    <a href=\"https://pandas.pydata.org/pandas-docs/stable/getting_started/10min.html\"><h1>10 Minutes to Panda</h1></a>\n",
    "</center>\n",
    "\n",
    "Puede serguir con el resto de las secciones solo al menos entiendes los conceptos: \n",
    "* ¿Qué es un `pd.DataFrame` y un `pd.Series`?\n",
    "* Sabes como utilizar `iloc, loc, at` y sus derivados.\n",
    "* Entiendes como manejar datos perdidos (**missing data**)\n",
    "* Operaciones disponibles como: `str` methods, stats methods.\n",
    "* ¿Qué es un `Time Series`?\n",
    "* ¿Qué es un `Categorical`?"
   ]
  },
  {
   "cell_type": "markdown",
   "metadata": {},
   "source": [
    "<div id=\"1.1\"></div>"
   ]
  },
  {
   "cell_type": "markdown",
   "metadata": {
    "colab_type": "text",
    "id": "Cw6b_lYl1KzC"
   },
   "source": [
    "# Análisis Exploratorio de Datos\n",
    "\n",
    "<img src=\"https://www.aiche.org/sites/default/files/images/webinar/shutterstock357106388.jpg\" width=\"60%\"></img>"
   ]
  },
  {
   "cell_type": "markdown",
   "metadata": {},
   "source": [
    "<div id=\"1.1.1\"></div>"
   ]
  },
  {
   "cell_type": "markdown",
   "metadata": {
    "colab_type": "text",
    "id": "Cw6b_lYl1KzC"
   },
   "source": [
    "## ¿Por qué es importante?\n",
    "\n",
    "**Análisis exploratorio y visualizacion** de datos son dos pilares fundamentales del toobox de un **data scientist**.\n",
    "\n",
    "A través de la exploraración de los datos y su visualización podemos descubrir siertos patrones, comportamientos o anomalías en nuestros datos. De esta forma podemos llegar **formular mejores hipotesis**.\n",
    "\n",
    "Un análisis exploratiorio queremos **descubir que historia nos quieren contar los datos**."
   ]
  },
  {
   "cell_type": "markdown",
   "metadata": {},
   "source": [
    "<div id=\"1.1.2\"></div>"
   ]
  },
  {
   "cell_type": "markdown",
   "metadata": {
    "colab_type": "text",
    "id": "5qzX5yBo1KzG"
   },
   "source": [
    "## Manipulación de datos con Pandas\n",
    "\n",
    "[Pandas](http://pandas.pydata.org/) (panel data) es un módulo de Python que nos provee de estructuras de datos, alto desempeño y herramientas para el análisis de datos.\n",
    "\n",
    "Por lo general, como data scientist trabajaremos con datos en forma de tablas, estos por lo general se encuentran almacenados en formatos csv, xlsx, tsv, entre otros. Pandas nos ofrece una manera conveniente para cargar, procesar, analizar y guardar dichas tablas.\n",
    "\n",
    "$\\gamma$ _Cada vez que te inicias en una nueva herramienta recomiendo el uso de **cheat sheets** para ir aprendiendo sus comandos:_\n",
    "\n",
    "* [Pandas Official Cheat Sheet](https://pandas.pydata.org/Pandas_Cheat_Sheet.pdf)\n",
    "* [Pandas DataCamp 1](https://datacamp-community-prod.s3.amazonaws.com/fbc502d0-46b2-4e1b-b6b0-5402ff273251)\n",
    "* [Pandas DataCamp 2](https://datacamp-community-prod.s3.amazonaws.com/9f0f2ae1-8bd8-4302-a67b-e17f3059d9e8)\n"
   ]
  },
  {
   "cell_type": "code",
   "execution_count": 40,
   "metadata": {
    "colab": {
     "base_uri": "https://localhost:8080/",
     "height": 35
    },
    "colab_type": "code",
    "executionInfo": {
     "elapsed": 1840,
     "status": "ok",
     "timestamp": 1571258327610,
     "user": {
      "displayName": "Sebastián Bórquez",
      "photoUrl": "https://lh3.googleusercontent.com/a-/AAuE7mDq9prvv5Fs07wPfpIQDjXa1CsJkND-eH7LUiX4zw=s64",
      "userId": "11886092938956714392"
     },
     "user_tz": 180
    },
    "id": "PJHAfQ-o1KzH",
    "outputId": "03aa65b5-7920-41bf-b3a7-913886d6b138"
   },
   "outputs": [
    {
     "data": {
      "text/plain": [
       "'1.0.1'"
      ]
     },
     "execution_count": 40,
     "metadata": {},
     "output_type": "execute_result"
    }
   ],
   "source": [
    "import pandas as pd\n",
    "pd.__version__"
   ]
  },
  {
   "cell_type": "markdown",
   "metadata": {},
   "source": [
    "<div id=\"1.1.3\"></div>"
   ]
  },
  {
   "cell_type": "markdown",
   "metadata": {},
   "source": [
    "## ¿Qué gráfico usar?\n",
    "\n",
    "\n",
    "Buenas prácticas y consejos.\n",
    "\n",
    "Proximamente.\n",
    "\n"
   ]
  },
  {
   "cell_type": "markdown",
   "metadata": {},
   "source": [
    "<div id=\"1.2\"></div>"
   ]
  },
  {
   "cell_type": "markdown",
   "metadata": {
    "colab_type": "text",
    "id": "Cw6b_lYl1KzC"
   },
   "source": [
    "# Caso de estudio: Migraciones en Chile\n",
    "\n",
    "<img src=\"https://www.extranjeria.gob.cl/media/2016/03/logo-migraciones-sin-fondo-1.png\" width=40% height=35%>\n",
    "\n",
    "\n",
    "El caso de estudio que abarca esta sesión consiste en la exploración de datos de **inmigración en Chile** durante el año **2018**. El dataset se encuentra disponible en la página de __[Departamento de Extranjería y Migración](https://www.extranjeria.gob.cl/estadisticas-migratorias/)__ del Ministerio del Interior y Seguridad Pública.\n",
    "\n",
    "__Descarga el datasets desde este [link](https://github.com/sborquez/Python-LEC/blob/master/data/Formato-WEB-PDs-2005-2016.xlsx?raw=true).__\n"
   ]
  },
  {
   "cell_type": "code",
   "execution_count": 41,
   "metadata": {
    "colab": {},
    "colab_type": "code",
    "id": "s5sILzNu1KzD"
   },
   "outputs": [],
   "source": [
    "#dataset_path = \"https://labcomp.cl/~sborquez/datasets/chile/Formato-WEB-PDs-2005-2016.xlsx\""
   ]
  },
  {
   "cell_type": "markdown",
   "metadata": {},
   "source": [
    "<div id=\"1.2.1\"></div>"
   ]
  },
  {
   "cell_type": "markdown",
   "metadata": {
    "colab_type": "text",
    "id": "Ec3Atyzj1KzL"
   },
   "source": [
    "## Carga de Datos\n",
    "\n",
    "El primer paso, cargar el dataset en un `pd.DataFrame` (usaremos el termino `df` para referirnos a una instancia de `pd.DataFrame`). Pandas soporta una variedad de formatos: `.csv`, `.json`, `.xlsx`, entre otros. En este caso, el dataset viene en formato *excel* `.xlsx`. \n",
    "\n",
    "La función **`pd.read_excel()`** nos entrega un `DataFrame`, el cual es la representación que utiliza Pandas para una tabla ded datos. La tabla, al igual que en excel, posee tanto los nombres de las columnas, indices y los valores de los datos contenidos en la tabla."
   ]
  },
  {
   "cell_type": "markdown",
   "metadata": {},
   "source": [
    "$\\gamma$ _Usamo el signo `?` al final de una funcion, clase o método para obtener una ayuda._"
   ]
  },
  {
   "cell_type": "code",
   "execution_count": 42,
   "metadata": {
    "colab": {
     "base_uri": "https://localhost:8080/",
     "height": 35
    },
    "colab_type": "code",
    "executionInfo": {
     "elapsed": 44301,
     "status": "ok",
     "timestamp": 1571258380082,
     "user": {
      "displayName": "Sebastián Bórquez",
      "photoUrl": "https://lh3.googleusercontent.com/a-/AAuE7mDq9prvv5Fs07wPfpIQDjXa1CsJkND-eH7LUiX4zw=s64",
      "userId": "11886092938956714392"
     },
     "user_tz": 180
    },
    "id": "qGd5jNxb1KzP",
    "outputId": "0a7138d5-d951-48b7-e1bb-2c5cba43113f"
   },
   "outputs": [],
   "source": [
    "visas =  pd.read_csv ('datos/Formato-WEB-PDs-2005-2016.csv')"
   ]
  },
  {
   "cell_type": "markdown",
   "metadata": {},
   "source": [
    "<div id=\"1.2.2\"></div>"
   ]
  },
  {
   "cell_type": "markdown",
   "metadata": {
    "colab_type": "text",
    "id": "HsykleE01KzR"
   },
   "source": [
    "## Conociendo el DataFrame\n",
    "\n",
    "Antes de comenzar a hacer consultas, visualizaciones, análisis, etc. Es escencial tener una idea de que contiene el `DataFrame`."
   ]
  },
  {
   "cell_type": "markdown",
   "metadata": {},
   "source": [
    "### Información Básica\n",
    "\n",
    "Podemos obtener información de la estructura del `DataFrame`, sus dimensiones, las columnas, y una muestra de los datos."
   ]
  },
  {
   "cell_type": "code",
   "execution_count": 43,
   "metadata": {
    "colab": {
     "base_uri": "https://localhost:8080/",
     "height": 329
    },
    "colab_type": "code",
    "executionInfo": {
     "elapsed": 871,
     "status": "ok",
     "timestamp": 1571258562862,
     "user": {
      "displayName": "Sebastián Bórquez",
      "photoUrl": "https://lh3.googleusercontent.com/a-/AAuE7mDq9prvv5Fs07wPfpIQDjXa1CsJkND-eH7LUiX4zw=s64",
      "userId": "11886092938956714392"
     },
     "user_tz": 180
    },
    "id": "uY7iErgU1KzR",
    "outputId": "a8e03133-94a3-45c9-9bf3-5536341e4c27"
   },
   "outputs": [
    {
     "name": "stdout",
     "output_type": "stream",
     "text": [
      "<class 'pandas.core.frame.DataFrame'>\n",
      "RangeIndex: 324932 entries, 0 to 324931\n",
      "Data columns (total 12 columns):\n",
      " #   Column      Non-Null Count   Dtype \n",
      "---  ------      --------------   ----- \n",
      " 0   SEXO        324932 non-null  object\n",
      " 1   NACIMIENTO  324931 non-null  object\n",
      " 2   ACTIVIDAD   324932 non-null  object\n",
      " 3   PROFESION   324932 non-null  object\n",
      " 4   PAIS        324932 non-null  object\n",
      " 5   ESTUDIOS    324932 non-null  object\n",
      " 6   COMUNA      324932 non-null  object\n",
      " 7   PROVINCIA   324932 non-null  object\n",
      " 8   REGION      324932 non-null  object\n",
      " 9   TIT_DEP     323623 non-null  object\n",
      " 10  AÑO         324932 non-null  int64 \n",
      " 11  BENEFICIO   324932 non-null  object\n",
      "dtypes: int64(1), object(11)\n",
      "memory usage: 29.7+ MB\n"
     ]
    }
   ],
   "source": [
    "visas.info()"
   ]
  },
  {
   "cell_type": "code",
   "execution_count": 44,
   "metadata": {},
   "outputs": [
    {
     "data": {
      "text/html": [
       "<div>\n",
       "<style scoped>\n",
       "    .dataframe tbody tr th:only-of-type {\n",
       "        vertical-align: middle;\n",
       "    }\n",
       "\n",
       "    .dataframe tbody tr th {\n",
       "        vertical-align: top;\n",
       "    }\n",
       "\n",
       "    .dataframe thead th {\n",
       "        text-align: right;\n",
       "    }\n",
       "</style>\n",
       "<table border=\"1\" class=\"dataframe\">\n",
       "  <thead>\n",
       "    <tr style=\"text-align: right;\">\n",
       "      <th></th>\n",
       "      <th>AÑO</th>\n",
       "    </tr>\n",
       "  </thead>\n",
       "  <tbody>\n",
       "    <tr>\n",
       "      <th>count</th>\n",
       "      <td>324932.000000</td>\n",
       "    </tr>\n",
       "    <tr>\n",
       "      <th>mean</th>\n",
       "      <td>2011.956988</td>\n",
       "    </tr>\n",
       "    <tr>\n",
       "      <th>std</th>\n",
       "      <td>3.314549</td>\n",
       "    </tr>\n",
       "    <tr>\n",
       "      <th>min</th>\n",
       "      <td>2005.000000</td>\n",
       "    </tr>\n",
       "    <tr>\n",
       "      <th>25%</th>\n",
       "      <td>2009.000000</td>\n",
       "    </tr>\n",
       "    <tr>\n",
       "      <th>50%</th>\n",
       "      <td>2013.000000</td>\n",
       "    </tr>\n",
       "    <tr>\n",
       "      <th>75%</th>\n",
       "      <td>2015.000000</td>\n",
       "    </tr>\n",
       "    <tr>\n",
       "      <th>max</th>\n",
       "      <td>2016.000000</td>\n",
       "    </tr>\n",
       "  </tbody>\n",
       "</table>\n",
       "</div>"
      ],
      "text/plain": [
       "                 AÑO\n",
       "count  324932.000000\n",
       "mean     2011.956988\n",
       "std         3.314549\n",
       "min      2005.000000\n",
       "25%      2009.000000\n",
       "50%      2013.000000\n",
       "75%      2015.000000\n",
       "max      2016.000000"
      ]
     },
     "execution_count": 44,
     "metadata": {},
     "output_type": "execute_result"
    }
   ],
   "source": [
    "# Solo funciona con columnas numericas (int o float)\n",
    "visas.describe()"
   ]
  },
  {
   "cell_type": "code",
   "execution_count": 45,
   "metadata": {
    "colab": {
     "base_uri": "https://localhost:8080/",
     "height": 87
    },
    "colab_type": "code",
    "executionInfo": {
     "elapsed": 1344,
     "status": "ok",
     "timestamp": 1571258645686,
     "user": {
      "displayName": "Sebastián Bórquez",
      "photoUrl": "https://lh3.googleusercontent.com/a-/AAuE7mDq9prvv5Fs07wPfpIQDjXa1CsJkND-eH7LUiX4zw=s64",
      "userId": "11886092938956714392"
     },
     "user_tz": 180
    },
    "id": "lSWyGubE1KzU",
    "outputId": "34f90b7f-d297-4d72-de2f-aee48ad887bf"
   },
   "outputs": [
    {
     "name": "stdout",
     "output_type": "stream",
     "text": [
      "Cantidad de filas: 324932\n",
      "Dimensiones: (324932, 12)\n",
      "Cantidad de valores: 3899184\n",
      "Columnas:  SEXO NACIMIENTO ACTIVIDAD PROFESION PAIS ESTUDIOS COMUNA PROVINCIA REGION TIT_DEP AÑO BENEFICIO\n"
     ]
    }
   ],
   "source": [
    "print(f\"Cantidad de filas: {len(visas)}\")\n",
    "print(f\"Dimensiones: {visas.shape}\")\n",
    "print(f\"Cantidad de valores: {visas.size}\")\n",
    "\n",
    "# El simbolo '*' es especial en Python. Junto a un iterable, este se 'desenrolla'. \n",
    "# En consecuencia, se le pasan los items del iterable a la funcion print\n",
    "print(\"Columnas: \", *visas.columns)"
   ]
  },
  {
   "cell_type": "markdown",
   "metadata": {
    "colab_type": "text",
    "id": "7ligde-S1KzW"
   },
   "source": [
    "Podemos hacernos una idea del contenido del `DataFrame` utilizando los métodos **`df.head(n)`** y **`df.tail(n)`**. Tal como sus nombres lo indican, muestran los **`n`** primeros o **`n`** últimas filas del `DataFrame`."
   ]
  },
  {
   "cell_type": "code",
   "execution_count": 46,
   "metadata": {
    "colab": {
     "base_uri": "https://localhost:8080/",
     "height": 289
    },
    "colab_type": "code",
    "executionInfo": {
     "elapsed": 2766,
     "status": "ok",
     "timestamp": 1571258665540,
     "user": {
      "displayName": "Sebastián Bórquez",
      "photoUrl": "https://lh3.googleusercontent.com/a-/AAuE7mDq9prvv5Fs07wPfpIQDjXa1CsJkND-eH7LUiX4zw=s64",
      "userId": "11886092938956714392"
     },
     "user_tz": 180
    },
    "id": "nuMz42z91KzW",
    "outputId": "395a8948-e9f9-411d-d539-8f1c28b5b7e8"
   },
   "outputs": [
    {
     "data": {
      "text/html": [
       "<div>\n",
       "<style scoped>\n",
       "    .dataframe tbody tr th:only-of-type {\n",
       "        vertical-align: middle;\n",
       "    }\n",
       "\n",
       "    .dataframe tbody tr th {\n",
       "        vertical-align: top;\n",
       "    }\n",
       "\n",
       "    .dataframe thead th {\n",
       "        text-align: right;\n",
       "    }\n",
       "</style>\n",
       "<table border=\"1\" class=\"dataframe\">\n",
       "  <thead>\n",
       "    <tr style=\"text-align: right;\">\n",
       "      <th></th>\n",
       "      <th>SEXO</th>\n",
       "      <th>NACIMIENTO</th>\n",
       "      <th>ACTIVIDAD</th>\n",
       "      <th>PROFESION</th>\n",
       "      <th>PAIS</th>\n",
       "      <th>ESTUDIOS</th>\n",
       "      <th>COMUNA</th>\n",
       "      <th>PROVINCIA</th>\n",
       "      <th>REGION</th>\n",
       "      <th>TIT_DEP</th>\n",
       "      <th>AÑO</th>\n",
       "      <th>BENEFICIO</th>\n",
       "    </tr>\n",
       "  </thead>\n",
       "  <tbody>\n",
       "    <tr>\n",
       "      <th>0</th>\n",
       "      <td>Femenino</td>\n",
       "      <td>10/5/1974</td>\n",
       "      <td>EMPLEADO</td>\n",
       "      <td>MATRONA</td>\n",
       "      <td>PERÚ</td>\n",
       "      <td>no indica</td>\n",
       "      <td>SANTIAGO</td>\n",
       "      <td>SANTIAGO</td>\n",
       "      <td>METROPOLITANA</td>\n",
       "      <td>T</td>\n",
       "      <td>2006</td>\n",
       "      <td>PERMANENCIA DEFINITIVA</td>\n",
       "    </tr>\n",
       "    <tr>\n",
       "      <th>1</th>\n",
       "      <td>Masculino</td>\n",
       "      <td>9/13/1949</td>\n",
       "      <td>EMPLEADO</td>\n",
       "      <td>INGENIERO</td>\n",
       "      <td>ECUADOR</td>\n",
       "      <td>no indica</td>\n",
       "      <td>PROVIDENCIA</td>\n",
       "      <td>SANTIAGO</td>\n",
       "      <td>METROPOLITANA</td>\n",
       "      <td>T</td>\n",
       "      <td>2007</td>\n",
       "      <td>PERMANENCIA DEFINITIVA</td>\n",
       "    </tr>\n",
       "    <tr>\n",
       "      <th>2</th>\n",
       "      <td>Femenino</td>\n",
       "      <td>12/7/1949</td>\n",
       "      <td>EMPLEADO</td>\n",
       "      <td>ASESORA DEL HOGAR</td>\n",
       "      <td>BOLIVIA</td>\n",
       "      <td>BASICO</td>\n",
       "      <td>ARICA</td>\n",
       "      <td>ARICA</td>\n",
       "      <td>ARICA Y PARINACOTA</td>\n",
       "      <td>T</td>\n",
       "      <td>2007</td>\n",
       "      <td>PERMANENCIA DEFINITIVA</td>\n",
       "    </tr>\n",
       "    <tr>\n",
       "      <th>3</th>\n",
       "      <td>Femenino</td>\n",
       "      <td>9/20/1966</td>\n",
       "      <td>DUEÑA DE CASA</td>\n",
       "      <td>DUEÑA DE CASA</td>\n",
       "      <td>BOLIVIA</td>\n",
       "      <td>MEDIO</td>\n",
       "      <td>ARICA</td>\n",
       "      <td>ARICA</td>\n",
       "      <td>ARICA Y PARINACOTA</td>\n",
       "      <td>T</td>\n",
       "      <td>2006</td>\n",
       "      <td>PERMANENCIA DEFINITIVA</td>\n",
       "    </tr>\n",
       "    <tr>\n",
       "      <th>4</th>\n",
       "      <td>Masculino</td>\n",
       "      <td>8/15/1981</td>\n",
       "      <td>EMPRESARIO O PATRON</td>\n",
       "      <td>COMERCIANTE</td>\n",
       "      <td>BRASIL</td>\n",
       "      <td>no indica</td>\n",
       "      <td>LAS CONDES</td>\n",
       "      <td>SANTIAGO</td>\n",
       "      <td>METROPOLITANA</td>\n",
       "      <td>T</td>\n",
       "      <td>2008</td>\n",
       "      <td>PERMANENCIA DEFINITIVA</td>\n",
       "    </tr>\n",
       "  </tbody>\n",
       "</table>\n",
       "</div>"
      ],
      "text/plain": [
       "        SEXO NACIMIENTO            ACTIVIDAD          PROFESION     PAIS  \\\n",
       "0   Femenino  10/5/1974             EMPLEADO            MATRONA     PERÚ   \n",
       "1  Masculino  9/13/1949             EMPLEADO          INGENIERO  ECUADOR   \n",
       "2   Femenino  12/7/1949             EMPLEADO  ASESORA DEL HOGAR  BOLIVIA   \n",
       "3   Femenino  9/20/1966        DUEÑA DE CASA      DUEÑA DE CASA  BOLIVIA   \n",
       "4  Masculino  8/15/1981  EMPRESARIO O PATRON        COMERCIANTE   BRASIL   \n",
       "\n",
       "    ESTUDIOS       COMUNA PROVINCIA              REGION TIT_DEP   AÑO  \\\n",
       "0  no indica     SANTIAGO  SANTIAGO       METROPOLITANA       T  2006   \n",
       "1  no indica  PROVIDENCIA  SANTIAGO       METROPOLITANA       T  2007   \n",
       "2     BASICO        ARICA     ARICA  ARICA Y PARINACOTA       T  2007   \n",
       "3      MEDIO        ARICA     ARICA  ARICA Y PARINACOTA       T  2006   \n",
       "4  no indica   LAS CONDES  SANTIAGO       METROPOLITANA       T  2008   \n",
       "\n",
       "                BENEFICIO  \n",
       "0  PERMANENCIA DEFINITIVA  \n",
       "1  PERMANENCIA DEFINITIVA  \n",
       "2  PERMANENCIA DEFINITIVA  \n",
       "3  PERMANENCIA DEFINITIVA  \n",
       "4  PERMANENCIA DEFINITIVA  "
      ]
     },
     "execution_count": 46,
     "metadata": {},
     "output_type": "execute_result"
    }
   ],
   "source": [
    "visas.head(5)"
   ]
  },
  {
   "cell_type": "code",
   "execution_count": 47,
   "metadata": {
    "colab": {
     "base_uri": "https://localhost:8080/",
     "height": 343
    },
    "colab_type": "code",
    "executionInfo": {
     "elapsed": 2092,
     "status": "ok",
     "timestamp": 1571258665541,
     "user": {
      "displayName": "Sebastián Bórquez",
      "photoUrl": "https://lh3.googleusercontent.com/a-/AAuE7mDq9prvv5Fs07wPfpIQDjXa1CsJkND-eH7LUiX4zw=s64",
      "userId": "11886092938956714392"
     },
     "user_tz": 180
    },
    "id": "DIijoM5j1KzZ",
    "outputId": "1b64638e-0260-4b6c-9f20-5a588201b42c"
   },
   "outputs": [
    {
     "data": {
      "text/html": [
       "<div>\n",
       "<style scoped>\n",
       "    .dataframe tbody tr th:only-of-type {\n",
       "        vertical-align: middle;\n",
       "    }\n",
       "\n",
       "    .dataframe tbody tr th {\n",
       "        vertical-align: top;\n",
       "    }\n",
       "\n",
       "    .dataframe thead th {\n",
       "        text-align: right;\n",
       "    }\n",
       "</style>\n",
       "<table border=\"1\" class=\"dataframe\">\n",
       "  <thead>\n",
       "    <tr style=\"text-align: right;\">\n",
       "      <th></th>\n",
       "      <th>SEXO</th>\n",
       "      <th>NACIMIENTO</th>\n",
       "      <th>ACTIVIDAD</th>\n",
       "      <th>PROFESION</th>\n",
       "      <th>PAIS</th>\n",
       "      <th>ESTUDIOS</th>\n",
       "      <th>COMUNA</th>\n",
       "      <th>PROVINCIA</th>\n",
       "      <th>REGION</th>\n",
       "      <th>TIT_DEP</th>\n",
       "      <th>AÑO</th>\n",
       "      <th>BENEFICIO</th>\n",
       "    </tr>\n",
       "  </thead>\n",
       "  <tbody>\n",
       "    <tr>\n",
       "      <th>324927</th>\n",
       "      <td>Masculino</td>\n",
       "      <td>3/18/1986</td>\n",
       "      <td>INACTIVO</td>\n",
       "      <td>EMPLEADO</td>\n",
       "      <td>ESPAÑA</td>\n",
       "      <td>NO INFORMA</td>\n",
       "      <td>LAS CONDES</td>\n",
       "      <td>SANTIAGO</td>\n",
       "      <td>METROPOLITANA</td>\n",
       "      <td>T</td>\n",
       "      <td>2016</td>\n",
       "      <td>PERMANENCIA DEFINITIVA</td>\n",
       "    </tr>\n",
       "    <tr>\n",
       "      <th>324928</th>\n",
       "      <td>Masculino</td>\n",
       "      <td>6/27/1977</td>\n",
       "      <td>NO INFORMA</td>\n",
       "      <td>NO INFORMA</td>\n",
       "      <td>MEXICO</td>\n",
       "      <td>NO INFORMA</td>\n",
       "      <td>LAS CONDES</td>\n",
       "      <td>SANTIAGO</td>\n",
       "      <td>METROPOLITANA</td>\n",
       "      <td>T</td>\n",
       "      <td>2016</td>\n",
       "      <td>PERMANENCIA DEFINITIVA</td>\n",
       "    </tr>\n",
       "    <tr>\n",
       "      <th>324929</th>\n",
       "      <td>Masculino</td>\n",
       "      <td>4/7/1954</td>\n",
       "      <td>NO INFORMA</td>\n",
       "      <td>NO INFORMA</td>\n",
       "      <td>CHINA REPUBLICA POPULAR</td>\n",
       "      <td>NO INFORMA</td>\n",
       "      <td>LAMPA</td>\n",
       "      <td>CHACABUCO</td>\n",
       "      <td>METROPOLITANA</td>\n",
       "      <td>T</td>\n",
       "      <td>2016</td>\n",
       "      <td>PERMANENCIA DEFINITIVA</td>\n",
       "    </tr>\n",
       "    <tr>\n",
       "      <th>324930</th>\n",
       "      <td>Femenino</td>\n",
       "      <td>5/3/1989</td>\n",
       "      <td>EMPLEADO</td>\n",
       "      <td>ADMINISTRADOR</td>\n",
       "      <td>CHINA REPUBLICA POPULAR</td>\n",
       "      <td>NO INFORMA</td>\n",
       "      <td>TALCA</td>\n",
       "      <td>TALCA</td>\n",
       "      <td>MAULE</td>\n",
       "      <td>T</td>\n",
       "      <td>2016</td>\n",
       "      <td>PERMANENCIA DEFINITIVA</td>\n",
       "    </tr>\n",
       "    <tr>\n",
       "      <th>324931</th>\n",
       "      <td>Femenino</td>\n",
       "      <td>3/26/1965</td>\n",
       "      <td>RELIGIOSO</td>\n",
       "      <td>RELIGIOSO</td>\n",
       "      <td>ESPAÑA</td>\n",
       "      <td>TECNICO</td>\n",
       "      <td>QUINTA NORMAL</td>\n",
       "      <td>SANTIAGO</td>\n",
       "      <td>METROPOLITANA</td>\n",
       "      <td>T</td>\n",
       "      <td>2016</td>\n",
       "      <td>PERMANENCIA DEFINITIVA</td>\n",
       "    </tr>\n",
       "  </tbody>\n",
       "</table>\n",
       "</div>"
      ],
      "text/plain": [
       "             SEXO NACIMIENTO   ACTIVIDAD      PROFESION  \\\n",
       "324927  Masculino  3/18/1986    INACTIVO       EMPLEADO   \n",
       "324928  Masculino  6/27/1977  NO INFORMA     NO INFORMA   \n",
       "324929  Masculino   4/7/1954  NO INFORMA     NO INFORMA   \n",
       "324930   Femenino   5/3/1989    EMPLEADO  ADMINISTRADOR   \n",
       "324931   Femenino  3/26/1965   RELIGIOSO      RELIGIOSO   \n",
       "\n",
       "                           PAIS    ESTUDIOS         COMUNA  PROVINCIA  \\\n",
       "324927                   ESPAÑA  NO INFORMA     LAS CONDES   SANTIAGO   \n",
       "324928                   MEXICO  NO INFORMA     LAS CONDES   SANTIAGO   \n",
       "324929  CHINA REPUBLICA POPULAR  NO INFORMA          LAMPA  CHACABUCO   \n",
       "324930  CHINA REPUBLICA POPULAR  NO INFORMA          TALCA      TALCA   \n",
       "324931                   ESPAÑA     TECNICO  QUINTA NORMAL   SANTIAGO   \n",
       "\n",
       "               REGION TIT_DEP   AÑO               BENEFICIO  \n",
       "324927  METROPOLITANA       T  2016  PERMANENCIA DEFINITIVA  \n",
       "324928  METROPOLITANA       T  2016  PERMANENCIA DEFINITIVA  \n",
       "324929  METROPOLITANA       T  2016  PERMANENCIA DEFINITIVA  \n",
       "324930          MAULE       T  2016  PERMANENCIA DEFINITIVA  \n",
       "324931  METROPOLITANA       T  2016  PERMANENCIA DEFINITIVA  "
      ]
     },
     "execution_count": 47,
     "metadata": {},
     "output_type": "execute_result"
    }
   ],
   "source": [
    "visas.tail(5)"
   ]
  },
  {
   "cell_type": "markdown",
   "metadata": {},
   "source": [
    "Otro método es **`df.sample(n)`**, esta vez son filas seleccionadas de forma aleatoria."
   ]
  },
  {
   "cell_type": "code",
   "execution_count": 48,
   "metadata": {},
   "outputs": [
    {
     "data": {
      "text/html": [
       "<div>\n",
       "<style scoped>\n",
       "    .dataframe tbody tr th:only-of-type {\n",
       "        vertical-align: middle;\n",
       "    }\n",
       "\n",
       "    .dataframe tbody tr th {\n",
       "        vertical-align: top;\n",
       "    }\n",
       "\n",
       "    .dataframe thead th {\n",
       "        text-align: right;\n",
       "    }\n",
       "</style>\n",
       "<table border=\"1\" class=\"dataframe\">\n",
       "  <thead>\n",
       "    <tr style=\"text-align: right;\">\n",
       "      <th></th>\n",
       "      <th>SEXO</th>\n",
       "      <th>NACIMIENTO</th>\n",
       "      <th>ACTIVIDAD</th>\n",
       "      <th>PROFESION</th>\n",
       "      <th>PAIS</th>\n",
       "      <th>ESTUDIOS</th>\n",
       "      <th>COMUNA</th>\n",
       "      <th>PROVINCIA</th>\n",
       "      <th>REGION</th>\n",
       "      <th>TIT_DEP</th>\n",
       "      <th>AÑO</th>\n",
       "      <th>BENEFICIO</th>\n",
       "    </tr>\n",
       "  </thead>\n",
       "  <tbody>\n",
       "    <tr>\n",
       "      <th>232532</th>\n",
       "      <td>Masculino</td>\n",
       "      <td>6/22/1973</td>\n",
       "      <td>EMPLEADO</td>\n",
       "      <td>EMPLEADO</td>\n",
       "      <td>REPÚBLICA DOMINICANA</td>\n",
       "      <td>MEDIO</td>\n",
       "      <td>SANTIAGO</td>\n",
       "      <td>SANTIAGO</td>\n",
       "      <td>METROPOLITANA</td>\n",
       "      <td>T</td>\n",
       "      <td>2015</td>\n",
       "      <td>PERMANENCIA DEFINITIVA</td>\n",
       "    </tr>\n",
       "    <tr>\n",
       "      <th>76209</th>\n",
       "      <td>Masculino</td>\n",
       "      <td>5/9/1993</td>\n",
       "      <td>ESTUDIANTE</td>\n",
       "      <td>ESTUDIANTE</td>\n",
       "      <td>ARGENTINA</td>\n",
       "      <td>MEDIO</td>\n",
       "      <td>PEÑALOLEN</td>\n",
       "      <td>SANTIAGO</td>\n",
       "      <td>METROPOLITANA</td>\n",
       "      <td>D</td>\n",
       "      <td>2008</td>\n",
       "      <td>PERMANENCIA DEFINITIVA</td>\n",
       "    </tr>\n",
       "    <tr>\n",
       "      <th>124302</th>\n",
       "      <td>Femenino</td>\n",
       "      <td>12/1/1976</td>\n",
       "      <td>EMPLEADO DOMESTICO</td>\n",
       "      <td>ASESORA DEL HOGAR</td>\n",
       "      <td>PERÚ</td>\n",
       "      <td>no indica</td>\n",
       "      <td>VITACURA</td>\n",
       "      <td>SANTIAGO</td>\n",
       "      <td>METROPOLITANA</td>\n",
       "      <td>T</td>\n",
       "      <td>2010</td>\n",
       "      <td>PERMANENCIA DEFINITIVA</td>\n",
       "    </tr>\n",
       "    <tr>\n",
       "      <th>149448</th>\n",
       "      <td>Femenino</td>\n",
       "      <td>3/9/1978</td>\n",
       "      <td>EMPLEADO</td>\n",
       "      <td>MARCKETING</td>\n",
       "      <td>RUMANIA</td>\n",
       "      <td>TECNICO</td>\n",
       "      <td>ÑUÑOA</td>\n",
       "      <td>SANTIAGO</td>\n",
       "      <td>METROPOLITANA</td>\n",
       "      <td>T</td>\n",
       "      <td>2013</td>\n",
       "      <td>PERMANENCIA DEFINITIVA</td>\n",
       "    </tr>\n",
       "    <tr>\n",
       "      <th>321529</th>\n",
       "      <td>Femenino</td>\n",
       "      <td>1/10/2010</td>\n",
       "      <td>ESTUDIANTE</td>\n",
       "      <td>ESTUDIANTE</td>\n",
       "      <td>COLOMBIA</td>\n",
       "      <td>no indica</td>\n",
       "      <td>ANTOFAGASTA</td>\n",
       "      <td>ANTOFAGASTA</td>\n",
       "      <td>ANTOFAGASTA</td>\n",
       "      <td>D</td>\n",
       "      <td>2016</td>\n",
       "      <td>PERMANENCIA DEFINITIVA</td>\n",
       "    </tr>\n",
       "  </tbody>\n",
       "</table>\n",
       "</div>"
      ],
      "text/plain": [
       "             SEXO NACIMIENTO           ACTIVIDAD          PROFESION  \\\n",
       "232532  Masculino  6/22/1973            EMPLEADO           EMPLEADO   \n",
       "76209   Masculino   5/9/1993          ESTUDIANTE         ESTUDIANTE   \n",
       "124302   Femenino  12/1/1976  EMPLEADO DOMESTICO  ASESORA DEL HOGAR   \n",
       "149448   Femenino   3/9/1978            EMPLEADO         MARCKETING   \n",
       "321529   Femenino  1/10/2010          ESTUDIANTE         ESTUDIANTE   \n",
       "\n",
       "                        PAIS   ESTUDIOS       COMUNA    PROVINCIA  \\\n",
       "232532  REPÚBLICA DOMINICANA      MEDIO     SANTIAGO     SANTIAGO   \n",
       "76209              ARGENTINA      MEDIO    PEÑALOLEN     SANTIAGO   \n",
       "124302                  PERÚ  no indica     VITACURA     SANTIAGO   \n",
       "149448               RUMANIA    TECNICO        ÑUÑOA     SANTIAGO   \n",
       "321529              COLOMBIA  no indica  ANTOFAGASTA  ANTOFAGASTA   \n",
       "\n",
       "               REGION TIT_DEP   AÑO               BENEFICIO  \n",
       "232532  METROPOLITANA       T  2015  PERMANENCIA DEFINITIVA  \n",
       "76209   METROPOLITANA       D  2008  PERMANENCIA DEFINITIVA  \n",
       "124302  METROPOLITANA       T  2010  PERMANENCIA DEFINITIVA  \n",
       "149448  METROPOLITANA       T  2013  PERMANENCIA DEFINITIVA  \n",
       "321529    ANTOFAGASTA       D  2016  PERMANENCIA DEFINITIVA  "
      ]
     },
     "execution_count": 48,
     "metadata": {},
     "output_type": "execute_result"
    }
   ],
   "source": [
    "visas.sample(5)"
   ]
  },
  {
   "cell_type": "markdown",
   "metadata": {
    "colab_type": "text",
    "id": "28b46zjo1Kzb"
   },
   "source": [
    "### Valores por columna\n",
    "\n",
    "A continuación, se hará una exploración de las columnas."
   ]
  },
  {
   "cell_type": "code",
   "execution_count": 49,
   "metadata": {
    "colab": {
     "base_uri": "https://localhost:8080/",
     "height": 225
    },
    "colab_type": "code",
    "executionInfo": {
     "elapsed": 1145,
     "status": "ok",
     "timestamp": 1571258709049,
     "user": {
      "displayName": "Sebastián Bórquez",
      "photoUrl": "https://lh3.googleusercontent.com/a-/AAuE7mDq9prvv5Fs07wPfpIQDjXa1CsJkND-eH7LUiX4zw=s64",
      "userId": "11886092938956714392"
     },
     "user_tz": 180
    },
    "id": "ZUh7DYbX1Kzc",
    "outputId": "66f65638-8459-44eb-ded9-38d4ac8b9d2e"
   },
   "outputs": [
    {
     "name": "stdout",
     "output_type": "stream",
     "text": [
      "La columna SEXO tiene 2 valores diferentes.\n",
      "La columna NACIMIENTO tiene 27688 valores diferentes.\n",
      "La columna ACTIVIDAD tiene 15 valores diferentes.\n",
      "La columna PROFESION tiene 599 valores diferentes.\n",
      "La columna PAIS tiene 164 valores diferentes.\n",
      "La columna ESTUDIOS tiene 8 valores diferentes.\n",
      "La columna COMUNA tiene 351 valores diferentes.\n",
      "La columna PROVINCIA tiene 55 valores diferentes.\n",
      "La columna REGION tiene 15 valores diferentes.\n",
      "La columna TIT_DEP tiene 2 valores diferentes.\n",
      "La columna AÑO tiene 12 valores diferentes.\n",
      "La columna BENEFICIO tiene 2 valores diferentes.\n"
     ]
    }
   ],
   "source": [
    "# Al iterar un df, se obtienen los nombres de las columnas\n",
    "for columna in visas:\n",
    "    \n",
    "    # Una forma de acccesos a las columnas es como usarlo como un diccionario\n",
    "    datos_columna = visas[columna]\n",
    "    \n",
    "    # Cantidad de valores unicos\n",
    "    distintos = datos_columna.nunique()\n",
    "    \n",
    "    print(f\"La columna {columna} tiene {distintos} valores diferentes.\")"
   ]
  },
  {
   "cell_type": "markdown",
   "metadata": {
    "colab_type": "text",
    "id": "Pmb1s2Jq1Kzf"
   },
   "source": [
    "### Valores de una Columna: \n",
    "\n",
    "¿Cuáles son esos valores diferentes? Para esto, se usa el método `df[<col_name>].unique()`."
   ]
  },
  {
   "cell_type": "code",
   "execution_count": 50,
   "metadata": {
    "colab": {},
    "colab_type": "code",
    "id": "pyB1V1Tn1Kzg",
    "outputId": "a44a64df-43c7-455c-b807-64c8acf03c91"
   },
   "outputs": [
    {
     "name": "stdout",
     "output_type": "stream",
     "text": [
      "Valores distintos de la columna ESTUDIOS: ['no indica' 'BASICO' 'MEDIO' 'TECNICO' 'UNIVERSITARIO' 'NO INFORMA'\n",
      " 'NINGUNO' 'PREBASICO'].\n"
     ]
    }
   ],
   "source": [
    "columna = \"ESTUDIOS\"\n",
    "print(f\"Valores distintos de la columna {columna}: {visas[columna].unique()}.\")"
   ]
  },
  {
   "cell_type": "markdown",
   "metadata": {
    "colab_type": "text",
    "id": "N4w4IIXd1Kzh"
   },
   "source": [
    "### Cantidad de individuos por cada valor:\n",
    "\n",
    "Otra pregunta interesante es ¿Cuántas veces aparece cada valor?. Para esto tenemos otro método `df[<col_name>].value_counts()`"
   ]
  },
  {
   "cell_type": "code",
   "execution_count": 51,
   "metadata": {
    "colab": {},
    "colab_type": "code",
    "id": "Ewpmm3w91Kzi",
    "outputId": "11fd878c-4393-4f46-c9a9-8fee17d462b2"
   },
   "outputs": [
    {
     "data": {
      "text/plain": [
       "no indica        105585\n",
       "MEDIO             76010\n",
       "NO INFORMA        46544\n",
       "UNIVERSITARIO     35108\n",
       "BASICO            32790\n",
       "TECNICO           18482\n",
       "NINGUNO            7019\n",
       "PREBASICO          3394\n",
       "Name: ESTUDIOS, dtype: int64"
      ]
     },
     "execution_count": 51,
     "metadata": {},
     "output_type": "execute_result"
    }
   ],
   "source": [
    "# Esta es otra notacion para acceder a las columnas: df.col_name == df[\"col_name\"]\n",
    "visas.ESTUDIOS.value_counts()"
   ]
  },
  {
   "cell_type": "markdown",
   "metadata": {},
   "source": [
    "<div id=\"1.2.3\"></div>"
   ]
  },
  {
   "cell_type": "markdown",
   "metadata": {
    "colab_type": "text",
    "id": "ymWB9iSj1Kzn"
   },
   "source": [
    "## Realizar Consultas\n",
    "\n",
    "Pandas nos ofrece una interface sencilla al momento de realizar consultas al conjunto de datos. A quienes ya han trabajado con Bases de Datos ya deben estar familiarizados con `SQL`, la idea es similar al consultar tablas de Pandas. \n",
    "\n",
    "Por ejemplo, si queremos solo las filas que cumplen una condición usamos la siguiente sintaxis:\n",
    "\n",
    "```python\n",
    "dataframe[<condiciones>]\n",
    "```\n",
    "\n",
    "¿Cuáles son las personas de Perú?. Lo podemos interpretar como, ¿Cuáles son las filas donde **el valor \"Pais\" es igual a \"Perú\"**?\n",
    "\n",
    "Esta condición marcada en negrita, se traduce a la sintaxis de Pandas de la siguiente forma:"
   ]
  },
  {
   "cell_type": "code",
   "execution_count": 52,
   "metadata": {
    "colab": {
     "base_uri": "https://localhost:8080/",
     "height": 121
    },
    "colab_type": "code",
    "executionInfo": {
     "elapsed": 1659,
     "status": "ok",
     "timestamp": 1571237851314,
     "user": {
      "displayName": "Sebastián Bórquez",
      "photoUrl": "https://lh3.googleusercontent.com/a-/AAuE7mDq9prvv5Fs07wPfpIQDjXa1CsJkND-eH7LUiX4zw=s64",
      "userId": "11886092938956714392"
     },
     "user_tz": 180
    },
    "id": "LnrQ4L7rEtHL",
    "outputId": "9a1a58de-51a1-4a3d-96c3-90362da12ded"
   },
   "outputs": [
    {
     "data": {
      "text/plain": [
       "0     True\n",
       "1    False\n",
       "2    False\n",
       "3    False\n",
       "4    False\n",
       "Name: PAIS, dtype: bool"
      ]
     },
     "execution_count": 52,
     "metadata": {},
     "output_type": "execute_result"
    }
   ],
   "source": [
    "# Esto nos entre una pd.Series con valores booleanos si se cumple o no la condición para cada fila\n",
    "(visas[\"PAIS\"] == \"PERÚ\").head(5)"
   ]
  },
  {
   "cell_type": "markdown",
   "metadata": {},
   "source": [
    "Según la sintaxis anterior, basta colocar esta condición entre corchetes."
   ]
  },
  {
   "cell_type": "code",
   "execution_count": 53,
   "metadata": {
    "colab": {},
    "colab_type": "code",
    "id": "tZlQ90rS1Kzn",
    "outputId": "b9776cbe-bdd9-4a09-87dc-d42c91a47303"
   },
   "outputs": [
    {
     "data": {
      "text/html": [
       "<div>\n",
       "<style scoped>\n",
       "    .dataframe tbody tr th:only-of-type {\n",
       "        vertical-align: middle;\n",
       "    }\n",
       "\n",
       "    .dataframe tbody tr th {\n",
       "        vertical-align: top;\n",
       "    }\n",
       "\n",
       "    .dataframe thead th {\n",
       "        text-align: right;\n",
       "    }\n",
       "</style>\n",
       "<table border=\"1\" class=\"dataframe\">\n",
       "  <thead>\n",
       "    <tr style=\"text-align: right;\">\n",
       "      <th></th>\n",
       "      <th>SEXO</th>\n",
       "      <th>NACIMIENTO</th>\n",
       "      <th>ACTIVIDAD</th>\n",
       "      <th>PROFESION</th>\n",
       "      <th>PAIS</th>\n",
       "      <th>ESTUDIOS</th>\n",
       "      <th>COMUNA</th>\n",
       "      <th>PROVINCIA</th>\n",
       "      <th>REGION</th>\n",
       "      <th>TIT_DEP</th>\n",
       "      <th>AÑO</th>\n",
       "      <th>BENEFICIO</th>\n",
       "    </tr>\n",
       "  </thead>\n",
       "  <tbody>\n",
       "    <tr>\n",
       "      <th>0</th>\n",
       "      <td>Femenino</td>\n",
       "      <td>10/5/1974</td>\n",
       "      <td>EMPLEADO</td>\n",
       "      <td>MATRONA</td>\n",
       "      <td>PERÚ</td>\n",
       "      <td>no indica</td>\n",
       "      <td>SANTIAGO</td>\n",
       "      <td>SANTIAGO</td>\n",
       "      <td>METROPOLITANA</td>\n",
       "      <td>T</td>\n",
       "      <td>2006</td>\n",
       "      <td>PERMANENCIA DEFINITIVA</td>\n",
       "    </tr>\n",
       "    <tr>\n",
       "      <th>8</th>\n",
       "      <td>Masculino</td>\n",
       "      <td>8/17/1990</td>\n",
       "      <td>ESTUDIANTE</td>\n",
       "      <td>ESTUDIANTE</td>\n",
       "      <td>PERÚ</td>\n",
       "      <td>no indica</td>\n",
       "      <td>PEÑAFLOR</td>\n",
       "      <td>TALAGANTE</td>\n",
       "      <td>METROPOLITANA</td>\n",
       "      <td>T</td>\n",
       "      <td>2007</td>\n",
       "      <td>PERMANENCIA DEFINITIVA</td>\n",
       "    </tr>\n",
       "    <tr>\n",
       "      <th>9</th>\n",
       "      <td>Femenino</td>\n",
       "      <td>4/8/1964</td>\n",
       "      <td>EMPLEADO</td>\n",
       "      <td>CHEF</td>\n",
       "      <td>PERÚ</td>\n",
       "      <td>no indica</td>\n",
       "      <td>OSORNO</td>\n",
       "      <td>OSORNO</td>\n",
       "      <td>LOS LAGOS</td>\n",
       "      <td>T</td>\n",
       "      <td>2007</td>\n",
       "      <td>PERMANENCIA DEFINITIVA</td>\n",
       "    </tr>\n",
       "    <tr>\n",
       "      <th>11</th>\n",
       "      <td>Masculino</td>\n",
       "      <td>8/31/1961</td>\n",
       "      <td>EMPLEADO</td>\n",
       "      <td>JARDINERO</td>\n",
       "      <td>PERÚ</td>\n",
       "      <td>no indica</td>\n",
       "      <td>CONCHALI</td>\n",
       "      <td>SANTIAGO</td>\n",
       "      <td>METROPOLITANA</td>\n",
       "      <td>T</td>\n",
       "      <td>2007</td>\n",
       "      <td>PERMANENCIA DEFINITIVA</td>\n",
       "    </tr>\n",
       "    <tr>\n",
       "      <th>14</th>\n",
       "      <td>Masculino</td>\n",
       "      <td>1/17/1952</td>\n",
       "      <td>EMPLEADO</td>\n",
       "      <td>MECANICO</td>\n",
       "      <td>PERÚ</td>\n",
       "      <td>MEDIO</td>\n",
       "      <td>POZO ALMONTE</td>\n",
       "      <td>TAMARUGAL</td>\n",
       "      <td>TARAPACA</td>\n",
       "      <td>T</td>\n",
       "      <td>2007</td>\n",
       "      <td>PERMANENCIA DEFINITIVA</td>\n",
       "    </tr>\n",
       "  </tbody>\n",
       "</table>\n",
       "</div>"
      ],
      "text/plain": [
       "         SEXO NACIMIENTO   ACTIVIDAD   PROFESION  PAIS   ESTUDIOS  \\\n",
       "0    Femenino  10/5/1974    EMPLEADO     MATRONA  PERÚ  no indica   \n",
       "8   Masculino  8/17/1990  ESTUDIANTE  ESTUDIANTE  PERÚ  no indica   \n",
       "9    Femenino   4/8/1964    EMPLEADO        CHEF  PERÚ  no indica   \n",
       "11  Masculino  8/31/1961    EMPLEADO   JARDINERO  PERÚ  no indica   \n",
       "14  Masculino  1/17/1952    EMPLEADO    MECANICO  PERÚ      MEDIO   \n",
       "\n",
       "          COMUNA  PROVINCIA         REGION TIT_DEP   AÑO  \\\n",
       "0       SANTIAGO   SANTIAGO  METROPOLITANA       T  2006   \n",
       "8       PEÑAFLOR  TALAGANTE  METROPOLITANA       T  2007   \n",
       "9         OSORNO     OSORNO      LOS LAGOS       T  2007   \n",
       "11      CONCHALI   SANTIAGO  METROPOLITANA       T  2007   \n",
       "14  POZO ALMONTE  TAMARUGAL       TARAPACA       T  2007   \n",
       "\n",
       "                 BENEFICIO  \n",
       "0   PERMANENCIA DEFINITIVA  \n",
       "8   PERMANENCIA DEFINITIVA  \n",
       "9   PERMANENCIA DEFINITIVA  \n",
       "11  PERMANENCIA DEFINITIVA  \n",
       "14  PERMANENCIA DEFINITIVA  "
      ]
     },
     "execution_count": 53,
     "metadata": {},
     "output_type": "execute_result"
    }
   ],
   "source": [
    "visas[visas[\"PAIS\"] == \"PERÚ\"].head(5)"
   ]
  },
  {
   "cell_type": "markdown",
   "metadata": {
    "colab_type": "text",
    "id": "wa2nSmgI1Kzp"
   },
   "source": [
    "O pueden incluir las operaciones lógicas **`AND (&)`**,**`OR (|)`** y **`NOT (~)`** usando varias condiciones como:"
   ]
  },
  {
   "cell_type": "code",
   "execution_count": 54,
   "metadata": {
    "colab": {},
    "colab_type": "code",
    "id": "dUZvs39X1Kzq",
    "outputId": "701232a6-25f0-4e83-e298-524c120a9a04"
   },
   "outputs": [
    {
     "data": {
      "text/html": [
       "<div>\n",
       "<style scoped>\n",
       "    .dataframe tbody tr th:only-of-type {\n",
       "        vertical-align: middle;\n",
       "    }\n",
       "\n",
       "    .dataframe tbody tr th {\n",
       "        vertical-align: top;\n",
       "    }\n",
       "\n",
       "    .dataframe thead th {\n",
       "        text-align: right;\n",
       "    }\n",
       "</style>\n",
       "<table border=\"1\" class=\"dataframe\">\n",
       "  <thead>\n",
       "    <tr style=\"text-align: right;\">\n",
       "      <th></th>\n",
       "      <th>SEXO</th>\n",
       "      <th>NACIMIENTO</th>\n",
       "      <th>ACTIVIDAD</th>\n",
       "      <th>PROFESION</th>\n",
       "      <th>PAIS</th>\n",
       "      <th>ESTUDIOS</th>\n",
       "      <th>COMUNA</th>\n",
       "      <th>PROVINCIA</th>\n",
       "      <th>REGION</th>\n",
       "      <th>TIT_DEP</th>\n",
       "      <th>AÑO</th>\n",
       "      <th>BENEFICIO</th>\n",
       "    </tr>\n",
       "  </thead>\n",
       "  <tbody>\n",
       "    <tr>\n",
       "      <th>226</th>\n",
       "      <td>Masculino</td>\n",
       "      <td>3/7/1985</td>\n",
       "      <td>EMPLEADO</td>\n",
       "      <td>ARTESANO</td>\n",
       "      <td>PERÚ</td>\n",
       "      <td>no indica</td>\n",
       "      <td>VIÑA DEL MAR</td>\n",
       "      <td>VALPARAISO</td>\n",
       "      <td>VALPARAISO</td>\n",
       "      <td>T</td>\n",
       "      <td>2006</td>\n",
       "      <td>PERMANENCIA DEFINITIVA</td>\n",
       "    </tr>\n",
       "    <tr>\n",
       "      <th>1116</th>\n",
       "      <td>Femenino</td>\n",
       "      <td>5/27/1940</td>\n",
       "      <td>JUBILADO O PENSIONADO</td>\n",
       "      <td>EDUCADOR</td>\n",
       "      <td>PERÚ</td>\n",
       "      <td>NO INFORMA</td>\n",
       "      <td>VIÑA DEL MAR</td>\n",
       "      <td>VALPARAISO</td>\n",
       "      <td>VALPARAISO</td>\n",
       "      <td>T</td>\n",
       "      <td>2009</td>\n",
       "      <td>PERMANENCIA DEFINITIVA</td>\n",
       "    </tr>\n",
       "    <tr>\n",
       "      <th>2296</th>\n",
       "      <td>Masculino</td>\n",
       "      <td>4/8/1965</td>\n",
       "      <td>EMPLEADO</td>\n",
       "      <td>PUBLICISTA</td>\n",
       "      <td>PERÚ</td>\n",
       "      <td>TECNICO</td>\n",
       "      <td>VALPARAISO</td>\n",
       "      <td>VALPARAISO</td>\n",
       "      <td>VALPARAISO</td>\n",
       "      <td>T</td>\n",
       "      <td>2015</td>\n",
       "      <td>PERMANENCIA DEFINITIVA</td>\n",
       "    </tr>\n",
       "    <tr>\n",
       "      <th>2782</th>\n",
       "      <td>Femenino</td>\n",
       "      <td>8/15/1974</td>\n",
       "      <td>EMPLEADO DOMESTICO</td>\n",
       "      <td>ASESORA DEL HOGAR</td>\n",
       "      <td>PERÚ</td>\n",
       "      <td>MEDIO</td>\n",
       "      <td>VIÑA DEL MAR</td>\n",
       "      <td>VALPARAISO</td>\n",
       "      <td>VALPARAISO</td>\n",
       "      <td>T</td>\n",
       "      <td>2016</td>\n",
       "      <td>PERMANENCIA DEFINITIVA</td>\n",
       "    </tr>\n",
       "    <tr>\n",
       "      <th>2860</th>\n",
       "      <td>Masculino</td>\n",
       "      <td>9/5/1953</td>\n",
       "      <td>EMPRESARIO O PATRON</td>\n",
       "      <td>EMPRESARIO O PATRON</td>\n",
       "      <td>PERÚ</td>\n",
       "      <td>UNIVERSITARIO</td>\n",
       "      <td>VIÑA DEL MAR</td>\n",
       "      <td>VALPARAISO</td>\n",
       "      <td>VALPARAISO</td>\n",
       "      <td>T</td>\n",
       "      <td>2009</td>\n",
       "      <td>PERMANENCIA DEFINITIVA</td>\n",
       "    </tr>\n",
       "  </tbody>\n",
       "</table>\n",
       "</div>"
      ],
      "text/plain": [
       "           SEXO NACIMIENTO              ACTIVIDAD            PROFESION  PAIS  \\\n",
       "226   Masculino   3/7/1985               EMPLEADO             ARTESANO  PERÚ   \n",
       "1116   Femenino  5/27/1940  JUBILADO O PENSIONADO             EDUCADOR  PERÚ   \n",
       "2296  Masculino   4/8/1965               EMPLEADO           PUBLICISTA  PERÚ   \n",
       "2782   Femenino  8/15/1974     EMPLEADO DOMESTICO    ASESORA DEL HOGAR  PERÚ   \n",
       "2860  Masculino   9/5/1953    EMPRESARIO O PATRON  EMPRESARIO O PATRON  PERÚ   \n",
       "\n",
       "           ESTUDIOS        COMUNA   PROVINCIA      REGION TIT_DEP   AÑO  \\\n",
       "226       no indica  VIÑA DEL MAR  VALPARAISO  VALPARAISO       T  2006   \n",
       "1116     NO INFORMA  VIÑA DEL MAR  VALPARAISO  VALPARAISO       T  2009   \n",
       "2296        TECNICO    VALPARAISO  VALPARAISO  VALPARAISO       T  2015   \n",
       "2782          MEDIO  VIÑA DEL MAR  VALPARAISO  VALPARAISO       T  2016   \n",
       "2860  UNIVERSITARIO  VIÑA DEL MAR  VALPARAISO  VALPARAISO       T  2009   \n",
       "\n",
       "                   BENEFICIO  \n",
       "226   PERMANENCIA DEFINITIVA  \n",
       "1116  PERMANENCIA DEFINITIVA  \n",
       "2296  PERMANENCIA DEFINITIVA  \n",
       "2782  PERMANENCIA DEFINITIVA  \n",
       "2860  PERMANENCIA DEFINITIVA  "
      ]
     },
     "execution_count": 54,
     "metadata": {},
     "output_type": "execute_result"
    }
   ],
   "source": [
    "visas[(visas[\"PAIS\"] == \"PERÚ\") & ((visas[\"COMUNA\"] == \"VIÑA DEL MAR\") | (visas[\"COMUNA\"] == \"VALPARAISO\"))].head(5)"
   ]
  },
  {
   "cell_type": "markdown",
   "metadata": {
    "colab_type": "text",
    "id": "iBYG5LYe1Kzs"
   },
   "source": [
    "Tambien podemos utilizar el método **`isin`** para corroborar con una lista de valores."
   ]
  },
  {
   "cell_type": "code",
   "execution_count": 55,
   "metadata": {
    "colab": {},
    "colab_type": "code",
    "id": "8P_lT72Y1Kzs",
    "outputId": "696002be-b526-4128-fd07-5bf8b98043a9",
    "scrolled": true
   },
   "outputs": [
    {
     "data": {
      "text/html": [
       "<div>\n",
       "<style scoped>\n",
       "    .dataframe tbody tr th:only-of-type {\n",
       "        vertical-align: middle;\n",
       "    }\n",
       "\n",
       "    .dataframe tbody tr th {\n",
       "        vertical-align: top;\n",
       "    }\n",
       "\n",
       "    .dataframe thead th {\n",
       "        text-align: right;\n",
       "    }\n",
       "</style>\n",
       "<table border=\"1\" class=\"dataframe\">\n",
       "  <thead>\n",
       "    <tr style=\"text-align: right;\">\n",
       "      <th></th>\n",
       "      <th>SEXO</th>\n",
       "      <th>NACIMIENTO</th>\n",
       "      <th>ACTIVIDAD</th>\n",
       "      <th>PROFESION</th>\n",
       "      <th>PAIS</th>\n",
       "      <th>ESTUDIOS</th>\n",
       "      <th>COMUNA</th>\n",
       "      <th>PROVINCIA</th>\n",
       "      <th>REGION</th>\n",
       "      <th>TIT_DEP</th>\n",
       "      <th>AÑO</th>\n",
       "      <th>BENEFICIO</th>\n",
       "    </tr>\n",
       "  </thead>\n",
       "  <tbody>\n",
       "    <tr>\n",
       "      <th>8</th>\n",
       "      <td>Masculino</td>\n",
       "      <td>8/17/1990</td>\n",
       "      <td>ESTUDIANTE</td>\n",
       "      <td>ESTUDIANTE</td>\n",
       "      <td>PERÚ</td>\n",
       "      <td>no indica</td>\n",
       "      <td>PEÑAFLOR</td>\n",
       "      <td>TALAGANTE</td>\n",
       "      <td>METROPOLITANA</td>\n",
       "      <td>T</td>\n",
       "      <td>2007</td>\n",
       "      <td>PERMANENCIA DEFINITIVA</td>\n",
       "    </tr>\n",
       "    <tr>\n",
       "      <th>12</th>\n",
       "      <td>Masculino</td>\n",
       "      <td>7/13/1992</td>\n",
       "      <td>ESTUDIANTE</td>\n",
       "      <td>ESTUDIANTE</td>\n",
       "      <td>COLOMBIA</td>\n",
       "      <td>no indica</td>\n",
       "      <td>QUINTA NORMAL</td>\n",
       "      <td>SANTIAGO</td>\n",
       "      <td>METROPOLITANA</td>\n",
       "      <td>D</td>\n",
       "      <td>2006</td>\n",
       "      <td>PERMANENCIA DEFINITIVA</td>\n",
       "    </tr>\n",
       "    <tr>\n",
       "      <th>28</th>\n",
       "      <td>Masculino</td>\n",
       "      <td>8/19/1987</td>\n",
       "      <td>ESTUDIANTE</td>\n",
       "      <td>ESTUDIANTE</td>\n",
       "      <td>PERÚ</td>\n",
       "      <td>UNIVERSITARIO</td>\n",
       "      <td>PUDAHUEL</td>\n",
       "      <td>SANTIAGO</td>\n",
       "      <td>METROPOLITANA</td>\n",
       "      <td>D</td>\n",
       "      <td>2008</td>\n",
       "      <td>PERMANENCIA DEFINITIVA</td>\n",
       "    </tr>\n",
       "    <tr>\n",
       "      <th>38</th>\n",
       "      <td>Femenino</td>\n",
       "      <td>10/3/1985</td>\n",
       "      <td>ESTUDIANTE</td>\n",
       "      <td>ESTUDIANTE</td>\n",
       "      <td>PERÚ</td>\n",
       "      <td>no indica</td>\n",
       "      <td>SANTIAGO</td>\n",
       "      <td>SANTIAGO</td>\n",
       "      <td>METROPOLITANA</td>\n",
       "      <td>T</td>\n",
       "      <td>2006</td>\n",
       "      <td>PERMANENCIA DEFINITIVA</td>\n",
       "    </tr>\n",
       "    <tr>\n",
       "      <th>39</th>\n",
       "      <td>Masculino</td>\n",
       "      <td>2/20/1988</td>\n",
       "      <td>ESTUDIANTE</td>\n",
       "      <td>ESTUDIANTE</td>\n",
       "      <td>PERÚ</td>\n",
       "      <td>no indica</td>\n",
       "      <td>SAN MIGUEL</td>\n",
       "      <td>SANTIAGO</td>\n",
       "      <td>METROPOLITANA</td>\n",
       "      <td>T</td>\n",
       "      <td>2008</td>\n",
       "      <td>PERMANENCIA DEFINITIVA</td>\n",
       "    </tr>\n",
       "  </tbody>\n",
       "</table>\n",
       "</div>"
      ],
      "text/plain": [
       "         SEXO NACIMIENTO   ACTIVIDAD   PROFESION      PAIS       ESTUDIOS  \\\n",
       "8   Masculino  8/17/1990  ESTUDIANTE  ESTUDIANTE      PERÚ      no indica   \n",
       "12  Masculino  7/13/1992  ESTUDIANTE  ESTUDIANTE  COLOMBIA      no indica   \n",
       "28  Masculino  8/19/1987  ESTUDIANTE  ESTUDIANTE      PERÚ  UNIVERSITARIO   \n",
       "38   Femenino  10/3/1985  ESTUDIANTE  ESTUDIANTE      PERÚ      no indica   \n",
       "39  Masculino  2/20/1988  ESTUDIANTE  ESTUDIANTE      PERÚ      no indica   \n",
       "\n",
       "           COMUNA  PROVINCIA         REGION TIT_DEP   AÑO  \\\n",
       "8        PEÑAFLOR  TALAGANTE  METROPOLITANA       T  2007   \n",
       "12  QUINTA NORMAL   SANTIAGO  METROPOLITANA       D  2006   \n",
       "28       PUDAHUEL   SANTIAGO  METROPOLITANA       D  2008   \n",
       "38       SANTIAGO   SANTIAGO  METROPOLITANA       T  2006   \n",
       "39     SAN MIGUEL   SANTIAGO  METROPOLITANA       T  2008   \n",
       "\n",
       "                 BENEFICIO  \n",
       "8   PERMANENCIA DEFINITIVA  \n",
       "12  PERMANENCIA DEFINITIVA  \n",
       "28  PERMANENCIA DEFINITIVA  \n",
       "38  PERMANENCIA DEFINITIVA  \n",
       "39  PERMANENCIA DEFINITIVA  "
      ]
     },
     "execution_count": 55,
     "metadata": {},
     "output_type": "execute_result"
    }
   ],
   "source": [
    "# Si una linea de código es muy larga, podemos dividirla en varia lineas usando el simbolo \"\\\"\n",
    "visas[(visas[\"ACTIVIDAD\"].isin(['ESTUDIANTE'])) & \\\n",
    "      ~(visas[\"ESTUDIOS\"].isin(['PREBASICO','BASICO', 'MEDIO', 'NO INFORMA', 'NINGUNO']))].head(5)"
   ]
  },
  {
   "cell_type": "markdown",
   "metadata": {},
   "source": [
    "<div id=\"1.2.4\"></div>"
   ]
  },
  {
   "cell_type": "markdown",
   "metadata": {
    "colab_type": "text",
    "id": "dkmyWT7r1Kzu"
   },
   "source": [
    "## Operaciones sobre DataFrames\n",
    "\n",
    "No tan solo podemos **acceder** a los valores, podemos **crear** nuevas columnas a partir de las actuales, **modificar** columnas o incluso **eliminar** columnas que no necesitamos.\n",
    "\n",
    "Por ejemplo, podemos crear una nueva columna que obtenga la _edad de las personas_."
   ]
  },
  {
   "cell_type": "code",
   "execution_count": null,
   "metadata": {
    "colab": {
     "base_uri": "https://localhost:8080/",
     "height": 309
    },
    "colab_type": "code",
    "executionInfo": {
     "elapsed": 4676,
     "status": "ok",
     "timestamp": 1571259077406,
     "user": {
      "displayName": "Sebastián Bórquez",
      "photoUrl": "https://lh3.googleusercontent.com/a-/AAuE7mDq9prvv5Fs07wPfpIQDjXa1CsJkND-eH7LUiX4zw=s64",
      "userId": "11886092938956714392"
     },
     "user_tz": 180
    },
    "id": "av0WVu9J1Kzv",
    "outputId": "1b0076ac-974e-45aa-cd2c-ffb53d23dcac",
    "scrolled": true
   },
   "outputs": [],
   "source": [
    "from datetime import datetime\n",
    "\n",
    "visas[\"EDAD\"] = (datetime.now() - pd.to_datetime(visas[\"NACIMIENTO\"])).transform(lambda x: x.days // 365)\n",
    "visas.head(5)\n",
    "\n"
   ]
  },
  {
   "cell_type": "code",
   "execution_count": 101,
   "metadata": {},
   "outputs": [
    {
     "data": {
      "image/png": "[encoded data removed]",
      "text/plain": [
       "<Figure size 432x288 with 1 Axes>"
      ]
     },
     "metadata": {
      "needs_background": "light"
     },
     "output_type": "display_data"
    }
   ],
   "source": [
    "import seaborn as sns\n",
    "\n",
    "\n",
    "ax = sns.boxplot(x=visas[\"EDAD\"])"
   ]
  },
  {
   "cell_type": "code",
   "execution_count": 57,
   "metadata": {},
   "outputs": [
    {
     "data": {
      "text/plain": [
       "0         10/5/1974\n",
       "1         9/13/1949\n",
       "2         12/7/1949\n",
       "3         9/20/1966\n",
       "4         8/15/1981\n",
       "            ...    \n",
       "324927    3/18/1986\n",
       "324928    6/27/1977\n",
       "324929     4/7/1954\n",
       "324930     5/3/1989\n",
       "324931    3/26/1965\n",
       "Name: NACIMIENTO, Length: 324932, dtype: object"
      ]
     },
     "execution_count": 57,
     "metadata": {},
     "output_type": "execute_result"
    }
   ],
   "source": [
    "visas[\"NACIMIENTO\"]"
   ]
  },
  {
   "cell_type": "markdown",
   "metadata": {},
   "source": [
    "El código anterior realiza varias cosas en una sola línea, la analizaremos por partes.\n",
    "\n",
    "Primero, la operación entre **\"Escalar\" y Series.**\n",
    "\n",
    "```Python\n",
    "a = datetime.now() - visas[\"NACIMIENTO\"]\n",
    "```\n",
    "\n",
    "Similar a cuando en el **algebra lineal** operamos un escalar con un vector. Debemos aplicar la operación (suma, resta, multiplicación, etc) entre el escalar y cada elemento del `Series`, siendo el resultado un nuevo `Series` de mismo tamaño.\n",
    "\n",
    "Segundo, **métodos de `Series`**. \n",
    "\n",
    "```Python\n",
    "b = a.transform(lambda x: x.days // 365)\n",
    "```\n",
    "\n",
    "Existen varios métodos de `Series` los cuales realizar alguna operación sobre cada elemento de esta. En este caso, `transform` recibe una función, la cuál se aplica a cada elemento. En el ejemplo, esta transforma las fechas, de dias a años.\n",
    "\n",
    "\n",
    "Tercero, **Asignación de nuevas columnas**\n",
    "\n",
    "Para crear una nueva columna, al igual que un diccionario, basta con asignarle una nueva \"llave\" algún valor. En este caso, el nombre de la columna es la \"llave\", y el \"valor\" es un `Series` del mismo largo de `DataFrame`.\n",
    "\n",
    "```Python\n",
    "visas[\"EDAD\"] = b\n",
    "```"
   ]
  },
  {
   "cell_type": "markdown",
   "metadata": {
    "colab_type": "text",
    "id": "s-29ZfHR1Kz1"
   },
   "source": [
    "Otro ejemplo de método de `Series` es `replace`. Esta modifica columnas reemplazando valores, por ejemplo en la lista de **`ESTUDIOS`** tiene valores que son \"repetidos\" pero tienen diferente nombre. Me refiero a `'no indica'`, `'NO INFORMA'`. Queremos eliminar estos dos valores y dejar solo uno."
   ]
  },
  {
   "cell_type": "code",
   "execution_count": 58,
   "metadata": {
    "colab": {
     "base_uri": "https://localhost:8080/",
     "height": 156
    },
    "colab_type": "code",
    "executionInfo": {
     "elapsed": 1041,
     "status": "ok",
     "timestamp": 1571238238728,
     "user": {
      "displayName": "Sebastián Bórquez",
      "photoUrl": "https://lh3.googleusercontent.com/a-/AAuE7mDq9prvv5Fs07wPfpIQDjXa1CsJkND-eH7LUiX4zw=s64",
      "userId": "11886092938956714392"
     },
     "user_tz": 180
    },
    "id": "Pw_oxfdq1Kz2",
    "outputId": "cb0f49c2-c247-4ece-a0a6-ced932412ee3"
   },
   "outputs": [
    {
     "data": {
      "text/plain": [
       "NO INFORMA       152129\n",
       "MEDIO             76010\n",
       "UNIVERSITARIO     35108\n",
       "BASICO            32790\n",
       "TECNICO           18482\n",
       "NINGUNO            7019\n",
       "PREBASICO          3394\n",
       "Name: ESTUDIOS, dtype: int64"
      ]
     },
     "execution_count": 58,
     "metadata": {},
     "output_type": "execute_result"
    }
   ],
   "source": [
    "visas[\"ESTUDIOS\"].replace(\"no indica\", \"NO INFORMA\", inplace=True)\n",
    "visas[\"ESTUDIOS\"].value_counts()"
   ]
  },
  {
   "cell_type": "markdown",
   "metadata": {},
   "source": [
    "### Eliminar datos del DataFrame\n",
    "\n",
    "Un comando bastante útil es `drop`. El cuál puede eliminar tanto filas como columnas."
   ]
  },
  {
   "cell_type": "code",
   "execution_count": 59,
   "metadata": {},
   "outputs": [],
   "source": [
    "#visas.drop?"
   ]
  },
  {
   "cell_type": "markdown",
   "metadata": {
    "colab_type": "text",
    "id": "oc5sd9kI1Kz4"
   },
   "source": [
    "Se puede dar el caso que algunas columnas sean innecesarias, por ejemplo el `BENEFICIO`, ya que en este caso siempre es 2018. Usamos `drop` para eliminarla"
   ]
  },
  {
   "cell_type": "code",
   "execution_count": 60,
   "metadata": {
    "colab": {},
    "colab_type": "code",
    "id": "EE_8UE921Kz5",
    "scrolled": true
   },
   "outputs": [
    {
     "data": {
      "text/html": [
       "<div>\n",
       "<style scoped>\n",
       "    .dataframe tbody tr th:only-of-type {\n",
       "        vertical-align: middle;\n",
       "    }\n",
       "\n",
       "    .dataframe tbody tr th {\n",
       "        vertical-align: top;\n",
       "    }\n",
       "\n",
       "    .dataframe thead th {\n",
       "        text-align: right;\n",
       "    }\n",
       "</style>\n",
       "<table border=\"1\" class=\"dataframe\">\n",
       "  <thead>\n",
       "    <tr style=\"text-align: right;\">\n",
       "      <th></th>\n",
       "      <th>SEXO</th>\n",
       "      <th>NACIMIENTO</th>\n",
       "      <th>ACTIVIDAD</th>\n",
       "      <th>PROFESION</th>\n",
       "      <th>PAIS</th>\n",
       "      <th>ESTUDIOS</th>\n",
       "      <th>COMUNA</th>\n",
       "      <th>PROVINCIA</th>\n",
       "      <th>REGION</th>\n",
       "      <th>AÑO</th>\n",
       "      <th>EDAD</th>\n",
       "    </tr>\n",
       "  </thead>\n",
       "  <tbody>\n",
       "    <tr>\n",
       "      <th>0</th>\n",
       "      <td>Femenino</td>\n",
       "      <td>10/5/1974</td>\n",
       "      <td>EMPLEADO</td>\n",
       "      <td>MATRONA</td>\n",
       "      <td>PERÚ</td>\n",
       "      <td>NO INFORMA</td>\n",
       "      <td>SANTIAGO</td>\n",
       "      <td>SANTIAGO</td>\n",
       "      <td>METROPOLITANA</td>\n",
       "      <td>2006</td>\n",
       "      <td>46.0</td>\n",
       "    </tr>\n",
       "    <tr>\n",
       "      <th>1</th>\n",
       "      <td>Masculino</td>\n",
       "      <td>9/13/1949</td>\n",
       "      <td>EMPLEADO</td>\n",
       "      <td>INGENIERO</td>\n",
       "      <td>ECUADOR</td>\n",
       "      <td>NO INFORMA</td>\n",
       "      <td>PROVIDENCIA</td>\n",
       "      <td>SANTIAGO</td>\n",
       "      <td>METROPOLITANA</td>\n",
       "      <td>2007</td>\n",
       "      <td>71.0</td>\n",
       "    </tr>\n",
       "    <tr>\n",
       "      <th>2</th>\n",
       "      <td>Femenino</td>\n",
       "      <td>12/7/1949</td>\n",
       "      <td>EMPLEADO</td>\n",
       "      <td>ASESORA DEL HOGAR</td>\n",
       "      <td>BOLIVIA</td>\n",
       "      <td>BASICO</td>\n",
       "      <td>ARICA</td>\n",
       "      <td>ARICA</td>\n",
       "      <td>ARICA Y PARINACOTA</td>\n",
       "      <td>2007</td>\n",
       "      <td>71.0</td>\n",
       "    </tr>\n",
       "    <tr>\n",
       "      <th>3</th>\n",
       "      <td>Femenino</td>\n",
       "      <td>9/20/1966</td>\n",
       "      <td>DUEÑA DE CASA</td>\n",
       "      <td>DUEÑA DE CASA</td>\n",
       "      <td>BOLIVIA</td>\n",
       "      <td>MEDIO</td>\n",
       "      <td>ARICA</td>\n",
       "      <td>ARICA</td>\n",
       "      <td>ARICA Y PARINACOTA</td>\n",
       "      <td>2006</td>\n",
       "      <td>54.0</td>\n",
       "    </tr>\n",
       "    <tr>\n",
       "      <th>4</th>\n",
       "      <td>Masculino</td>\n",
       "      <td>8/15/1981</td>\n",
       "      <td>EMPRESARIO O PATRON</td>\n",
       "      <td>COMERCIANTE</td>\n",
       "      <td>BRASIL</td>\n",
       "      <td>NO INFORMA</td>\n",
       "      <td>LAS CONDES</td>\n",
       "      <td>SANTIAGO</td>\n",
       "      <td>METROPOLITANA</td>\n",
       "      <td>2008</td>\n",
       "      <td>39.0</td>\n",
       "    </tr>\n",
       "  </tbody>\n",
       "</table>\n",
       "</div>"
      ],
      "text/plain": [
       "        SEXO NACIMIENTO            ACTIVIDAD          PROFESION     PAIS  \\\n",
       "0   Femenino  10/5/1974             EMPLEADO            MATRONA     PERÚ   \n",
       "1  Masculino  9/13/1949             EMPLEADO          INGENIERO  ECUADOR   \n",
       "2   Femenino  12/7/1949             EMPLEADO  ASESORA DEL HOGAR  BOLIVIA   \n",
       "3   Femenino  9/20/1966        DUEÑA DE CASA      DUEÑA DE CASA  BOLIVIA   \n",
       "4  Masculino  8/15/1981  EMPRESARIO O PATRON        COMERCIANTE   BRASIL   \n",
       "\n",
       "     ESTUDIOS       COMUNA PROVINCIA              REGION   AÑO  EDAD  \n",
       "0  NO INFORMA     SANTIAGO  SANTIAGO       METROPOLITANA  2006  46.0  \n",
       "1  NO INFORMA  PROVIDENCIA  SANTIAGO       METROPOLITANA  2007  71.0  \n",
       "2      BASICO        ARICA     ARICA  ARICA Y PARINACOTA  2007  71.0  \n",
       "3       MEDIO        ARICA     ARICA  ARICA Y PARINACOTA  2006  54.0  \n",
       "4  NO INFORMA   LAS CONDES  SANTIAGO       METROPOLITANA  2008  39.0  "
      ]
     },
     "execution_count": 60,
     "metadata": {},
     "output_type": "execute_result"
    }
   ],
   "source": [
    "visas.drop(columns=[\"TIT_DEP\", \"BENEFICIO\"], inplace=True)\n",
    "visas.head(5)"
   ]
  },
  {
   "cell_type": "markdown",
   "metadata": {},
   "source": [
    "<div id=\"1.2.5\"></div>"
   ]
  },
  {
   "cell_type": "markdown",
   "metadata": {
    "colab_type": "text",
    "id": "_VnT5v7z1Kz6"
   },
   "source": [
    "## Agrupar Datos\n",
    "\n",
    "A veces es necesario separar los datos, realizar análisis para aquellas instancias que comparten el valor de algún atributo. Por ejemplo, separaremos el dataset por *`país`*."
   ]
  },
  {
   "cell_type": "code",
   "execution_count": 61,
   "metadata": {
    "colab": {
     "base_uri": "https://localhost:8080/",
     "height": 35
    },
    "colab_type": "code",
    "executionInfo": {
     "elapsed": 937,
     "status": "ok",
     "timestamp": 1571259259235,
     "user": {
      "displayName": "Sebastián Bórquez",
      "photoUrl": "https://lh3.googleusercontent.com/a-/AAuE7mDq9prvv5Fs07wPfpIQDjXa1CsJkND-eH7LUiX4zw=s64",
      "userId": "11886092938956714392"
     },
     "user_tz": 180
    },
    "id": "BXjlQQyM1Kz7",
    "outputId": "ea649cfe-6584-4071-e11f-696e7ffb7bfd"
   },
   "outputs": [
    {
     "data": {
      "text/plain": [
       "<pandas.core.groupby.generic.DataFrameGroupBy object at 0x00000254099EEE88>"
      ]
     },
     "execution_count": 61,
     "metadata": {},
     "output_type": "execute_result"
    }
   ],
   "source": [
    "paises = visas.groupby(\"PAIS\")\n",
    "paises"
   ]
  },
  {
   "cell_type": "markdown",
   "metadata": {},
   "source": [
    "Los `pd.DataFrameGroupBy`, no suelen ser muy útiles por si solos. Por lo generar lo utilizamos para estudiar un grupo en particular o para calcular estadísticos o caracteristicas por grupo."
   ]
  },
  {
   "cell_type": "code",
   "execution_count": 62,
   "metadata": {
    "colab": {
     "base_uri": "https://localhost:8080/",
     "height": 397
    },
    "colab_type": "code",
    "executionInfo": {
     "elapsed": 911,
     "status": "ok",
     "timestamp": 1571259259596,
     "user": {
      "displayName": "Sebastián Bórquez",
      "photoUrl": "https://lh3.googleusercontent.com/a-/AAuE7mDq9prvv5Fs07wPfpIQDjXa1CsJkND-eH7LUiX4zw=s64",
      "userId": "11886092938956714392"
     },
     "user_tz": 180
    },
    "id": "Ie1u6lVo1Kz_",
    "outputId": "7bf91ce9-ce26-4a40-f301-fe91e271de81"
   },
   "outputs": [
    {
     "name": "stdout",
     "output_type": "stream",
     "text": [
      "Paises: 164\n"
     ]
    },
    {
     "data": {
      "text/html": [
       "<h3 align='center'>Afganistan</h3>"
      ],
      "text/plain": [
       "<IPython.core.display.HTML object>"
      ]
     },
     "metadata": {},
     "output_type": "display_data"
    },
    {
     "data": {
      "text/html": [
       "<div>\n",
       "<style scoped>\n",
       "    .dataframe tbody tr th:only-of-type {\n",
       "        vertical-align: middle;\n",
       "    }\n",
       "\n",
       "    .dataframe tbody tr th {\n",
       "        vertical-align: top;\n",
       "    }\n",
       "\n",
       "    .dataframe thead th {\n",
       "        text-align: right;\n",
       "    }\n",
       "</style>\n",
       "<table border=\"1\" class=\"dataframe\">\n",
       "  <thead>\n",
       "    <tr style=\"text-align: right;\">\n",
       "      <th></th>\n",
       "      <th>SEXO</th>\n",
       "      <th>NACIMIENTO</th>\n",
       "      <th>ACTIVIDAD</th>\n",
       "      <th>PROFESION</th>\n",
       "      <th>PAIS</th>\n",
       "      <th>ESTUDIOS</th>\n",
       "      <th>COMUNA</th>\n",
       "      <th>PROVINCIA</th>\n",
       "      <th>REGION</th>\n",
       "      <th>AÑO</th>\n",
       "      <th>EDAD</th>\n",
       "    </tr>\n",
       "  </thead>\n",
       "  <tbody>\n",
       "    <tr>\n",
       "      <th>127</th>\n",
       "      <td>Masculino</td>\n",
       "      <td>4/27/1981</td>\n",
       "      <td>EMPRESARIO O PATRON</td>\n",
       "      <td>COMERCIANTE</td>\n",
       "      <td>AFGANISTAN</td>\n",
       "      <td>NO INFORMA</td>\n",
       "      <td>PUDAHUEL</td>\n",
       "      <td>SANTIAGO</td>\n",
       "      <td>METROPOLITANA</td>\n",
       "      <td>2006</td>\n",
       "      <td>39.0</td>\n",
       "    </tr>\n",
       "    <tr>\n",
       "      <th>246</th>\n",
       "      <td>Femenino</td>\n",
       "      <td>7/27/1983</td>\n",
       "      <td>EMPRESARIO O PATRON</td>\n",
       "      <td>EMPRESARIO O PATRON</td>\n",
       "      <td>AFGANISTAN</td>\n",
       "      <td>NO INFORMA</td>\n",
       "      <td>SANTIAGO</td>\n",
       "      <td>SANTIAGO</td>\n",
       "      <td>METROPOLITANA</td>\n",
       "      <td>2007</td>\n",
       "      <td>37.0</td>\n",
       "    </tr>\n",
       "    <tr>\n",
       "      <th>354</th>\n",
       "      <td>Femenino</td>\n",
       "      <td>7/12/1965</td>\n",
       "      <td>TRABAJADOR POR CUENTA PROPIA</td>\n",
       "      <td>DUEÑA DE CASA</td>\n",
       "      <td>AFGANISTAN</td>\n",
       "      <td>NO INFORMA</td>\n",
       "      <td>MACUL</td>\n",
       "      <td>SANTIAGO</td>\n",
       "      <td>METROPOLITANA</td>\n",
       "      <td>2007</td>\n",
       "      <td>55.0</td>\n",
       "    </tr>\n",
       "  </tbody>\n",
       "</table>\n",
       "</div>"
      ],
      "text/plain": [
       "          SEXO NACIMIENTO                     ACTIVIDAD            PROFESION  \\\n",
       "127  Masculino  4/27/1981           EMPRESARIO O PATRON          COMERCIANTE   \n",
       "246   Femenino  7/27/1983           EMPRESARIO O PATRON  EMPRESARIO O PATRON   \n",
       "354   Femenino  7/12/1965  TRABAJADOR POR CUENTA PROPIA        DUEÑA DE CASA   \n",
       "\n",
       "           PAIS    ESTUDIOS    COMUNA PROVINCIA         REGION   AÑO  EDAD  \n",
       "127  AFGANISTAN  NO INFORMA  PUDAHUEL  SANTIAGO  METROPOLITANA  2006  39.0  \n",
       "246  AFGANISTAN  NO INFORMA  SANTIAGO  SANTIAGO  METROPOLITANA  2007  37.0  \n",
       "354  AFGANISTAN  NO INFORMA     MACUL  SANTIAGO  METROPOLITANA  2007  55.0  "
      ]
     },
     "metadata": {},
     "output_type": "display_data"
    },
    {
     "data": {
      "text/html": [
       "<h3 align='center'>Albania</h3>"
      ],
      "text/plain": [
       "<IPython.core.display.HTML object>"
      ]
     },
     "metadata": {},
     "output_type": "display_data"
    },
    {
     "data": {
      "text/html": [
       "<div>\n",
       "<style scoped>\n",
       "    .dataframe tbody tr th:only-of-type {\n",
       "        vertical-align: middle;\n",
       "    }\n",
       "\n",
       "    .dataframe tbody tr th {\n",
       "        vertical-align: top;\n",
       "    }\n",
       "\n",
       "    .dataframe thead th {\n",
       "        text-align: right;\n",
       "    }\n",
       "</style>\n",
       "<table border=\"1\" class=\"dataframe\">\n",
       "  <thead>\n",
       "    <tr style=\"text-align: right;\">\n",
       "      <th></th>\n",
       "      <th>SEXO</th>\n",
       "      <th>NACIMIENTO</th>\n",
       "      <th>ACTIVIDAD</th>\n",
       "      <th>PROFESION</th>\n",
       "      <th>PAIS</th>\n",
       "      <th>ESTUDIOS</th>\n",
       "      <th>COMUNA</th>\n",
       "      <th>PROVINCIA</th>\n",
       "      <th>REGION</th>\n",
       "      <th>AÑO</th>\n",
       "      <th>EDAD</th>\n",
       "    </tr>\n",
       "  </thead>\n",
       "  <tbody>\n",
       "    <tr>\n",
       "      <th>12011</th>\n",
       "      <td>Masculino</td>\n",
       "      <td>2/10/1936</td>\n",
       "      <td>JUBILADO O PENSIONADO</td>\n",
       "      <td>ECONOMISTA</td>\n",
       "      <td>ALBANIA</td>\n",
       "      <td>NO INFORMA</td>\n",
       "      <td>ÑUÑOA</td>\n",
       "      <td>SANTIAGO</td>\n",
       "      <td>METROPOLITANA</td>\n",
       "      <td>2005</td>\n",
       "      <td>84.0</td>\n",
       "    </tr>\n",
       "    <tr>\n",
       "      <th>12012</th>\n",
       "      <td>Femenino</td>\n",
       "      <td>2/28/1947</td>\n",
       "      <td>JUBILADO O PENSIONADO</td>\n",
       "      <td>ECONOMISTA</td>\n",
       "      <td>ALBANIA</td>\n",
       "      <td>NO INFORMA</td>\n",
       "      <td>ÑUÑOA</td>\n",
       "      <td>SANTIAGO</td>\n",
       "      <td>METROPOLITANA</td>\n",
       "      <td>2005</td>\n",
       "      <td>73.0</td>\n",
       "    </tr>\n",
       "    <tr>\n",
       "      <th>86776</th>\n",
       "      <td>Femenino</td>\n",
       "      <td>5/6/1975</td>\n",
       "      <td>INACTIVO</td>\n",
       "      <td>DUEÑA DE CASA</td>\n",
       "      <td>ALBANIA</td>\n",
       "      <td>NO INFORMA</td>\n",
       "      <td>HUALPEN</td>\n",
       "      <td>CONCEPCIÓN</td>\n",
       "      <td>BIOBIO</td>\n",
       "      <td>2008</td>\n",
       "      <td>45.0</td>\n",
       "    </tr>\n",
       "  </tbody>\n",
       "</table>\n",
       "</div>"
      ],
      "text/plain": [
       "            SEXO NACIMIENTO              ACTIVIDAD      PROFESION     PAIS  \\\n",
       "12011  Masculino  2/10/1936  JUBILADO O PENSIONADO     ECONOMISTA  ALBANIA   \n",
       "12012   Femenino  2/28/1947  JUBILADO O PENSIONADO     ECONOMISTA  ALBANIA   \n",
       "86776   Femenino   5/6/1975               INACTIVO  DUEÑA DE CASA  ALBANIA   \n",
       "\n",
       "         ESTUDIOS   COMUNA   PROVINCIA         REGION   AÑO  EDAD  \n",
       "12011  NO INFORMA    ÑUÑOA    SANTIAGO  METROPOLITANA  2005  84.0  \n",
       "12012  NO INFORMA    ÑUÑOA    SANTIAGO  METROPOLITANA  2005  73.0  \n",
       "86776  NO INFORMA  HUALPEN  CONCEPCIÓN         BIOBIO  2008  45.0  "
      ]
     },
     "metadata": {},
     "output_type": "display_data"
    }
   ],
   "source": [
    "from IPython.display import display, HTML\n",
    "\n",
    "print(\"Paises:\", len(paises))\n",
    "i = 0\n",
    "\n",
    "# Se puden iterar, obteniendo el nombre del grupo y el df correspondiente\n",
    "for pais, df in paises:\n",
    "    display(HTML(f\"<h3 align='center'>{pais.title()}</h3>\"))\n",
    "    display(df.head(3))\n",
    "    i+=1\n",
    "    if i==2: break"
   ]
  },
  {
   "cell_type": "code",
   "execution_count": 63,
   "metadata": {
    "colab": {
     "base_uri": "https://localhost:8080/",
     "height": 1000
    },
    "colab_type": "code",
    "executionInfo": {
     "elapsed": 1076,
     "status": "ok",
     "timestamp": 1571238338420,
     "user": {
      "displayName": "Sebastián Bórquez",
      "photoUrl": "https://lh3.googleusercontent.com/a-/AAuE7mDq9prvv5Fs07wPfpIQDjXa1CsJkND-eH7LUiX4zw=s64",
      "userId": "11886092938956714392"
     },
     "user_tz": 180
    },
    "id": "tVLjdSuM4ISV",
    "outputId": "1c9466a7-4f49-42e5-d122-18c7a41669bd"
   },
   "outputs": [
    {
     "data": {
      "text/plain": [
       "PAIS\n",
       "AFGANISTAN                    33.760000\n",
       "ALBANIA                       44.600000\n",
       "ALEMANIA                      47.866330\n",
       "ANDORRA                       46.666667\n",
       "ANGOLA                        42.363636\n",
       "                                ...    \n",
       "VENEZUELA                     37.774786\n",
       "VIETNAM                       34.000000\n",
       "YUGOSLAVIA                    46.400000\n",
       "ZAIRE (ACTUAL REP.D.CONGO)    45.000000\n",
       "ZAMBIA                        44.500000\n",
       "Name: EDAD, Length: 164, dtype: float64"
      ]
     },
     "execution_count": 63,
     "metadata": {},
     "output_type": "execute_result"
    }
   ],
   "source": [
    "# Obtener la edad media por pais\n",
    "paises[\"EDAD\"].mean()"
   ]
  },
  {
   "cell_type": "code",
   "execution_count": 92,
   "metadata": {},
   "outputs": [
    {
     "data": {
      "text/html": [
       "<div>\n",
       "<style scoped>\n",
       "    .dataframe tbody tr th:only-of-type {\n",
       "        vertical-align: middle;\n",
       "    }\n",
       "\n",
       "    .dataframe tbody tr th {\n",
       "        vertical-align: top;\n",
       "    }\n",
       "\n",
       "    .dataframe thead th {\n",
       "        text-align: right;\n",
       "    }\n",
       "</style>\n",
       "<table border=\"1\" class=\"dataframe\">\n",
       "  <thead>\n",
       "    <tr style=\"text-align: right;\">\n",
       "      <th></th>\n",
       "      <th>AÑO</th>\n",
       "      <th>EDAD</th>\n",
       "    </tr>\n",
       "  </thead>\n",
       "  <tbody>\n",
       "    <tr>\n",
       "      <th>count</th>\n",
       "      <td>324932.000000</td>\n",
       "      <td>324931.000000</td>\n",
       "    </tr>\n",
       "    <tr>\n",
       "      <th>mean</th>\n",
       "      <td>2011.956988</td>\n",
       "      <td>39.448908</td>\n",
       "    </tr>\n",
       "    <tr>\n",
       "      <th>std</th>\n",
       "      <td>3.314549</td>\n",
       "      <td>14.184114</td>\n",
       "    </tr>\n",
       "    <tr>\n",
       "      <th>min</th>\n",
       "      <td>2005.000000</td>\n",
       "      <td>4.000000</td>\n",
       "    </tr>\n",
       "    <tr>\n",
       "      <th>25%</th>\n",
       "      <td>2009.000000</td>\n",
       "      <td>31.000000</td>\n",
       "    </tr>\n",
       "    <tr>\n",
       "      <th>50%</th>\n",
       "      <td>2013.000000</td>\n",
       "      <td>39.000000</td>\n",
       "    </tr>\n",
       "    <tr>\n",
       "      <th>75%</th>\n",
       "      <td>2015.000000</td>\n",
       "      <td>48.000000</td>\n",
       "    </tr>\n",
       "    <tr>\n",
       "      <th>max</th>\n",
       "      <td>2016.000000</td>\n",
       "      <td>121.000000</td>\n",
       "    </tr>\n",
       "  </tbody>\n",
       "</table>\n",
       "</div>"
      ],
      "text/plain": [
       "                 AÑO           EDAD\n",
       "count  324932.000000  324931.000000\n",
       "mean     2011.956988      39.448908\n",
       "std         3.314549      14.184114\n",
       "min      2005.000000       4.000000\n",
       "25%      2009.000000      31.000000\n",
       "50%      2013.000000      39.000000\n",
       "75%      2015.000000      48.000000\n",
       "max      2016.000000     121.000000"
      ]
     },
     "execution_count": 92,
     "metadata": {},
     "output_type": "execute_result"
    }
   ],
   "source": [
    "visas.describe()"
   ]
  },
  {
   "cell_type": "markdown",
   "metadata": {},
   "source": [
    "O agregar datos con el método `agg`"
   ]
  },
  {
   "cell_type": "code",
   "execution_count": 64,
   "metadata": {},
   "outputs": [
    {
     "data": {
      "text/plain": [
       "PAIS\n",
       "AFGANISTAN                    33.760000\n",
       "ALBANIA                       44.600000\n",
       "ALEMANIA                      47.866330\n",
       "ANDORRA                       46.666667\n",
       "ANGOLA                        42.363636\n",
       "                                ...    \n",
       "VENEZUELA                     37.774786\n",
       "VIETNAM                       34.000000\n",
       "YUGOSLAVIA                    46.400000\n",
       "ZAIRE (ACTUAL REP.D.CONGO)    45.000000\n",
       "ZAMBIA                        44.500000\n",
       "Name: EDAD, Length: 164, dtype: float64"
      ]
     },
     "execution_count": 64,
     "metadata": {},
     "output_type": "execute_result"
    }
   ],
   "source": [
    "# Para obtener un Series\n",
    "paises.EDAD.agg(\"mean\")"
   ]
  },
  {
   "cell_type": "code",
   "execution_count": 65,
   "metadata": {},
   "outputs": [
    {
     "data": {
      "text/html": [
       "<div>\n",
       "<style scoped>\n",
       "    .dataframe tbody tr th:only-of-type {\n",
       "        vertical-align: middle;\n",
       "    }\n",
       "\n",
       "    .dataframe tbody tr th {\n",
       "        vertical-align: top;\n",
       "    }\n",
       "\n",
       "    .dataframe thead tr th {\n",
       "        text-align: left;\n",
       "    }\n",
       "\n",
       "    .dataframe thead tr:last-of-type th {\n",
       "        text-align: right;\n",
       "    }\n",
       "</style>\n",
       "<table border=\"1\" class=\"dataframe\">\n",
       "  <thead>\n",
       "    <tr>\n",
       "      <th></th>\n",
       "      <th colspan=\"2\" halign=\"left\">EDAD</th>\n",
       "      <th>AÑO</th>\n",
       "    </tr>\n",
       "    <tr>\n",
       "      <th></th>\n",
       "      <th>min</th>\n",
       "      <th>max</th>\n",
       "      <th>mean</th>\n",
       "    </tr>\n",
       "    <tr>\n",
       "      <th>PAIS</th>\n",
       "      <th></th>\n",
       "      <th></th>\n",
       "      <th></th>\n",
       "    </tr>\n",
       "  </thead>\n",
       "  <tbody>\n",
       "    <tr>\n",
       "      <th>AFGANISTAN</th>\n",
       "      <td>10.0</td>\n",
       "      <td>55.0</td>\n",
       "      <td>2011.200000</td>\n",
       "    </tr>\n",
       "    <tr>\n",
       "      <th>ALBANIA</th>\n",
       "      <td>30.0</td>\n",
       "      <td>84.0</td>\n",
       "      <td>2010.900000</td>\n",
       "    </tr>\n",
       "    <tr>\n",
       "      <th>ALEMANIA</th>\n",
       "      <td>7.0</td>\n",
       "      <td>113.0</td>\n",
       "      <td>2010.772623</td>\n",
       "    </tr>\n",
       "    <tr>\n",
       "      <th>ANDORRA</th>\n",
       "      <td>39.0</td>\n",
       "      <td>52.0</td>\n",
       "      <td>2013.000000</td>\n",
       "    </tr>\n",
       "    <tr>\n",
       "      <th>ANGOLA</th>\n",
       "      <td>31.0</td>\n",
       "      <td>59.0</td>\n",
       "      <td>2011.000000</td>\n",
       "    </tr>\n",
       "    <tr>\n",
       "      <th>...</th>\n",
       "      <td>...</td>\n",
       "      <td>...</td>\n",
       "      <td>...</td>\n",
       "    </tr>\n",
       "    <tr>\n",
       "      <th>VENEZUELA</th>\n",
       "      <td>5.0</td>\n",
       "      <td>101.0</td>\n",
       "      <td>2013.738968</td>\n",
       "    </tr>\n",
       "    <tr>\n",
       "      <th>VIETNAM</th>\n",
       "      <td>8.0</td>\n",
       "      <td>41.0</td>\n",
       "      <td>2013.857143</td>\n",
       "    </tr>\n",
       "    <tr>\n",
       "      <th>YUGOSLAVIA</th>\n",
       "      <td>44.0</td>\n",
       "      <td>52.0</td>\n",
       "      <td>2010.600000</td>\n",
       "    </tr>\n",
       "    <tr>\n",
       "      <th>ZAIRE (ACTUAL REP.D.CONGO)</th>\n",
       "      <td>45.0</td>\n",
       "      <td>45.0</td>\n",
       "      <td>2007.000000</td>\n",
       "    </tr>\n",
       "    <tr>\n",
       "      <th>ZAMBIA</th>\n",
       "      <td>44.0</td>\n",
       "      <td>45.0</td>\n",
       "      <td>2013.000000</td>\n",
       "    </tr>\n",
       "  </tbody>\n",
       "</table>\n",
       "<p>164 rows × 3 columns</p>\n",
       "</div>"
      ],
      "text/plain": [
       "                            EDAD                 AÑO\n",
       "                             min    max         mean\n",
       "PAIS                                                \n",
       "AFGANISTAN                  10.0   55.0  2011.200000\n",
       "ALBANIA                     30.0   84.0  2010.900000\n",
       "ALEMANIA                     7.0  113.0  2010.772623\n",
       "ANDORRA                     39.0   52.0  2013.000000\n",
       "ANGOLA                      31.0   59.0  2011.000000\n",
       "...                          ...    ...          ...\n",
       "VENEZUELA                    5.0  101.0  2013.738968\n",
       "VIETNAM                      8.0   41.0  2013.857143\n",
       "YUGOSLAVIA                  44.0   52.0  2010.600000\n",
       "ZAIRE (ACTUAL REP.D.CONGO)  45.0   45.0  2007.000000\n",
       "ZAMBIA                      44.0   45.0  2013.000000\n",
       "\n",
       "[164 rows x 3 columns]"
      ]
     },
     "execution_count": 65,
     "metadata": {},
     "output_type": "execute_result"
    }
   ],
   "source": [
    "# Para obtener un DataFrame\n",
    "paises.agg({\"EDAD\": [\"min\", \"max\"], \"AÑO\":[\"mean\"]})"
   ]
  },
  {
   "cell_type": "code",
   "execution_count": null,
   "metadata": {},
   "outputs": [],
   "source": [
    "mu1, sig1 = 178, 7.7\n",
    "male_height = scipy.stats.norm(mu1, sig1)"
   ]
  },
  {
   "cell_type": "markdown",
   "metadata": {},
   "source": [
    "<div id=\"1.2.6\"></div>"
   ]
  },
  {
   "cell_type": "markdown",
   "metadata": {},
   "source": [
    "<div id=\"1.2.6\"></div>"
   ]
  },
  {
   "cell_type": "markdown",
   "metadata": {
    "colab_type": "text",
    "id": "QCtoh0UF1K0B"
   },
   "source": [
    "## Visualizaciones Básicas\n",
    "\n",
    "<img src=\"https://cdn-images-1.medium.com/max/1200/1*H5M0nBLll9E4rCsBOplKVQ.jpeg\" width=\"60%\"></img>\n",
    "\n",
    "La **visualización de los datos** es de suma importancia, el emplear un modo visual que presente la información incluso cuando el volumen de datos es bastante considerable, permite contar la historia y llegar más fácil al público. Permitiendo una manera sencilla de **encontrar patrones** y **obtener información**."
   ]
  },
  {
   "cell_type": "markdown",
   "metadata": {
    "colab_type": "text",
    "id": "Fn6LLKQT1K0B"
   },
   "source": [
    "### Plots Básicos con Matplotlib\n",
    "\n",
    "`Matplotlib` es una herramienta sencilla y la base para construir plots más complejos junto a `Pandas` o `Seaborn`."
   ]
  },
  {
   "cell_type": "code",
   "execution_count": 93,
   "metadata": {
    "colab": {
     "base_uri": "https://localhost:8080/",
     "height": 35
    },
    "colab_type": "code",
    "executionInfo": {
     "elapsed": 2859,
     "status": "ok",
     "timestamp": 1571259356567,
     "user": {
      "displayName": "Sebastián Bórquez",
      "photoUrl": "https://lh3.googleusercontent.com/a-/AAuE7mDq9prvv5Fs07wPfpIQDjXa1CsJkND-eH7LUiX4zw=s64",
      "userId": "11886092938956714392"
     },
     "user_tz": 180
    },
    "id": "3vt8yQ1R1K0C",
    "outputId": "4766e178-4914-4b53-d0f8-c987e21f137b"
   },
   "outputs": [
    {
     "data": {
      "text/plain": [
       "'3.1.3'"
      ]
     },
     "execution_count": 93,
     "metadata": {},
     "output_type": "execute_result"
    }
   ],
   "source": [
    "import matplotlib\n",
    "import matplotlib.pyplot as plt\n",
    "\n",
    "%matplotlib inline\n",
    "\n",
    "matplotlib.__version__"
   ]
  },
  {
   "cell_type": "markdown",
   "metadata": {},
   "source": [
    "Por lo general utilizarás la siguiente estructura para crear tus plots."
   ]
  },
  {
   "cell_type": "code",
   "execution_count": 67,
   "metadata": {
    "colab": {
     "base_uri": "https://localhost:8080/",
     "height": 355
    },
    "colab_type": "code",
    "executionInfo": {
     "elapsed": 2591,
     "status": "ok",
     "timestamp": 1571259371182,
     "user": {
      "displayName": "Sebastián Bórquez",
      "photoUrl": "https://lh3.googleusercontent.com/a-/AAuE7mDq9prvv5Fs07wPfpIQDjXa1CsJkND-eH7LUiX4zw=s64",
      "userId": "11886092938956714392"
     },
     "user_tz": 180
    },
    "id": "muVrnLD61K0D",
    "outputId": "5081eb44-84c1-4eaf-ca9e-d70b36830e60"
   },
   "outputs": [],
   "source": [
    "# Usamos numpy para generar valores\n",
    "import numpy as np\n",
    "N = 500\n",
    "\n",
    "# Error: e ~ N(0, 2)\n",
    "e = np.random.normal(0, 2, N)\n",
    "\n",
    "# Ecuación de la recta\n",
    "m, b = 0.5, -10\n",
    "x = np.linspace(0, 50, N)\n",
    "y = m*x + b \n",
    "y_hat = y + e\n",
    "\n",
    "# Estimaciones\n",
    "mu_e = np.mean(e)"
   ]
  },
  {
   "cell_type": "code",
   "execution_count": 68,
   "metadata": {},
   "outputs": [
    {
     "data": {
      "image/png": "[encoded data removed]",
      "text/plain": [
       "<Figure size 1080x360 with 1 Axes>"
      ]
     },
     "metadata": {
      "needs_background": "light"
     },
     "output_type": "display_data"
    }
   ],
   "source": [
    "# Tamaño de Plot\n",
    "plt.figure(figsize=(15, 5))\n",
    "\n",
    "# Plots\n",
    "plt.plot(x, y, \"b--\", label=\"y = mx+b\");\n",
    "plt.scatter(x, y_hat, c=\"g\", alpha=0.55, label=\"$\\hat{y}$: Points with normal error\")\n",
    "\n",
    "# Diseño\n",
    "## Titulo\n",
    "plt.title(\"Regresión Lineal\")\n",
    "\n",
    "## Nombres a los ejes\n",
    "plt.ylabel(\"y(x)\")\n",
    "plt.xlabel(\"x\")\n",
    "\n",
    "## Mostrar una grid\n",
    "plt.grid(True)\n",
    "\n",
    "## Mostrar legenda\n",
    "plt.legend()\n",
    "\n",
    "## Mostrar el gráfico\n",
    "plt.show();"
   ]
  },
  {
   "cell_type": "code",
   "execution_count": 69,
   "metadata": {},
   "outputs": [
    {
     "data": {
      "image/png": "[encoded data removed]",
      "text/plain": [
       "<Figure size 1080x360 with 1 Axes>"
      ]
     },
     "metadata": {
      "needs_background": "light"
     },
     "output_type": "display_data"
    }
   ],
   "source": [
    "# Tamaño de Plot\n",
    "plt.figure(figsize=(15, 5))\n",
    "\n",
    "# Plots\n",
    "plt.hist(e, bins=75, label=\"Error Distribution\", color=\"green\")\n",
    "plt.axvline(mu_e, label=\"$\\mu_e$\", color=\"red\", linestyle=\"--\")\n",
    "\n",
    "# Diseño\n",
    "## Titulo\n",
    "plt.title(\"Error Normal Distribution\")\n",
    "\n",
    "## Nombres a los ejes\n",
    "plt.ylabel(\"$frecuency$\")\n",
    "plt.xlabel(\"$error$\")\n",
    "\n",
    "## Mostrar una grid\n",
    "plt.grid(False)\n",
    "\n",
    "## Mostrar legenda\n",
    "plt.legend()\n",
    "\n",
    "## Mostrar el gráfico\n",
    "plt.show();"
   ]
  },
  {
   "cell_type": "markdown",
   "metadata": {
    "colab_type": "text",
    "id": "7eKIIThz1K0H"
   },
   "source": [
    "### APi de Pandas para graficar.\n",
    "\n",
    "Pandas también incluye su propia interface para plotear **`plot`** la cual nos facilita la tarea de elegir los ejes, su documentación oficial [aqui](https://pandas.pydata.org/pandas-docs/stable/user_guide/visualization.html). \n",
    "\n",
    " A continuación se mostrarán como crear diferentes tipos de plots utilizando Matplotlib, Seaborn y Pandas en conjunto. Para más ejemplos visita la [galería](https://seaborn.pydata.org/examples/index.html) de Seaborn.\n",
    "\n",
    "A continuación, algunos ejemplos de estos.\n",
    "\n",
    "#### Para el año 2016 ¿Cuáles son los top 10 de países de origen con más inmigrantes?"
   ]
  },
  {
   "cell_type": "code",
   "execution_count": 70,
   "metadata": {
    "colab": {},
    "colab_type": "code",
    "id": "ZFoPbZlW1K0I",
    "outputId": "6d9470bc-4a0d-4f0d-9c8d-a28782634b7d"
   },
   "outputs": [
    {
     "data": {
      "image/png": "[encoded data removed]",
      "text/plain": [
       "<Figure size 720x432 with 1 Axes>"
      ]
     },
     "metadata": {
      "needs_background": "light"
     },
     "output_type": "display_data"
    }
   ],
   "source": [
    "# Seleccion de datos\n",
    "personas_por_pais = visas[visas[\"AÑO\"] == 2016][\"PAIS\"].value_counts().head(10)\n",
    "\n",
    "# Tamaño del plot\n",
    "plt.figure(figsize=(10,6))\n",
    "axis = plt.gca()\n",
    "\n",
    "# Bar plot horizontal\n",
    "personas_por_pais.plot.barh(ax=axis)\n",
    "\n",
    "# Estilo\n",
    "plt.title(\"Inmigrantes por Pais (año 2016)\")\n",
    "plt.xlabel(\"Personas\")\n",
    "\n",
    "# Invertir eje y (mostrar de mayor a menor)\n",
    "axis.invert_yaxis()\n",
    "\n",
    "plt.show();"
   ]
  },
  {
   "cell_type": "markdown",
   "metadata": {
    "colab_type": "text",
    "id": "oiFbkUWT1K0K"
   },
   "source": [
    "#### ¿Cuál es la proporción se la columna `SEXO`?\n"
   ]
  },
  {
   "cell_type": "code",
   "execution_count": 71,
   "metadata": {
    "colab": {},
    "colab_type": "code",
    "id": "sDhb3NDV1K0L",
    "outputId": "a86caa68-6d06-42c6-f8ab-aac7cd9e5c04"
   },
   "outputs": [
    {
     "data": {
      "image/png": "[encoded data removed]",
      "text/plain": [
       "<Figure size 432x432 with 1 Axes>"
      ]
     },
     "metadata": {},
     "output_type": "display_data"
    }
   ],
   "source": [
    "# Seleccion de datos\n",
    "generos = visas[\"SEXO\"].value_counts()\n",
    "\n",
    "# Tamaño\n",
    "plt.figure(figsize=(6,6))\n",
    "axis = plt.gca()\n",
    "\n",
    "# Pie Chart con porcentajes\n",
    "generos.plot.pie(autopct='%1.1f%%', startangle=180, fontsize=17, ax=axis)\n",
    "\n",
    "plt.show();"
   ]
  },
  {
   "cell_type": "markdown",
   "metadata": {
    "colab_type": "text",
    "id": "KtkHfTKQ1K0O"
   },
   "source": [
    "#### ¿Cómo se distribuye la edad según cada región?"
   ]
  },
  {
   "cell_type": "code",
   "execution_count": 72,
   "metadata": {
    "colab": {},
    "colab_type": "code",
    "id": "-P07jP4j1K0P",
    "outputId": "91ed64a8-f302-465b-fda5-b4118c69611e"
   },
   "outputs": [
    {
     "data": {
      "image/png": "[encoded data removed]",
      "text/plain": [
       "<Figure size 1080x432 with 1 Axes>"
      ]
     },
     "metadata": {
      "needs_background": "light"
     },
     "output_type": "display_data"
    }
   ],
   "source": [
    "# Igual se puede reducir el código a una linea, incluyendo los parametros\n",
    "# O agrupar datos en con el parámetros \"by=\"\n",
    "visas.boxplot(column=[\"EDAD\"], by=\"REGION\", figsize=(15,6), rot=75);"
   ]
  },
  {
   "cell_type": "markdown",
   "metadata": {
    "colab_type": "text",
    "id": "d0Mn6iPt1K0R"
   },
   "source": [
    "#### ¿Qué tendencias siguen la llegada de inmigrante de un país?\n",
    "\n",
    "Atención con estas conversiones y el comando **`unstack`**"
   ]
  },
  {
   "cell_type": "code",
   "execution_count": 73,
   "metadata": {},
   "outputs": [
    {
     "data": {
      "text/html": [
       "<div>\n",
       "<style scoped>\n",
       "    .dataframe tbody tr th:only-of-type {\n",
       "        vertical-align: middle;\n",
       "    }\n",
       "\n",
       "    .dataframe tbody tr th {\n",
       "        vertical-align: top;\n",
       "    }\n",
       "\n",
       "    .dataframe thead th {\n",
       "        text-align: right;\n",
       "    }\n",
       "</style>\n",
       "<table border=\"1\" class=\"dataframe\">\n",
       "  <thead>\n",
       "    <tr style=\"text-align: right;\">\n",
       "      <th>PAIS</th>\n",
       "      <th>ALEMANIA</th>\n",
       "      <th>ARGENTINA</th>\n",
       "      <th>CHINA REPUBLICA POPULAR</th>\n",
       "      <th>ESPAÑA</th>\n",
       "      <th>ESTADOS UNIDOS</th>\n",
       "      <th>FRANCIA</th>\n",
       "    </tr>\n",
       "    <tr>\n",
       "      <th>AÑO</th>\n",
       "      <th></th>\n",
       "      <th></th>\n",
       "      <th></th>\n",
       "      <th></th>\n",
       "      <th></th>\n",
       "      <th></th>\n",
       "    </tr>\n",
       "  </thead>\n",
       "  <tbody>\n",
       "    <tr>\n",
       "      <th>2005</th>\n",
       "      <td>144</td>\n",
       "      <td>1873</td>\n",
       "      <td>374</td>\n",
       "      <td>225</td>\n",
       "      <td>339</td>\n",
       "      <td>138</td>\n",
       "    </tr>\n",
       "    <tr>\n",
       "      <th>2006</th>\n",
       "      <td>130</td>\n",
       "      <td>1843</td>\n",
       "      <td>394</td>\n",
       "      <td>221</td>\n",
       "      <td>335</td>\n",
       "      <td>183</td>\n",
       "    </tr>\n",
       "    <tr>\n",
       "      <th>2007</th>\n",
       "      <td>191</td>\n",
       "      <td>1687</td>\n",
       "      <td>396</td>\n",
       "      <td>301</td>\n",
       "      <td>299</td>\n",
       "      <td>198</td>\n",
       "    </tr>\n",
       "    <tr>\n",
       "      <th>2008</th>\n",
       "      <td>183</td>\n",
       "      <td>1478</td>\n",
       "      <td>366</td>\n",
       "      <td>244</td>\n",
       "      <td>280</td>\n",
       "      <td>177</td>\n",
       "    </tr>\n",
       "    <tr>\n",
       "      <th>2009</th>\n",
       "      <td>201</td>\n",
       "      <td>1421</td>\n",
       "      <td>652</td>\n",
       "      <td>327</td>\n",
       "      <td>340</td>\n",
       "      <td>200</td>\n",
       "    </tr>\n",
       "    <tr>\n",
       "      <th>2010</th>\n",
       "      <td>181</td>\n",
       "      <td>1272</td>\n",
       "      <td>617</td>\n",
       "      <td>280</td>\n",
       "      <td>345</td>\n",
       "      <td>223</td>\n",
       "    </tr>\n",
       "    <tr>\n",
       "      <th>2011</th>\n",
       "      <td>166</td>\n",
       "      <td>1338</td>\n",
       "      <td>665</td>\n",
       "      <td>283</td>\n",
       "      <td>366</td>\n",
       "      <td>207</td>\n",
       "    </tr>\n",
       "    <tr>\n",
       "      <th>2012</th>\n",
       "      <td>233</td>\n",
       "      <td>1642</td>\n",
       "      <td>699</td>\n",
       "      <td>537</td>\n",
       "      <td>537</td>\n",
       "      <td>253</td>\n",
       "    </tr>\n",
       "    <tr>\n",
       "      <th>2013</th>\n",
       "      <td>165</td>\n",
       "      <td>1479</td>\n",
       "      <td>816</td>\n",
       "      <td>821</td>\n",
       "      <td>473</td>\n",
       "      <td>248</td>\n",
       "    </tr>\n",
       "    <tr>\n",
       "      <th>2014</th>\n",
       "      <td>177</td>\n",
       "      <td>1769</td>\n",
       "      <td>796</td>\n",
       "      <td>1618</td>\n",
       "      <td>468</td>\n",
       "      <td>284</td>\n",
       "    </tr>\n",
       "    <tr>\n",
       "      <th>2015</th>\n",
       "      <td>209</td>\n",
       "      <td>2268</td>\n",
       "      <td>842</td>\n",
       "      <td>2433</td>\n",
       "      <td>516</td>\n",
       "      <td>399</td>\n",
       "    </tr>\n",
       "    <tr>\n",
       "      <th>2016</th>\n",
       "      <td>197</td>\n",
       "      <td>1964</td>\n",
       "      <td>954</td>\n",
       "      <td>1737</td>\n",
       "      <td>414</td>\n",
       "      <td>320</td>\n",
       "    </tr>\n",
       "  </tbody>\n",
       "</table>\n",
       "</div>"
      ],
      "text/plain": [
       "PAIS  ALEMANIA  ARGENTINA  CHINA REPUBLICA POPULAR  ESPAÑA  ESTADOS UNIDOS  \\\n",
       "AÑO                                                                          \n",
       "2005       144       1873                      374     225             339   \n",
       "2006       130       1843                      394     221             335   \n",
       "2007       191       1687                      396     301             299   \n",
       "2008       183       1478                      366     244             280   \n",
       "2009       201       1421                      652     327             340   \n",
       "2010       181       1272                      617     280             345   \n",
       "2011       166       1338                      665     283             366   \n",
       "2012       233       1642                      699     537             537   \n",
       "2013       165       1479                      816     821             473   \n",
       "2014       177       1769                      796    1618             468   \n",
       "2015       209       2268                      842    2433             516   \n",
       "2016       197       1964                      954    1737             414   \n",
       "\n",
       "PAIS  FRANCIA  \n",
       "AÑO            \n",
       "2005      138  \n",
       "2006      183  \n",
       "2007      198  \n",
       "2008      177  \n",
       "2009      200  \n",
       "2010      223  \n",
       "2011      207  \n",
       "2012      253  \n",
       "2013      248  \n",
       "2014      284  \n",
       "2015      399  \n",
       "2016      320  "
      ]
     },
     "execution_count": 73,
     "metadata": {},
     "output_type": "execute_result"
    }
   ],
   "source": [
    "paises_de_interes = [\"ESTADOS UNIDOS\", \"FRANCIA\", \"ALEMANIA\", \"CHINA REPUBLICA POPULAR\", \"ARGENTINA\", \"ESPAÑA\"]\n",
    "\n",
    "# df_ será un auxiliar para pasos intermedios\n",
    "\n",
    "#  Paises de interes\n",
    "df_ = visas[visas[\"PAIS\"].isin(paises_de_interes)]\n",
    "\n",
    "# Agrupar\n",
    "df_group = df_.groupby(\"PAIS\")\n",
    "\n",
    "# Agregar\n",
    "df_group_agg = df_group.agg({\"AÑO\":[(\"value_counts\")]})\n",
    "\n",
    "# Unstack\n",
    "df_ = df_group_agg.unstack(level=-2, fill_value=0)\n",
    "anual = df_[\"AÑO\"][\"value_counts\"]\n",
    "anual"
   ]
  },
  {
   "cell_type": "code",
   "execution_count": 74,
   "metadata": {
    "colab": {},
    "colab_type": "code",
    "id": "LbwSXFGB1K0V",
    "outputId": "739433aa-d7c1-41b4-98d8-26d5dd147258"
   },
   "outputs": [
    {
     "data": {
      "image/png": "[encoded data removed]",
      "text/plain": [
       "<Figure size 1296x432 with 1 Axes>"
      ]
     },
     "metadata": {
      "needs_background": "light"
     },
     "output_type": "display_data"
    }
   ],
   "source": [
    "# Tamaño\n",
    "plt.figure(figsize=(18,6))\n",
    "axis = plt.gca()\n",
    "\n",
    "# Pie Chart con porcentajes\n",
    "anual.plot.line(ax=axis, marker=\"o\")\n",
    "\n",
    "# Estilo\n",
    "plt.title(\"Tendencias de Inmigración por País\")\n",
    "plt.xlabel(\"Año\")\n",
    "plt.ylabel(\"Inmigrantes\")\n",
    "plt.legend();"
   ]
  },
  {
   "cell_type": "markdown",
   "metadata": {},
   "source": [
    "<div id=\"1.3\"></div>"
   ]
  },
  {
   "cell_type": "markdown",
   "metadata": {},
   "source": [
    "# Caso de estudio: The Complete Pokemon Dataset\n",
    "\n",
    "<img src=\"https://storage.googleapis.com/kaggle-datasets-images/635/1204/126be74882028aac7241553cef0e27a7/dataset-cover.jpg\" width=\"100%\"></img>\n",
    "\n",
    "\n",
    "[The Complete Pokemon Dataset](https://www.kaggle.com/rounakbanik/pokemon) es un conjunto de datos disponible en la plataforma [Kaggle](https://www.kaggle.com/). Este conjunto de datos contiene información sobre _Pokemones_ disponibles hasta la séptima generación.\n",
    "\n",
    "Esta información abarca desde los nombres, generación, tipos y stats de los diferentes _Pokemones_, la cuál utilizaremos para analizar a las diferentes generaciones de pokemones."
   ]
  },
  {
   "cell_type": "code",
   "execution_count": 75,
   "metadata": {},
   "outputs": [],
   "source": [
    "dataset_path = \"https://labcomp.cl/~sborquez/datasets/pokemon/pokemon.csv\"\n",
    "\n",
    "columns = ['pokedex_number', 'name', 'type1', 'type2', 'classfication', 'generation', 'is_legendary',\n",
    "           'height_m', 'weight_kg', 'capture_rate', 'base_egg_steps', 'base_happiness',\n",
    "           'attack','defense', 'experience_growth', 'hp',\n",
    "           'sp_attack', 'sp_defense', 'speed']\n",
    "\n",
    "pokedata = pd.read_csv(dataset_path)[columns]\n",
    "pokedata.type2.fillna(value='None', inplace=True)\n",
    "pokedata.is_legendary = pokedata.is_legendary.astype(bool)"
   ]
  },
  {
   "cell_type": "code",
   "execution_count": 76,
   "metadata": {},
   "outputs": [
    {
     "name": "stdout",
     "output_type": "stream",
     "text": [
      "<class 'pandas.core.frame.DataFrame'>\n",
      "RangeIndex: 801 entries, 0 to 800\n",
      "Data columns (total 19 columns):\n",
      " #   Column             Non-Null Count  Dtype  \n",
      "---  ------             --------------  -----  \n",
      " 0   pokedex_number     801 non-null    int64  \n",
      " 1   name               801 non-null    object \n",
      " 2   type1              801 non-null    object \n",
      " 3   type2              801 non-null    object \n",
      " 4   classfication      801 non-null    object \n",
      " 5   generation         801 non-null    int64  \n",
      " 6   is_legendary       801 non-null    bool   \n",
      " 7   height_m           781 non-null    float64\n",
      " 8   weight_kg          781 non-null    float64\n",
      " 9   capture_rate       801 non-null    object \n",
      " 10  base_egg_steps     801 non-null    int64  \n",
      " 11  base_happiness     801 non-null    int64  \n",
      " 12  attack             801 non-null    int64  \n",
      " 13  defense            801 non-null    int64  \n",
      " 14  experience_growth  801 non-null    int64  \n",
      " 15  hp                 801 non-null    int64  \n",
      " 16  sp_attack          801 non-null    int64  \n",
      " 17  sp_defense         801 non-null    int64  \n",
      " 18  speed              801 non-null    int64  \n",
      "dtypes: bool(1), float64(2), int64(11), object(5)\n",
      "memory usage: 113.5+ KB\n"
     ]
    }
   ],
   "source": [
    "pokedata.info()"
   ]
  },
  {
   "cell_type": "code",
   "execution_count": 77,
   "metadata": {},
   "outputs": [
    {
     "data": {
      "text/html": [
       "<div>\n",
       "<style scoped>\n",
       "    .dataframe tbody tr th:only-of-type {\n",
       "        vertical-align: middle;\n",
       "    }\n",
       "\n",
       "    .dataframe tbody tr th {\n",
       "        vertical-align: top;\n",
       "    }\n",
       "\n",
       "    .dataframe thead th {\n",
       "        text-align: right;\n",
       "    }\n",
       "</style>\n",
       "<table border=\"1\" class=\"dataframe\">\n",
       "  <thead>\n",
       "    <tr style=\"text-align: right;\">\n",
       "      <th></th>\n",
       "      <th>pokedex_number</th>\n",
       "      <th>name</th>\n",
       "      <th>type1</th>\n",
       "      <th>type2</th>\n",
       "      <th>classfication</th>\n",
       "      <th>generation</th>\n",
       "      <th>is_legendary</th>\n",
       "      <th>height_m</th>\n",
       "      <th>weight_kg</th>\n",
       "      <th>capture_rate</th>\n",
       "      <th>base_egg_steps</th>\n",
       "      <th>base_happiness</th>\n",
       "      <th>attack</th>\n",
       "      <th>defense</th>\n",
       "      <th>experience_growth</th>\n",
       "      <th>hp</th>\n",
       "      <th>sp_attack</th>\n",
       "      <th>sp_defense</th>\n",
       "      <th>speed</th>\n",
       "    </tr>\n",
       "  </thead>\n",
       "  <tbody>\n",
       "    <tr>\n",
       "      <th>215</th>\n",
       "      <td>216</td>\n",
       "      <td>Teddiursa</td>\n",
       "      <td>normal</td>\n",
       "      <td>None</td>\n",
       "      <td>Little Bear Pokémon</td>\n",
       "      <td>2</td>\n",
       "      <td>False</td>\n",
       "      <td>0.6</td>\n",
       "      <td>8.8</td>\n",
       "      <td>120</td>\n",
       "      <td>5120</td>\n",
       "      <td>70</td>\n",
       "      <td>80</td>\n",
       "      <td>50</td>\n",
       "      <td>1000000</td>\n",
       "      <td>60</td>\n",
       "      <td>50</td>\n",
       "      <td>50</td>\n",
       "      <td>40</td>\n",
       "    </tr>\n",
       "    <tr>\n",
       "      <th>205</th>\n",
       "      <td>206</td>\n",
       "      <td>Dunsparce</td>\n",
       "      <td>normal</td>\n",
       "      <td>None</td>\n",
       "      <td>Land Snake Pokémon</td>\n",
       "      <td>2</td>\n",
       "      <td>False</td>\n",
       "      <td>1.5</td>\n",
       "      <td>14.0</td>\n",
       "      <td>190</td>\n",
       "      <td>5120</td>\n",
       "      <td>70</td>\n",
       "      <td>70</td>\n",
       "      <td>70</td>\n",
       "      <td>1000000</td>\n",
       "      <td>100</td>\n",
       "      <td>65</td>\n",
       "      <td>65</td>\n",
       "      <td>45</td>\n",
       "    </tr>\n",
       "    <tr>\n",
       "      <th>88</th>\n",
       "      <td>89</td>\n",
       "      <td>Muk</td>\n",
       "      <td>poison</td>\n",
       "      <td>poison</td>\n",
       "      <td>Sludge Pokémon</td>\n",
       "      <td>1</td>\n",
       "      <td>False</td>\n",
       "      <td>NaN</td>\n",
       "      <td>NaN</td>\n",
       "      <td>75</td>\n",
       "      <td>5120</td>\n",
       "      <td>70</td>\n",
       "      <td>105</td>\n",
       "      <td>75</td>\n",
       "      <td>1000000</td>\n",
       "      <td>105</td>\n",
       "      <td>65</td>\n",
       "      <td>100</td>\n",
       "      <td>50</td>\n",
       "    </tr>\n",
       "    <tr>\n",
       "      <th>743</th>\n",
       "      <td>744</td>\n",
       "      <td>Rockruff</td>\n",
       "      <td>rock</td>\n",
       "      <td>None</td>\n",
       "      <td>Puppy Pokémon</td>\n",
       "      <td>7</td>\n",
       "      <td>False</td>\n",
       "      <td>0.5</td>\n",
       "      <td>9.2</td>\n",
       "      <td>190</td>\n",
       "      <td>3840</td>\n",
       "      <td>70</td>\n",
       "      <td>65</td>\n",
       "      <td>40</td>\n",
       "      <td>1000000</td>\n",
       "      <td>45</td>\n",
       "      <td>30</td>\n",
       "      <td>40</td>\n",
       "      <td>60</td>\n",
       "    </tr>\n",
       "    <tr>\n",
       "      <th>742</th>\n",
       "      <td>743</td>\n",
       "      <td>Ribombee</td>\n",
       "      <td>bug</td>\n",
       "      <td>fairy</td>\n",
       "      <td>Bee Fly Pokémon</td>\n",
       "      <td>7</td>\n",
       "      <td>False</td>\n",
       "      <td>0.2</td>\n",
       "      <td>0.5</td>\n",
       "      <td>75</td>\n",
       "      <td>5120</td>\n",
       "      <td>70</td>\n",
       "      <td>55</td>\n",
       "      <td>60</td>\n",
       "      <td>1000000</td>\n",
       "      <td>60</td>\n",
       "      <td>95</td>\n",
       "      <td>70</td>\n",
       "      <td>124</td>\n",
       "    </tr>\n",
       "  </tbody>\n",
       "</table>\n",
       "</div>"
      ],
      "text/plain": [
       "     pokedex_number       name   type1   type2        classfication  \\\n",
       "215             216  Teddiursa  normal    None  Little Bear Pokémon   \n",
       "205             206  Dunsparce  normal    None   Land Snake Pokémon   \n",
       "88               89        Muk  poison  poison       Sludge Pokémon   \n",
       "743             744   Rockruff    rock    None        Puppy Pokémon   \n",
       "742             743   Ribombee     bug   fairy      Bee Fly Pokémon   \n",
       "\n",
       "     generation  is_legendary  height_m  weight_kg capture_rate  \\\n",
       "215           2         False       0.6        8.8          120   \n",
       "205           2         False       1.5       14.0          190   \n",
       "88            1         False       NaN        NaN           75   \n",
       "743           7         False       0.5        9.2          190   \n",
       "742           7         False       0.2        0.5           75   \n",
       "\n",
       "     base_egg_steps  base_happiness  attack  defense  experience_growth   hp  \\\n",
       "215            5120              70      80       50            1000000   60   \n",
       "205            5120              70      70       70            1000000  100   \n",
       "88             5120              70     105       75            1000000  105   \n",
       "743            3840              70      65       40            1000000   45   \n",
       "742            5120              70      55       60            1000000   60   \n",
       "\n",
       "     sp_attack  sp_defense  speed  \n",
       "215         50          50     40  \n",
       "205         65          65     45  \n",
       "88          65         100     50  \n",
       "743         30          40     60  \n",
       "742         95          70    124  "
      ]
     },
     "execution_count": 77,
     "metadata": {},
     "output_type": "execute_result"
    }
   ],
   "source": [
    "pokedata.sample(5)"
   ]
  },
  {
   "cell_type": "markdown",
   "metadata": {},
   "source": [
    "<div id=\"1.3.1\"></div>"
   ]
  },
  {
   "cell_type": "markdown",
   "metadata": {},
   "source": [
    "## Estadísticas Básicas\n",
    "\n",
    "Lo especial de este dataset es que la mayoría de sus columnas son tipos numericos: `int64` y `float64`. Esto nos permite calcular las siguientes medidas."
   ]
  },
  {
   "cell_type": "code",
   "execution_count": 78,
   "metadata": {},
   "outputs": [
    {
     "name": "stdout",
     "output_type": "stream",
     "text": [
      "Estadísticos\n",
      "El Pokemon más pequeño mide 0.1 metros.\n",
      "El Pokemon más pesado pesa 999.9 kilogramos.\n",
      "La defensa media es de 70.0\n",
      "El percentil 95 de 'sp_attack' es de 131.0\n",
      "El ataque promedio es de  77.858\n",
      "La varianza de el 'speed' es de 835.653\n",
      "La desviación standard de el 'speed' es de 28.908\n",
      "\n",
      "Operaciones Aritmeticas\n",
      "Un arca con una pareja de cada pokemones pesaría: 95872.60 [kg]\n"
     ]
    }
   ],
   "source": [
    "# Minimo y Maximo\n",
    "print(\"Estadísticos\")\n",
    "print(f\"El Pokemon más pequeño mide {pokedata.height_m.min()} metros.\")\n",
    "print(f\"El Pokemon más pesado pesa {pokedata.weight_kg.max()} kilogramos.\")\n",
    "\n",
    "# Mediana\n",
    "print(f\"La defensa media es de {pokedata.defense.median()}\")\n",
    "\n",
    "# Percentil\n",
    "print(f\"El percentil 95 de 'sp_attack' es de {np.percentile(pokedata.sp_attack, 95)}\")\n",
    "\n",
    "# Promedio o Media \n",
    "print(f\"El ataque promedio es de  {pokedata.attack.mean():.3f}\")\n",
    "\n",
    "# Var y std\n",
    "print(f\"La varianza de el 'speed' es de {pokedata.speed.var():.3f}\")\n",
    "print(f\"La desviación standard de el 'speed' es de {pokedata.speed.std():.3f}\")\n",
    "\n",
    "# Operaciones Aritméticas\n",
    "print()\n",
    "print(\"Operaciones Aritmeticas\")\n",
    "print(f\"Un arca con una pareja de cada pokemones pesaría: {2*pokedata.weight_kg.sum():.2f} [kg]\")"
   ]
  },
  {
   "cell_type": "markdown",
   "metadata": {},
   "source": [
    "De todas formas, esto se puede hacer en una sola linea usando el método `df.describe()`"
   ]
  },
  {
   "cell_type": "code",
   "execution_count": 79,
   "metadata": {},
   "outputs": [
    {
     "data": {
      "text/html": [
       "<div>\n",
       "<style scoped>\n",
       "    .dataframe tbody tr th:only-of-type {\n",
       "        vertical-align: middle;\n",
       "    }\n",
       "\n",
       "    .dataframe tbody tr th {\n",
       "        vertical-align: top;\n",
       "    }\n",
       "\n",
       "    .dataframe thead th {\n",
       "        text-align: right;\n",
       "    }\n",
       "</style>\n",
       "<table border=\"1\" class=\"dataframe\">\n",
       "  <thead>\n",
       "    <tr style=\"text-align: right;\">\n",
       "      <th></th>\n",
       "      <th>pokedex_number</th>\n",
       "      <th>generation</th>\n",
       "      <th>height_m</th>\n",
       "      <th>weight_kg</th>\n",
       "      <th>base_egg_steps</th>\n",
       "      <th>base_happiness</th>\n",
       "      <th>attack</th>\n",
       "      <th>defense</th>\n",
       "      <th>experience_growth</th>\n",
       "      <th>hp</th>\n",
       "      <th>sp_attack</th>\n",
       "      <th>sp_defense</th>\n",
       "      <th>speed</th>\n",
       "    </tr>\n",
       "  </thead>\n",
       "  <tbody>\n",
       "    <tr>\n",
       "      <th>count</th>\n",
       "      <td>801.000000</td>\n",
       "      <td>801.000000</td>\n",
       "      <td>781.000000</td>\n",
       "      <td>781.000000</td>\n",
       "      <td>801.000000</td>\n",
       "      <td>801.000000</td>\n",
       "      <td>801.000000</td>\n",
       "      <td>801.000000</td>\n",
       "      <td>8.010000e+02</td>\n",
       "      <td>801.000000</td>\n",
       "      <td>801.000000</td>\n",
       "      <td>801.000000</td>\n",
       "      <td>801.000000</td>\n",
       "    </tr>\n",
       "    <tr>\n",
       "      <th>mean</th>\n",
       "      <td>401.000000</td>\n",
       "      <td>3.690387</td>\n",
       "      <td>1.163892</td>\n",
       "      <td>61.378105</td>\n",
       "      <td>7191.011236</td>\n",
       "      <td>65.362047</td>\n",
       "      <td>77.857678</td>\n",
       "      <td>73.008739</td>\n",
       "      <td>1.054996e+06</td>\n",
       "      <td>68.958801</td>\n",
       "      <td>71.305868</td>\n",
       "      <td>70.911361</td>\n",
       "      <td>66.334582</td>\n",
       "    </tr>\n",
       "    <tr>\n",
       "      <th>std</th>\n",
       "      <td>231.373075</td>\n",
       "      <td>1.930420</td>\n",
       "      <td>1.080326</td>\n",
       "      <td>109.354766</td>\n",
       "      <td>6558.220422</td>\n",
       "      <td>19.598948</td>\n",
       "      <td>32.158820</td>\n",
       "      <td>30.769159</td>\n",
       "      <td>1.602558e+05</td>\n",
       "      <td>26.576015</td>\n",
       "      <td>32.353826</td>\n",
       "      <td>27.942501</td>\n",
       "      <td>28.907662</td>\n",
       "    </tr>\n",
       "    <tr>\n",
       "      <th>min</th>\n",
       "      <td>1.000000</td>\n",
       "      <td>1.000000</td>\n",
       "      <td>0.100000</td>\n",
       "      <td>0.100000</td>\n",
       "      <td>1280.000000</td>\n",
       "      <td>0.000000</td>\n",
       "      <td>5.000000</td>\n",
       "      <td>5.000000</td>\n",
       "      <td>6.000000e+05</td>\n",
       "      <td>1.000000</td>\n",
       "      <td>10.000000</td>\n",
       "      <td>20.000000</td>\n",
       "      <td>5.000000</td>\n",
       "    </tr>\n",
       "    <tr>\n",
       "      <th>25%</th>\n",
       "      <td>201.000000</td>\n",
       "      <td>2.000000</td>\n",
       "      <td>0.600000</td>\n",
       "      <td>9.000000</td>\n",
       "      <td>5120.000000</td>\n",
       "      <td>70.000000</td>\n",
       "      <td>55.000000</td>\n",
       "      <td>50.000000</td>\n",
       "      <td>1.000000e+06</td>\n",
       "      <td>50.000000</td>\n",
       "      <td>45.000000</td>\n",
       "      <td>50.000000</td>\n",
       "      <td>45.000000</td>\n",
       "    </tr>\n",
       "    <tr>\n",
       "      <th>50%</th>\n",
       "      <td>401.000000</td>\n",
       "      <td>4.000000</td>\n",
       "      <td>1.000000</td>\n",
       "      <td>27.300000</td>\n",
       "      <td>5120.000000</td>\n",
       "      <td>70.000000</td>\n",
       "      <td>75.000000</td>\n",
       "      <td>70.000000</td>\n",
       "      <td>1.000000e+06</td>\n",
       "      <td>65.000000</td>\n",
       "      <td>65.000000</td>\n",
       "      <td>66.000000</td>\n",
       "      <td>65.000000</td>\n",
       "    </tr>\n",
       "    <tr>\n",
       "      <th>75%</th>\n",
       "      <td>601.000000</td>\n",
       "      <td>5.000000</td>\n",
       "      <td>1.500000</td>\n",
       "      <td>64.800000</td>\n",
       "      <td>6400.000000</td>\n",
       "      <td>70.000000</td>\n",
       "      <td>100.000000</td>\n",
       "      <td>90.000000</td>\n",
       "      <td>1.059860e+06</td>\n",
       "      <td>80.000000</td>\n",
       "      <td>91.000000</td>\n",
       "      <td>90.000000</td>\n",
       "      <td>85.000000</td>\n",
       "    </tr>\n",
       "    <tr>\n",
       "      <th>max</th>\n",
       "      <td>801.000000</td>\n",
       "      <td>7.000000</td>\n",
       "      <td>14.500000</td>\n",
       "      <td>999.900000</td>\n",
       "      <td>30720.000000</td>\n",
       "      <td>140.000000</td>\n",
       "      <td>185.000000</td>\n",
       "      <td>230.000000</td>\n",
       "      <td>1.640000e+06</td>\n",
       "      <td>255.000000</td>\n",
       "      <td>194.000000</td>\n",
       "      <td>230.000000</td>\n",
       "      <td>180.000000</td>\n",
       "    </tr>\n",
       "  </tbody>\n",
       "</table>\n",
       "</div>"
      ],
      "text/plain": [
       "       pokedex_number  generation    height_m   weight_kg  base_egg_steps  \\\n",
       "count      801.000000  801.000000  781.000000  781.000000      801.000000   \n",
       "mean       401.000000    3.690387    1.163892   61.378105     7191.011236   \n",
       "std        231.373075    1.930420    1.080326  109.354766     6558.220422   \n",
       "min          1.000000    1.000000    0.100000    0.100000     1280.000000   \n",
       "25%        201.000000    2.000000    0.600000    9.000000     5120.000000   \n",
       "50%        401.000000    4.000000    1.000000   27.300000     5120.000000   \n",
       "75%        601.000000    5.000000    1.500000   64.800000     6400.000000   \n",
       "max        801.000000    7.000000   14.500000  999.900000    30720.000000   \n",
       "\n",
       "       base_happiness      attack     defense  experience_growth          hp  \\\n",
       "count      801.000000  801.000000  801.000000       8.010000e+02  801.000000   \n",
       "mean        65.362047   77.857678   73.008739       1.054996e+06   68.958801   \n",
       "std         19.598948   32.158820   30.769159       1.602558e+05   26.576015   \n",
       "min          0.000000    5.000000    5.000000       6.000000e+05    1.000000   \n",
       "25%         70.000000   55.000000   50.000000       1.000000e+06   50.000000   \n",
       "50%         70.000000   75.000000   70.000000       1.000000e+06   65.000000   \n",
       "75%         70.000000  100.000000   90.000000       1.059860e+06   80.000000   \n",
       "max        140.000000  185.000000  230.000000       1.640000e+06  255.000000   \n",
       "\n",
       "        sp_attack  sp_defense       speed  \n",
       "count  801.000000  801.000000  801.000000  \n",
       "mean    71.305868   70.911361   66.334582  \n",
       "std     32.353826   27.942501   28.907662  \n",
       "min     10.000000   20.000000    5.000000  \n",
       "25%     45.000000   50.000000   45.000000  \n",
       "50%     65.000000   66.000000   65.000000  \n",
       "75%     91.000000   90.000000   85.000000  \n",
       "max    194.000000  230.000000  180.000000  "
      ]
     },
     "execution_count": 79,
     "metadata": {},
     "output_type": "execute_result"
    }
   ],
   "source": [
    "pokedata.describe()"
   ]
  },
  {
   "cell_type": "markdown",
   "metadata": {},
   "source": [
    "<div id=\"1.3.2\"></div>"
   ]
  },
  {
   "cell_type": "markdown",
   "metadata": {},
   "source": [
    "## Operaciones y Comparaciones entre Columnas"
   ]
  },
  {
   "cell_type": "markdown",
   "metadata": {
    "colab_type": "text",
    "id": "k0gf8_-I1Kzk"
   },
   "source": [
    "### Comparar  distribucion entre dos Columnas\n",
    "\n",
    "Quizás lo que nos interesa es saber como se distribuyen nuestros individuos pero en **dos variables**. Para esto existen las tablas de contigencia disponibles con el comando **`pd.crosstab(pd.Series, pd.Series)`**. Como argumento, recibe dos columnas (o también llamadas Series)."
   ]
  },
  {
   "cell_type": "code",
   "execution_count": 80,
   "metadata": {},
   "outputs": [
    {
     "data": {
      "text/html": [
       "<div>\n",
       "<style scoped>\n",
       "    .dataframe tbody tr th:only-of-type {\n",
       "        vertical-align: middle;\n",
       "    }\n",
       "\n",
       "    .dataframe tbody tr th {\n",
       "        vertical-align: top;\n",
       "    }\n",
       "\n",
       "    .dataframe thead th {\n",
       "        text-align: right;\n",
       "    }\n",
       "</style>\n",
       "<table border=\"1\" class=\"dataframe\">\n",
       "  <thead>\n",
       "    <tr style=\"text-align: right;\">\n",
       "      <th>generation</th>\n",
       "      <th>1</th>\n",
       "      <th>2</th>\n",
       "      <th>3</th>\n",
       "      <th>4</th>\n",
       "      <th>5</th>\n",
       "      <th>6</th>\n",
       "      <th>7</th>\n",
       "    </tr>\n",
       "    <tr>\n",
       "      <th>is_legendary</th>\n",
       "      <th></th>\n",
       "      <th></th>\n",
       "      <th></th>\n",
       "      <th></th>\n",
       "      <th></th>\n",
       "      <th></th>\n",
       "      <th></th>\n",
       "    </tr>\n",
       "  </thead>\n",
       "  <tbody>\n",
       "    <tr>\n",
       "      <th>False</th>\n",
       "      <td>146</td>\n",
       "      <td>94</td>\n",
       "      <td>125</td>\n",
       "      <td>94</td>\n",
       "      <td>143</td>\n",
       "      <td>66</td>\n",
       "      <td>63</td>\n",
       "    </tr>\n",
       "    <tr>\n",
       "      <th>True</th>\n",
       "      <td>5</td>\n",
       "      <td>6</td>\n",
       "      <td>10</td>\n",
       "      <td>13</td>\n",
       "      <td>13</td>\n",
       "      <td>6</td>\n",
       "      <td>17</td>\n",
       "    </tr>\n",
       "  </tbody>\n",
       "</table>\n",
       "</div>"
      ],
      "text/plain": [
       "generation      1   2    3   4    5   6   7\n",
       "is_legendary                               \n",
       "False         146  94  125  94  143  66  63\n",
       "True            5   6   10  13   13   6  17"
      ]
     },
     "execution_count": 80,
     "metadata": {},
     "output_type": "execute_result"
    }
   ],
   "source": [
    "pd.crosstab(pokedata[\"is_legendary\"], pokedata[\"generation\"])"
   ]
  },
  {
   "cell_type": "markdown",
   "metadata": {},
   "source": [
    "### Correlación\n",
    "\n",
    "Podemos medir la correlación entre variables, para esto generaremos una nueva columna a partir de columnas existentes"
   ]
  },
  {
   "cell_type": "code",
   "execution_count": 81,
   "metadata": {},
   "outputs": [
    {
     "data": {
      "text/html": [
       "<div>\n",
       "<style scoped>\n",
       "    .dataframe tbody tr th:only-of-type {\n",
       "        vertical-align: middle;\n",
       "    }\n",
       "\n",
       "    .dataframe tbody tr th {\n",
       "        vertical-align: top;\n",
       "    }\n",
       "\n",
       "    .dataframe thead th {\n",
       "        text-align: right;\n",
       "    }\n",
       "</style>\n",
       "<table border=\"1\" class=\"dataframe\">\n",
       "  <thead>\n",
       "    <tr style=\"text-align: right;\">\n",
       "      <th></th>\n",
       "      <th>height_m</th>\n",
       "      <th>weight_kg</th>\n",
       "      <th>IMC</th>\n",
       "      <th>speed</th>\n",
       "    </tr>\n",
       "  </thead>\n",
       "  <tbody>\n",
       "    <tr>\n",
       "      <th>height_m</th>\n",
       "      <td>1.000000</td>\n",
       "      <td>0.626551</td>\n",
       "      <td>0.079338</td>\n",
       "      <td>0.202202</td>\n",
       "    </tr>\n",
       "    <tr>\n",
       "      <th>weight_kg</th>\n",
       "      <td>0.626551</td>\n",
       "      <td>1.000000</td>\n",
       "      <td>0.583799</td>\n",
       "      <td>0.051384</td>\n",
       "    </tr>\n",
       "    <tr>\n",
       "      <th>IMC</th>\n",
       "      <td>0.079338</td>\n",
       "      <td>0.583799</td>\n",
       "      <td>1.000000</td>\n",
       "      <td>-0.037963</td>\n",
       "    </tr>\n",
       "    <tr>\n",
       "      <th>speed</th>\n",
       "      <td>0.202202</td>\n",
       "      <td>0.051384</td>\n",
       "      <td>-0.037963</td>\n",
       "      <td>1.000000</td>\n",
       "    </tr>\n",
       "  </tbody>\n",
       "</table>\n",
       "</div>"
      ],
      "text/plain": [
       "           height_m  weight_kg       IMC     speed\n",
       "height_m   1.000000   0.626551  0.079338  0.202202\n",
       "weight_kg  0.626551   1.000000  0.583799  0.051384\n",
       "IMC        0.079338   0.583799  1.000000 -0.037963\n",
       "speed      0.202202   0.051384 -0.037963  1.000000"
      ]
     },
     "execution_count": 81,
     "metadata": {},
     "output_type": "execute_result"
    }
   ],
   "source": [
    "pokedata[\"IMC\"] = pokedata[\"weight_kg\"]/np.power(2, pokedata[\"height_m\"])\n",
    "pokedata[[\"height_m\", \"weight_kg\", \"IMC\", \"speed\"]].corr()"
   ]
  },
  {
   "cell_type": "markdown",
   "metadata": {},
   "source": [
    "### Agrupar en Bins"
   ]
  },
  {
   "cell_type": "code",
   "execution_count": 82,
   "metadata": {},
   "outputs": [
    {
     "data": {
      "text/html": [
       "<div>\n",
       "<style scoped>\n",
       "    .dataframe tbody tr th:only-of-type {\n",
       "        vertical-align: middle;\n",
       "    }\n",
       "\n",
       "    .dataframe tbody tr th {\n",
       "        vertical-align: top;\n",
       "    }\n",
       "\n",
       "    .dataframe thead th {\n",
       "        text-align: right;\n",
       "    }\n",
       "</style>\n",
       "<table border=\"1\" class=\"dataframe\">\n",
       "  <thead>\n",
       "    <tr style=\"text-align: right;\">\n",
       "      <th></th>\n",
       "      <th>attack</th>\n",
       "      <th>defense</th>\n",
       "    </tr>\n",
       "    <tr>\n",
       "      <th>hp_bin</th>\n",
       "      <th></th>\n",
       "      <th></th>\n",
       "    </tr>\n",
       "  </thead>\n",
       "  <tbody>\n",
       "    <tr>\n",
       "      <th>(0.746, 64.5]</th>\n",
       "      <td>60.591281</td>\n",
       "      <td>62.302452</td>\n",
       "    </tr>\n",
       "    <tr>\n",
       "      <th>(64.5, 128.0]</th>\n",
       "      <td>92.766265</td>\n",
       "      <td>82.934940</td>\n",
       "    </tr>\n",
       "    <tr>\n",
       "      <th>(128.0, 191.5]</th>\n",
       "      <td>94.200000</td>\n",
       "      <td>67.200000</td>\n",
       "    </tr>\n",
       "    <tr>\n",
       "      <th>(191.5, 255.0]</th>\n",
       "      <td>54.000000</td>\n",
       "      <td>47.250000</td>\n",
       "    </tr>\n",
       "  </tbody>\n",
       "</table>\n",
       "</div>"
      ],
      "text/plain": [
       "                   attack    defense\n",
       "hp_bin                              \n",
       "(0.746, 64.5]   60.591281  62.302452\n",
       "(64.5, 128.0]   92.766265  82.934940\n",
       "(128.0, 191.5]  94.200000  67.200000\n",
       "(191.5, 255.0]  54.000000  47.250000"
      ]
     },
     "execution_count": 82,
     "metadata": {},
     "output_type": "execute_result"
    }
   ],
   "source": [
    "# Creamos una columna con los bins\n",
    "pokedata[\"hp_bin\"] = pd.cut(pokedata.hp, bins=4)\n",
    "\n",
    "# Agrupamos usando esta columna y luego cualquer agg\n",
    "pokedata.groupby(\"hp_bin\")[[\"attack\", \"defense\"]].mean()"
   ]
  },
  {
   "cell_type": "markdown",
   "metadata": {},
   "source": [
    "<div id=\"1.3.3\"></div>"
   ]
  },
  {
   "cell_type": "markdown",
   "metadata": {},
   "source": [
    "## Visualización Estadística de Datos\n",
    "\n",
    "\n",
    "`Seaborn` agrega más funcionalidades a `matplotlib`, fácilidades para crear **plots estadísticos** y **mejoras visuales**. "
   ]
  },
  {
   "cell_type": "code",
   "execution_count": 83,
   "metadata": {},
   "outputs": [],
   "source": [
    "# Modulos para visualizaciones\n",
    "import matplotlib.pyplot as plt\n",
    "import seaborn as sns; sns.set()"
   ]
  },
  {
   "cell_type": "markdown",
   "metadata": {},
   "source": [
    "### HeatMap\n",
    "\n",
    "Más en este [link](https://seaborn.pydata.org/generated/seaborn.heatmap.html?highlight=heatmap#seaborn.heatmap)"
   ]
  },
  {
   "cell_type": "code",
   "execution_count": 84,
   "metadata": {},
   "outputs": [
    {
     "data": {
      "image/png": "[encoded data removed]",
      "text/plain": [
       "<Figure size 576x432 with 2 Axes>"
      ]
     },
     "metadata": {},
     "output_type": "display_data"
    }
   ],
   "source": [
    "# Calcular la Correlación the correlation matrix\n",
    "corr = pokedata[[\"height_m\", \"weight_kg\", \"IMC\", \"speed\"]].corr()\n",
    "\n",
    "# Generar una mask para solo mostrar un matriz triangular\n",
    "mask = np.triu(np.ones_like(corr, dtype=np.bool))\n",
    "\n",
    "# Figure\n",
    "plt.subplots(figsize=(8, 6))\n",
    "axis=plt.gca()\n",
    "plt.title(\"Matriz de Correlación\")\n",
    "\n",
    "# Paleta de color\n",
    "cmap = sns.diverging_palette(220, 10, as_cmap=True)\n",
    "\n",
    "# Dibujar Heatmap\n",
    "sns.heatmap(corr, mask=mask, cmap=cmap, vmax=1, vmin=-1, center=0,\n",
    "            annot=True, fmt=\".2f\",  ax=axis,\n",
    "            square=True, linewidths=.5, cbar_kws={\"shrink\": .5})\n",
    "\n",
    "plt.show()"
   ]
  },
  {
   "cell_type": "markdown",
   "metadata": {},
   "source": [
    "### Violin Plot\n",
    "\n",
    "\n",
    "Más en este [link](https://seaborn.pydata.org/generated/seaborn.violinplot.html)\n"
   ]
  },
  {
   "cell_type": "code",
   "execution_count": 85,
   "metadata": {},
   "outputs": [
    {
     "data": {
      "image/png": "[encoded data removed]",
      "text/plain": [
       "<Figure size 864x432 with 1 Axes>"
      ]
     },
     "metadata": {},
     "output_type": "display_data"
    }
   ],
   "source": [
    "# Estilo\n",
    "plt.figure(figsize=(12,6))\n",
    "axis = plt.gca()\n",
    "plt.title(\"Distribución de 'attack' por generación\")\n",
    "\n",
    "# paleta de colores\n",
    "pal = sns.cubehelix_palette(8, rot=-.5, dark=.3)\n",
    "\n",
    "# Show each distribution with both violins and points\n",
    "sns.violinplot(x=\"generation\", y=\"attack\", data=pokedata, palette=pal, inner=\"points\", ax=axis)\n",
    "\n",
    "plt.show();"
   ]
  },
  {
   "cell_type": "markdown",
   "metadata": {},
   "source": [
    "### Pair Plots\n",
    "\n",
    "Más en este [link](https://seaborn.pydata.org/examples/scatterplot_matrix.html)"
   ]
  },
  {
   "cell_type": "code",
   "execution_count": 86,
   "metadata": {},
   "outputs": [
    {
     "data": {
      "image/png": "[encoded data removed]",
      "text/plain": [
       "<Figure size 786.55x720 with 20 Axes>"
      ]
     },
     "metadata": {},
     "output_type": "display_data"
    }
   ],
   "source": [
    "df_=pokedata[[\"is_legendary\", \"attack\", \"defense\", \"hp\",\"speed\"]]\n",
    "\n",
    "g = sns.pairplot(df_, hue=\"is_legendary\")\n",
    "g.map_lower(sns.kdeplot)\n",
    "g.map_upper(sns.kdeplot)\n",
    "g.fig.suptitle(\"Distribuciones para legendarios y no legendarios\", y=1.08)\n",
    "plt.show();"
   ]
  }
 ],
 "metadata": {
  "colab": {
   "collapsed_sections": [
    "Pmb1s2Jq1Kzf",
    "N4w4IIXd1Kzh",
    "k0gf8_-I1Kzk",
    "oiFbkUWT1K0K",
    "oz1gIlQC1K0M",
    "KtkHfTKQ1K0O",
    "d0Mn6iPt1K0R"
   ],
   "name": "1. Análisis Exploratorio.ipynb",
   "provenance": []
  },
  "kernelspec": {
   "display_name": "Python 3",
   "language": "python",
   "name": "python3"
  },
  "language_info": {
   "codemirror_mode": {
    "name": "ipython",
    "version": 3
   },
   "file_extension": ".py",
   "mimetype": "text/x-python",
   "name": "python",
   "nbconvert_exporter": "python",
   "pygments_lexer": "ipython3",
   "version": "3.7.6"
  }
 },
 "nbformat": 4,
 "nbformat_minor": 4
}
