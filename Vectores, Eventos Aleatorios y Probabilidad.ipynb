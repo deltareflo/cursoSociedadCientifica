{
 "cells": [
  {
   "cell_type": "markdown",
   "metadata": {},
   "source": [
    "Tabla de Contenido\n",
    "\n",
    "    Introducción a NumPy\n",
    "        NumPy ndarray: El Objeto Arreglo Multidimensional\n",
    "    Simulaciones\n",
    "        Eventos Aleatorios\n",
    "        Random Walk\n",
    "    Teorema de Bayes\n"
   ]
  },
  {
   "cell_type": "markdown",
   "metadata": {},
   "source": [
    "\n",
    "## Introducción a NumPy\n",
    "\n",
    "**[NumPy](http://www.numpy.org/)\n",
    " (Numeric Python)** es el módulo de Python para el cálculo científico, incluye soporte para el uso de **arrays n dimensionales (ndarray)**, un rápido y eficiente  arreglo multidimensional provisto de operaciones aritméticas vectorizadas. Es requisito para la mayoría de los módulos que realizan operaciones de alto rendimiento. Además incluye el submodulo **numpy.random** para la generación de variables aleatorias.\n",
    "\n",
    "Para poder utilizarlo debemos agregar la siguiente linea a nuestro código:\n",
    "\n",
    "```python\n",
    "import numpy as np\n",
    "```\n",
    "\n",
    "A continuación se revisarán los comandos básicos que se utilizarán durante esta actividad, para mayor información del módulo se recomienda revisar el siguiente [tutorial](https://docs.scipy.org/doc/numpy/user/quickstart.html)\n",
    "\n",
    "<div id=\"2.1.1\"></div>\n",
    "\n",
    "### NumPy ndarray: El Objeto Arreglo Multidimensional\n",
    "\n",
    "La característica principal de NumPy es su arreglo N-dimensional, o **ndarray**, contenedor flexible y rápido para grandes conjuntos de datos en Python. Nos permiten realizar operaciones matemáticas en un bloque de datos usando una sintaxis similar a realizar operaciones con elementos escalares:\n"
   ]
  },
  {
   "cell_type": "code",
   "execution_count": 14,
   "metadata": {},
   "outputs": [
    {
     "name": "stdout",
     "output_type": "stream",
     "text": [
      "<class 'numpy.ndarray'>\n"
     ]
    },
    {
     "data": {
      "text/plain": [
       "array([[ 0.932, -0.323,  0.147],\n",
       "       [ 0.442,  0.   , -0.231]])"
      ]
     },
     "execution_count": 14,
     "metadata": {},
     "output_type": "execute_result"
    }
   ],
   "source": [
    "import numpy as np\n",
    "\n",
    "data = np.array([[0.932, -0.323, 0.147], [0.442, 0.0, -0.231]])\n",
    "\n",
    "print(type(data))\n",
    "\n",
    "data"
   ]
  },
  {
   "cell_type": "code",
   "execution_count": 2,
   "metadata": {},
   "outputs": [
    {
     "data": {
      "text/plain": [
       "array([[4.63587323, 5.8798375 , 5.3429182 ],\n",
       "       [5.05328923, 5.5       , 5.76640805]])"
      ]
     },
     "execution_count": 2,
     "metadata": {},
     "output_type": "execute_result"
    }
   ],
   "source": [
    "55 / (2*data + 10)"
   ]
  },
  {
   "cell_type": "markdown",
   "metadata": {},
   "source": [
    "Un _ndarray_ es un contenedor generico multidimensional para data homogenia; esto es, **todos los elementos deben ser del mismo tipo**. Cada array tiene su forma o **shape**, una tupla que indica el tamaño de cada dimension, y un **dtype**, un objeto que describe el tipo de la data almacenada en el array:"
   ]
  },
  {
   "cell_type": "code",
   "execution_count": 3,
   "metadata": {},
   "outputs": [
    {
     "name": "stdout",
     "output_type": "stream",
     "text": [
      "Dimensiones: 2\n",
      "Tamaño de las dimensiones del arreglo: (2, 3)\n",
      "Tipos de los elementos: float64\n"
     ]
    }
   ],
   "source": [
    "print(\"Dimensiones:\", data.ndim)\n",
    "print(\"Tamaño de las dimensiones del arreglo:\", data.shape)\n",
    "print(\"Tipos de los elementos:\", data.dtype)"
   ]
  },
  {
   "cell_type": "markdown",
   "metadata": {},
   "source": [
    "### Crear Arreglos\n",
    "\n",
    "La manera más fácil de crear arreglos es usando `np.array(iterable)`, pero existe más funciones que se adecuan a distintas necesidades."
   ]
  },
  {
   "cell_type": "code",
   "execution_count": 4,
   "metadata": {},
   "outputs": [
    {
     "name": "stdout",
     "output_type": "stream",
     "text": [
      "Array constructor\n",
      "[ 2  3  5 10 -1]\n",
      "\n",
      "Ceros:\n",
      "[[0. 0. 0.]\n",
      " [0. 0. 0.]\n",
      " [0. 0. 0.]]\n",
      "\n",
      "Unos:\n",
      "[[1. 1. 1.]\n",
      " [1. 1. 1.]\n",
      " [1. 1. 1.]]\n",
      "\n",
      "Empty:\n",
      "[[6.23042070e-307 4.67296746e-307 1.69121096e-306]\n",
      " [8.90104918e-307 1.33511018e-306 1.33511969e-306]\n",
      " [6.23037996e-307 1.69121639e-306 1.33511290e-306]\n",
      " [9.79109909e-307 1.00138424e-307 8.01097889e-307]\n",
      " [1.78020169e-306 7.56601165e-307 1.02359984e-306]\n",
      " [1.33510679e-306 2.22522597e-306 2.05837121e-312]]\n",
      "\n",
      "Range:\n",
      "[0. 1. 2. 3. 4. 5. 6. 7. 8. 9.]\n",
      "\n",
      "Regular grid:\n",
      "[0.    0.125 0.25  0.375 0.5   0.625 0.75  0.875 1.   ]\n",
      "\n",
      "Random:\n",
      "[9.00357221 8.451178   5.77941264 8.52663836 7.90356305 7.52064986]\n"
     ]
    }
   ],
   "source": [
    "# Array constructor: np.array( python_iterable )\n",
    "print(\"Array constructor\")\n",
    "print( np.array([2, 3, 5, 10, -1]) )\n",
    "\n",
    "# Arrays de ceros: np.zeros(shape)\n",
    "print(\"\\nCeros:\")\n",
    "print( np.zeros((3,3)) )\n",
    "\n",
    "# Arrays de unos: np.ones(shape)\n",
    "print(\"\\nUnos:\")\n",
    "print( np.ones((3,3)) )\n",
    "\n",
    "# Array vacio: np.empty(shape)\n",
    "print(\"\\nEmpty:\")\n",
    "print( np.empty((6,3)) )\n",
    "\n",
    "# Range: np.range(start, stop, step)\n",
    "print(\"\\nRange:\")\n",
    "print( np.arange(0., 10., 1.) )\n",
    "\n",
    "# Regular grid: np.linspace(start, end, n_values)\n",
    "print(\"\\nRegular grid:\")\n",
    "print( np.linspace(0., 1., 9) )\n",
    "\n",
    "# Secuencia random: np.random\n",
    "print(\"\\nRandom:\")\n",
    "print( np.random.uniform(10, size=6) )"
   ]
  },
  {
   "cell_type": "markdown",
   "metadata": {},
   "source": [
    "### Operaciones matemáticas básicas\n",
    "\n",
    "La mayoría de las operaciones realizadas en NumPy son realizadas `element-wise`, por ejemplo calcular $C = A + B$ se traduce a $C[i,j] = A[i,j] + B[i,j]$."
   ]
  },
  {
   "cell_type": "code",
   "execution_count": 5,
   "metadata": {},
   "outputs": [
    {
     "name": "stdout",
     "output_type": "stream",
     "text": [
      "[[0.66355043 0.55483292 0.77955151]\n",
      " [0.44640013 0.51346253 0.87816865]]\n",
      "[[0.85058549 0.17077151 0.73547911]\n",
      " [0.58400733 0.64700223 0.91791699]]\n",
      "Sum:\n",
      "[[1.51413592 0.72560442 1.51503062]\n",
      " [1.03040746 1.16046476 1.79608564]]\n",
      "\n",
      "Subtraction\n",
      "[[-0.18703506  0.38406141  0.0440724 ]\n",
      " [-0.1376072  -0.1335397  -0.03974833]]\n",
      "\n",
      "Product\n",
      "[[0.56440637 0.09474965 0.57334385]\n",
      " [0.26070095 0.3322114  0.80608592]]\n",
      "\n",
      "Matricial Product (A*B^T)\n",
      "[[1.23249987 1.46206002]\n",
      " [1.11326095 1.39899827]]\n",
      "\n",
      "Transpose\n",
      "[[0.66355043 0.44640013]\n",
      " [0.55483292 0.51346253]\n",
      " [0.77955151 0.87816865]]\n",
      "[[0.85058549 0.58400733]\n",
      " [0.17077151 0.64700223]\n",
      " [0.73547911 0.91791699]]\n",
      "\n",
      " Power\n",
      "[[0.44029918 0.30783957 0.60770055]\n",
      " [0.19927308 0.26364377 0.77118018]]\n",
      "\n",
      " np.exp()\n",
      "[[1.94167389 1.74164996 2.18049411]\n",
      " [1.56267662 1.67106731 2.40648855]]\n",
      "\n",
      " np.sin()\n",
      "[[0.6159178  0.52680129 0.70296051]\n",
      " [0.43172123 0.49119622 0.76957074]]\n",
      "\n",
      " np.cos()\n",
      "[[0.78781043 0.84998847 0.71122888]\n",
      " [0.90200708 0.87104895 0.63856157]]\n",
      "\n",
      " np.tan()\n",
      "[[0.78180965 0.61977463 0.98837453]\n",
      " [0.47862289 0.56391345 1.20516295]]\n"
     ]
    }
   ],
   "source": [
    "# first we create two random arrays:\n",
    "A = np.random.random((2,3))\n",
    "B = np.random.random((2,3))\n",
    "print(A)\n",
    "print(B)\n",
    "\n",
    "# sum\n",
    "print(\"Sum:\")\n",
    "print( A+B )\n",
    "\n",
    "# subtraction\n",
    "print(\"\\nSubtraction\")\n",
    "print( A-B )\n",
    "\n",
    "# product\n",
    "print(\"\\nProduct\")\n",
    "print( A*B )\n",
    "\n",
    "# matricial product\n",
    "print(\"\\nMatricial Product (A*B^T)\")\n",
    "print( np.dot(A,B.T) )\n",
    "print(\"\\nTranspose\")\n",
    "print( A.T )\n",
    "print( B.T )\n",
    "\n",
    "\n",
    "\n",
    "# power\n",
    "print(\"\\n Power\")\n",
    "print( A**2 )\n",
    "\n",
    "# Some common mathematical functions\n",
    "print(\"\\n np.exp()\")\n",
    "print( np.exp(A) )\n",
    "print(\"\\n np.sin()\")\n",
    "print( np.sin(A) )\n",
    "print(\"\\n np.cos()\")\n",
    "print( np.cos(A))\n",
    "print(\"\\n np.tan()\")\n",
    "print( np.tan(A) )"
   ]
  },
  {
   "cell_type": "markdown",
   "metadata": {},
   "source": [
    "### Operaciones Booleanas"
   ]
  },
  {
   "cell_type": "code",
   "execution_count": 6,
   "metadata": {},
   "outputs": [
    {
     "name": "stdout",
     "output_type": "stream",
     "text": [
      "A > B:\n",
      "[[False False False]\n",
      " [False False False]\n",
      " [ True  True  True]]\n",
      "\n",
      "A =< B:\n",
      "[[ True  True  True]\n",
      " [ True  True  True]\n",
      " [False False False]]\n",
      "\n",
      " A==B:\n",
      "[[ True  True  True]\n",
      " [False False  True]\n",
      " [False False False]]\n",
      "\n",
      " A!=B:\n",
      "[[False False False]\n",
      " [ True  True False]\n",
      " [ True  True  True]]\n",
      "\n",
      " A and B:\n",
      "[[ True  True  True]\n",
      " [False False  True]\n",
      " [False False False]]\n",
      "[[ True  True  True]\n",
      " [False False  True]\n",
      " [False False False]]\n",
      "\n",
      " A or B:\n",
      "[[ True  True  True]\n",
      " [False False  True]\n",
      " [ True  True  True]]\n",
      "[[ True  True  True]\n",
      " [False False  True]\n",
      " [ True  True  True]]\n",
      "\n",
      " not A:\n",
      "[[False False False]\n",
      " [ True  True False]\n",
      " [ True  True  True]]\n",
      "[[False False False]\n",
      " [ True  True False]\n",
      " [ True  True  True]]\n"
     ]
    }
   ],
   "source": [
    "# Creating two 2d-arrays\n",
    "A = np.array( [[1, 2, 3], [2, 3, 5], [1, 9, 6]] )\n",
    "B = np.array( [[1, 2, 3], [3, 5, 5], [0, 8, 5]] )\n",
    "\n",
    "print(\"A > B:\")\n",
    "print( A > B )\n",
    "\n",
    "print(\"\\nA =< B:\")\n",
    "print( A <= B )\n",
    "\n",
    "print(\"\\n A==B:\")\n",
    "print( A==B )\n",
    "\n",
    "print(\"\\n A!=B:\")\n",
    "print( A!=B )\n",
    "\n",
    "# Creating two 2d boolean arrays\n",
    "C = A==B\n",
    "D = A>=B\n",
    "\n",
    "print(\"\\n A and B:\")\n",
    "print( C & D)\n",
    "print( np.logical_and(C,D) )\n",
    "\n",
    "print(\"\\n A or B:\")\n",
    "print( C | D)\n",
    "print( np.logical_or(C,D) )\n",
    "\n",
    "print(\"\\n not A:\")\n",
    "print( ~C )\n",
    "print( np.logical_not(C))"
   ]
  },
  {
   "cell_type": "markdown",
   "metadata": {},
   "source": [
    "### Basic Indexing and Slicing\n",
    "\n",
    "Indexar en un tópico amplio en NumPy existe una variedad de formas y métodos para seleccionar un subconjunto desde tu array o elementos individuales. \n",
    "\n",
    "Un arreglo de una dimensión son similares a las listas de Python: \n"
   ]
  },
  {
   "cell_type": "code",
   "execution_count": 7,
   "metadata": {},
   "outputs": [
    {
     "name": "stdout",
     "output_type": "stream",
     "text": [
      "arr: [0 1 2 3 4 5 6 7 8 9]\n",
      "\n",
      "arr[5]: 5\n",
      "arr[5:8]: [5 6 7]\n",
      "\n",
      "arr[5:8] = 12\n",
      "arr: [ 0  1  2  3  4 12 12 12  8  9]\n",
      "\n",
      "arr_slice: [12 12 12]\n",
      "arr: [0 1 2 3 4 0 0 0 8 9]\n"
     ]
    }
   ],
   "source": [
    "# Nuevo arrray\n",
    "arr = np.arange(10)\n",
    "print(\"arr:\",arr)\n",
    "\n",
    "# Index an element\n",
    "print(\"\\narr[5]:\", arr[5])\n",
    "\n",
    "# Index a slice\n",
    "print(\"arr[5:8]:\", arr[5:8])\n",
    "\n",
    "# Change values to a slice\n",
    "print(\"\\narr[5:8] = 12\")\n",
    "arr[5:8] = 12\n",
    "print(\"arr:\",arr)\n",
    "\n",
    "# slice are references, not copies.\n",
    "arr_slice = arr[5:8]\n",
    "print(\"\\narr_slice:\", arr_slice)\n",
    "arr_slice[:] = 0\n",
    "\n",
    "print(\"arr:\", arr)"
   ]
  },
  {
   "cell_type": "markdown",
   "metadata": {},
   "source": [
    "Para *n-dimensiones*  se utiliza la sintaxis: `arr[i,j,k,...]`, cada indice se separa por una coma:"
   ]
  },
  {
   "cell_type": "code",
   "execution_count": 8,
   "metadata": {},
   "outputs": [
    {
     "name": "stdout",
     "output_type": "stream",
     "text": [
      "arr2d:\n",
      " [[1 2 3]\n",
      " [4 5 6]\n",
      " [7 8 9]]\n",
      "arr2d[2]: [7 8 9]\n",
      "arr2d[0][2]: 3\n"
     ]
    }
   ],
   "source": [
    "arr2d = np.array([[1, 2, 3], [4, 5, 6], [7, 8, 9]])\n",
    "print(\"arr2d:\\n\", arr2d)\n",
    "print(\"arr2d[2]:\",arr2d[2])\n",
    "\n",
    "print(\"arr2d[0][2]:\", arr2d[0,2])"
   ]
  },
  {
   "cell_type": "markdown",
   "metadata": {},
   "source": [
    "Para _slice_ se usa las siguientes sintaxis:\n",
    "\n",
    "1. `arr[i_0:i_n,...]`: slice desde i_0 a i_n (exclusivo),\n",
    "2. `arr[i_0:i_n: i_step,...]`: slice desde i_0 a i_n con salto de i_step.\n",
    "\n",
    "Si i_0 y/o i_n no son especificados, se utiliza el inicio y el fin del array respectivamente.\n"
   ]
  },
  {
   "cell_type": "code",
   "execution_count": 9,
   "metadata": {},
   "outputs": [
    {
     "name": "stdout",
     "output_type": "stream",
     "text": [
      "arr3d:\n",
      " [[[ 1  2  3]\n",
      "  [ 4  5  6]]\n",
      "\n",
      " [[ 7  8  9]\n",
      "  [10 11 12]]]\n",
      "\n",
      "arr3d[:2, 1:]:\n",
      " [[ 4]\n",
      " [10]]\n"
     ]
    }
   ],
   "source": [
    "arr3d = np.array([[[1, 2, 3], [4, 5, 6]], [[7, 8, 9], [10, 11, 12]]])\n",
    "\n",
    "print(\"arr3d:\\n\", arr3d)\n",
    "\n",
    "print(\"\\narr3d[:2, 1:]:\\n\", arr3d[:2, 1:, 0])"
   ]
  },
  {
   "cell_type": "markdown",
   "metadata": {},
   "source": [
    "### Boolean indexing\n",
    "\n",
    "También es posible usar _masks_ o condiciones booleanas para selecionar valores de un array."
   ]
  },
  {
   "cell_type": "code",
   "execution_count": 10,
   "metadata": {},
   "outputs": [
    {
     "name": "stdout",
     "output_type": "stream",
     "text": [
      "arr: [0 1 2 3 4 5 6 7]\n",
      "arr[mask]: [0 1 3 5 7]\n",
      "arr[arr%2 == 0]: [6]\n"
     ]
    }
   ],
   "source": [
    "arr = np.arange(8)\n",
    "print(\"arr:\", arr)\n",
    "\n",
    "# Implicit list\n",
    "mask = [True, True, False, True, False, True, False, True]\n",
    "print(\"arr[mask]:\", arr[mask])\n",
    "\n",
    "# Boolean condition\n",
    "print(\"arr[arr%2 == 0]:\", arr[arr == 6])"
   ]
  },
  {
   "cell_type": "markdown",
   "metadata": {},
   "source": [
    "### Statistics methods\n",
    "\n",
    "Además de las funciones algebraicas, tambien incluye subrutinas comunes para la estadistica:"
   ]
  },
  {
   "cell_type": "code",
   "execution_count": 11,
   "metadata": {},
   "outputs": [
    {
     "name": "stdout",
     "output_type": "stream",
     "text": [
      "[[1 2 3]\n",
      " [3 4 5]]\n",
      "[2. 3. 4.]\n",
      "[2. 4.]\n",
      "axis 0\n",
      "2.0\n",
      "3.0\n",
      "4.0\n",
      "\n",
      "axis 1\n",
      "2.0\n",
      "4.0\n"
     ]
    }
   ],
   "source": [
    "arr = np.array([[1,2, 3],\n",
    "                [3,4,5]])\n",
    "print(arr)\n",
    "\n",
    "print(arr.mean(axis=0))\n",
    "print(arr.mean(axis=1))\n",
    "\n",
    "#axis 0\n",
    "print(\"axis 0\")\n",
    "print(arr[:,0].mean())\n",
    "print(arr[:,1].mean())\n",
    "print(arr[:,2].mean())\n",
    "\n",
    "#axis 1\n",
    "print(\"\\naxis 1\")\n",
    "print(arr[0,:].mean())\n",
    "print(arr[1,:].mean())"
   ]
  },
  {
   "cell_type": "code",
   "execution_count": 12,
   "metadata": {},
   "outputs": [
    {
     "name": "stdout",
     "output_type": "stream",
     "text": [
      "arr: [  8   3  -9   0  -4   3  -8   0   6  -6   3  -8  -9   3  -6   0  -4   5\n",
      "  -6  -7   5   1   8 -10   7  -1   0  -1  -8  -8  -7  -6   2  -1  -2   4\n",
      "  -2  -6   2  -3  -7   8  -8   6  -6  -9  -1   3  -2  -6   6 -10   8   9\n",
      "   1  -6 -10  -3   3   1  -8  -5  -6  -4  -9   1   3   2   4  -1   6   7\n",
      "  -9   8   2   3  -8  -5  -3  -8   2   0   8  -4   9  -9 -10  -9   8  -5\n",
      "  -3   1  -6  -8  -2  -4  -9   5   2   5]\n",
      "\n",
      "min: -10\n",
      "max: 9\n",
      "ptp (max - min): 19\n",
      "\n",
      "mean: -1.44\n",
      "median: -1.5\n",
      "Percentil 95: 8.0\n",
      "\n",
      "std: 5.675068281527545\n",
      "var: 32.2064\n",
      "Cov: 32.531717171717176\n",
      "histogram\n",
      "\tbins: [-10.   -8.1  -6.2  -4.3  -2.4  -0.5   1.4   3.3   5.2   7.1   9. ]\n",
      "\tfrec: [12 12 13  9  9 10 14  6  6  9]\n",
      "\n"
     ]
    }
   ],
   "source": [
    "arr = np.random.randint(-10, 10, 100)\n",
    "print(\"arr:\", arr)\n",
    "\n",
    "# range\n",
    "print(\"\\nmin:\", arr.min())\n",
    "print(\"max:\", arr.max())\n",
    "print(\"ptp (max - min):\", arr.ptp())\n",
    "\n",
    "# measures of central tendency\n",
    "print(\"\\nmean:\", np.mean(arr))\n",
    "print(\"median:\", np.median(arr))\n",
    "print(\"Percentil 95:\", np.percentile(arr, 95))\n",
    "\n",
    "# measure of the spread of a distribution\n",
    "print(\"\\nstd:\", np.std(arr))\n",
    "print(\"var:\", np.var(arr))\n",
    "print(\"Cov:\", np.cov(arr))\n",
    "\n",
    "# and more\n",
    "print(\"histogram\")\n",
    "print(\"\\tbins:\", np.histogram(arr)[1])\n",
    "print(\"\\tfrec:\", np.histogram(arr)[0])\n",
    "\n",
    "print()"
   ]
  },
  {
   "cell_type": "markdown",
   "metadata": {},
   "source": [
    "<div id=\"2.2\"></div>\n",
    "\n",
    "## Simulaciones\n",
    "\n",
    "<img src=\"https://i.stack.imgur.com/JRe0u.png\" width=\"60%\">\n",
    "\n",
    "Una **simulación** de computadora es la reproducción del comportamiento de un sistema usando la capacidad de computación de nuestros ordenadores para así poder **simular las salidas del modelo matemático** asociadado a dicho sistema. \n",
    "\n",
    "En nuestro caso, este modelo matemático son las probabilidades de ocurrir un **evento aleatorio**. De esta forma, una simulación de probabilidades no es más que un **experimento** donde se intenta replicar la salida real de una observación real, de tal forma que las probabilidades de dicha observación concuerdan con lo simulado. "
   ]
  },
  {
   "cell_type": "markdown",
   "metadata": {},
   "source": [
    "<div id=\"2.1.2\"></div>\n",
    "\n",
    "### Eventos Aleatorios\n",
    "\n",
    "Como habrán notados de los ejemplos anteriores, otra forma de crear arreglos es utilizando el submodulo de [`np.random`](https://docs.scipy.org/doc/numpy/reference/routines.random.html?highlight=random#module-numpy.random), este nos entrega diferentes formas de poder generar datos aleatorios:"
   ]
  },
  {
   "cell_type": "code",
   "execution_count": 71,
   "metadata": {},
   "outputs": [
    {
     "name": "stdout",
     "output_type": "stream",
     "text": [
      "np.random.random():\n",
      " [[0.20891013 0.00296997 0.51148049]\n",
      " [0.89019044 0.15820597 0.27209639]]\n",
      "\n",
      "(b - a) * np.random.random() + a:\n",
      " [[8.66335984 5.65024063 4.18754926]\n",
      " [4.86677011 6.3331849  4.32728307]]\n",
      "\n",
      "np.random.randint():\n",
      " [[ 7  0  3]\n",
      " [10 -8 -9]]\n",
      "\n",
      "np.random.choice with replace:\n",
      " ['a' 'c' 'c' 'b' 'a' 'b' 'b' 'b']\n",
      "['a', 'a', 'b', 'b', 'b', 'c']\n",
      "\n",
      "np.random.choice without replace:\n",
      " ['b' 'b' 'a' 'b' 'c' 'a']\n"
     ]
    }
   ],
   "source": [
    "# uniform distribution [0.0, 1.0)\n",
    "print(\"np.random.random():\\n\", np.random.random(size=(2, 3)))\n",
    "\n",
    "# uniform distribution [a, b)\n",
    "a = 4\n",
    "b = 10\n",
    "print(\"\\n(b - a) * np.random.random() + a:\\n\", (b - a) * np.random.random(size=(2, 3)) + a)\n",
    "\n",
    "# discrete (int) uniform distribution [low, high)\n",
    "low=-10\n",
    "high=11\n",
    "print(\"\\nnp.random.randint():\\n\", np.random.randint(low, high, size=(2, 3)))\n",
    "\n",
    "# Choice from 1D array with replace\n",
    "choices = [\"a\"] * 2 + [\"b\"] * 3 + [\"c\"]\n",
    "print(\"\\nnp.random.choice with replace:\\n\", np.random.choice(choices, size=8))\n",
    "\n",
    "print(choices)\n",
    "# Choice from 1D array without replace\n",
    "print(\"\\nnp.random.choice without replace:\\n\",np.random.choice(choices, size=6, replace=False))"
   ]
  },
  {
   "cell_type": "markdown",
   "metadata": {},
   "source": [
    "Podemos utilizar esto para simular **eventos aleatorios** con salidas esperadas, por ejemplo el lanzamiento de una moneda."
   ]
  },
  {
   "cell_type": "code",
   "execution_count": 26,
   "metadata": {},
   "outputs": [
    {
     "name": "stdout",
     "output_type": "stream",
     "text": [
      "Lanzar 1 moneda:\n",
      " sello\n",
      "\n",
      "Lanzar 1 moneda 5 veces:\n",
      " ['sello' 'sello' 'sello' 'sello' 'sello']\n",
      "\n",
      "Lanzar 2 moneda 4 veces:\n",
      " [['cara' 'cara']\n",
      " ['cara' 'sello']\n",
      " ['cara' 'cara']\n",
      " ['cara' 'cara']]\n"
     ]
    }
   ],
   "source": [
    "moneda = [\"cara\", \"sello\"]\n",
    "\n",
    "print(\"Lanzar 1 moneda:\\n\", np.random.choice(moneda))\n",
    "\n",
    "print(\"\\nLanzar 1 moneda 5 veces:\\n\", np.random.choice(moneda, size=5))\n",
    "\n",
    "print(\"\\nLanzar 2 moneda 4 veces:\\n\", np.random.choice(moneda, size=(4,2)))"
   ]
  },
  {
   "cell_type": "markdown",
   "metadata": {},
   "source": [
    "<div id=\"2.2.2\"></div>\n",
    "\n",
    "### Random Walk\n",
    "\n",
    "La **caminata aleatoria** o paseo aleatorio o camino aleatorio, abreviado en inglés como RW ([**Random Walks**](https://es.wikipedia.org/wiki/Camino_aleatorio)), es una formalización matemática de la trayectoria que resulta de hacer sucesivos pasos aleatorios.\n",
    "\n",
    "En su forma más general, las caminatas aleatorias son cualquier **proceso aleatorio** donde la posición de una partícula en cierto instante depende solo de su posición en algún **instante previo** y alguna **variable aleatoria** que determina su subsecuente dirección y la longitud de paso.\n",
    "\n",
    "\n",
    "Digamos que $X(t)$, define una trayectoria que empieza en la posición $X(0) = X_0$.\n",
    "\n",
    "Un paseo aleatorio se modela mediante la siguiente expresión:\n",
    "\n",
    "$$X(t+\\tau) = X(t) + \\Phi(\\tau)$$\n",
    "\n",
    "\n",
    "Donde $\\Phi$  es la variable aleatoria que describe la ley de probabilidad para tomar el siguiente paso y  $\\tau$  es el intervalo de tiempo entre pasos subsecuentes. "
   ]
  },
  {
   "cell_type": "markdown",
   "metadata": {},
   "source": [
    "#### Simulando un random walk\n",
    "\n",
    "A continuación utilizaremos el módulo random de numpy para simular un _random walk_ con $s$ pasos.\n",
    "\n",
    "Para este caso, nuestra particula vive en un espacio unidimensional, además la particula solo puede moverse una unidad a la izquierda (-1) o una unidad a la derecha (+1) por cada intervalo de tiempo, y esta se ubica inicialmente en el origen.\n",
    "\n",
    "Revisemos su comportamiento después de $s=500$ pasos."
   ]
  },
  {
   "cell_type": "code",
   "execution_count": 74,
   "metadata": {},
   "outputs": [],
   "source": [
    "def random_walk(X_0=0, s=500):\n",
    "    # Definimos las posibles elecciones\n",
    "    step = [-1, 1]\n",
    "\n",
    "    # Sabemos que cada paso es independiente, por lo que podemos elegir alatoriamente los 1000 pasos\n",
    "    walk = np.random.choice(step, s)\n",
    "    return walk\n",
    "#random_walk()"
   ]
  },
  {
   "cell_type": "code",
   "execution_count": 17,
   "metadata": {},
   "outputs": [
    {
     "data": {
      "image/png": "[encoded data removed]",
      "text/plain": [
       "<Figure size 1080x360 with 1 Axes>"
      ]
     },
     "metadata": {
      "needs_background": "light"
     },
     "output_type": "display_data"
    }
   ],
   "source": [
    "# Cantidad de pasos\n",
    "s = 500\n",
    "\n",
    "# X_0, o posicion inicial\n",
    "X_0 = 0\n",
    "walk = random_walk(X_0, s)\n",
    "\n",
    "# Finalmente podemos sumar los pasos, para temas de visualización se realiza la cumsum\n",
    "position_by_step = np.insert(X_0  + walk.cumsum(), 0, X_0) #se agrega la posicion inicial\n",
    "final_position = X_0 +  walk.sum()\n",
    "t_step = np.arange(s + 1) + 1\n",
    "\n",
    "plt.figure(figsize=(15,5))\n",
    "plt.title(\"Random Walk con 500 pasos\")\n",
    "plt.ylabel(\"X(t)\")\n",
    "plt.xlabel(\"t\")\n",
    "\n",
    "plt.axhline(y=0, color='k')\n",
    "plt.plot(t_step, position_by_step);"
   ]
  },
  {
   "cell_type": "markdown",
   "metadata": {},
   "source": [
    "Nos interesa saber cuál es la **distancia media** a la que llegan los random walk, para esto realizaremos $n$ simulaciones y observaremos como se distribuyen sus posiciones finales."
   ]
  },
  {
   "cell_type": "code",
   "execution_count": 65,
   "metadata": {},
   "outputs": [
    {
     "data": {
      "text/plain": [
       "(500, 100)"
      ]
     },
     "execution_count": 65,
     "metadata": {},
     "output_type": "execute_result"
    }
   ],
   "source": [
    "def n_random_walk(X_0, s, n):\n",
    "    # Definimos las posibles elecciones\n",
    "    step = [-1, 1]\n",
    "    \n",
    "    # Sabemos que cada paso es independiente, por lo que podemos elegir alatoriamente los 10000 pasos\n",
    "    walk = np.random.choice(step, (s, n))\n",
    "    return walk\n",
    "\n",
    "# Cantidad de simulaciones\n",
    "n = 100\n",
    "\n",
    "# Cantidad de pasos\n",
    "s = 500\n",
    "\n",
    "# X_0, o posicion inicial\n",
    "X_0 = 0\n",
    "\n",
    "walk = n_random_walk(X_0, s, n)\n",
    "walk.shape"
   ]
  },
  {
   "cell_type": "code",
   "execution_count": 19,
   "metadata": {},
   "outputs": [
    {
     "data": {
      "image/png": "[encoded data removed]",
      "text/plain": [
       "<Figure size 864x288 with 1 Axes>"
      ]
     },
     "metadata": {
      "needs_background": "light"
     },
     "output_type": "display_data"
    }
   ],
   "source": [
    "def show_random_walks(walks):\n",
    "    # Finalmente podemos sumar los pasos, para temas de visualización se realiza la cumsum\n",
    "    final_positions = X_0 +  walks.sum(axis=0)\n",
    "\n",
    "    plt.figure(figsize=(12,4))\n",
    "\n",
    "    plt.axvline(x=final_positions.mean(), color=\"k\", label=\"Mean: \"+ str(final_positions.mean()))\n",
    "    plt.hist(final_positions, bins=20);\n",
    "\n",
    "    plt.title(\"Distribución de posiciones finales - \" + str(len(final_positions)) + \" simulaciones\")\n",
    "    plt.ylabel(\"N° de simulaciones\")\n",
    "    plt.xlabel(\"X(t_final)\")\n",
    "    plt.legend();\n",
    "    \n",
    "show_random_walks(walk)"
   ]
  },
  {
   "cell_type": "markdown",
   "metadata": {},
   "source": [
    "Observemos como cambia la distribución a medida de que aumentamos las cantidad de simulaciones."
   ]
  },
  {
   "cell_type": "code",
   "execution_count": 20,
   "metadata": {},
   "outputs": [
    {
     "data": {
      "image/png": "[encoded data removed]",
      "text/plain": [
       "<Figure size 864x288 with 1 Axes>"
      ]
     },
     "metadata": {
      "needs_background": "light"
     },
     "output_type": "display_data"
    }
   ],
   "source": [
    "walks = n_random_walk(X_0, s, n=1000)\n",
    "show_random_walks(walks)"
   ]
  },
  {
   "cell_type": "code",
   "execution_count": 21,
   "metadata": {},
   "outputs": [
    {
     "data": {
      "image/png": "[encoded data removed]",
      "text/plain": [
       "<Figure size 864x288 with 1 Axes>"
      ]
     },
     "metadata": {
      "needs_background": "light"
     },
     "output_type": "display_data"
    }
   ],
   "source": [
    "walks = n_random_walk(X_0, s, n=100000)\n",
    "show_random_walks(walks)"
   ]
  },
  {
   "cell_type": "code",
   "execution_count": 22,
   "metadata": {},
   "outputs": [
    {
     "data": {
      "image/png": "[encoded data removed]",
      "text/plain": [
       "<Figure size 864x288 with 1 Axes>"
      ]
     },
     "metadata": {
      "needs_background": "light"
     },
     "output_type": "display_data"
    }
   ],
   "source": [
    "walks = n_random_walk(X_0, s, n=1000000)\n",
    "show_random_walks(walks)"
   ]
  },
  {
   "cell_type": "markdown",
   "metadata": {},
   "source": [
    "Dada nuestras simulaciones realizadas podemos concluir que: \n",
    "\n",
    "La distancia del origen esperado de un random walk de una dimension es 0."
   ]
  },
  {
   "cell_type": "markdown",
   "metadata": {},
   "source": [
    "<div id=\"2.3\"></div>\n",
    "\n",
    "## Teorema de Bayes\n",
    "\n",
    "<img src=\"http://upload.wikimedia.org/wikipedia/commons/thumb/1/18/Bayes'_Theorem_MMB_01.jpg/800px-Bayes'_Theorem_MMB_01.jpg\" width=\"40%\">\n",
    "\n",
    "\n",
    "El teorema de Bayes, es una proposición planteada por el matemático inglés Thomas Bayes y extendida por Pierre-Simon Laplace que expresa la probabilidad condicional de un evento aleatorio A dado B:\n",
    "\n",
    "$$P(A|B) = \\frac{P(A)P(B|A)}{P(B)}$$\n",
    "\n",
    "\n",
    "Sin embargo, existe otra interpretación conocida como la **interpretación diacrónica**. Con esta interpretacion obtenemos una expresión que nos indica como actualizar nuestra creencia de una hipotesis inicial **H** la evidencia entregada por los datos __D__.\n",
    "\n",
    "$$P(H|D) = P(H)\\frac{P(D|H)}{P(D)}$$\n",
    "\n",
    "En esta interpretación los terminos son conocidos como:\n",
    "\n",
    "   * $P(H)$: Priori, la probabilidad de la hipotesis antes de ver los datos.\n",
    "   * $P(H|D)$: Posteriori, la probabilidad de la hipotesis antes de ver los datos, lo que queremos computar.\n",
    "   * $P(D|H)$: Likelihood, la probabilidad de la evidencia bajo una hipotesis.\n",
    "   * $P(D)$: Constante de normalización, la probabilidad de la evidencia bajo cualquier hipotesis.\n",
    "\n",
    "Además contamos con la **versión de Laplace** donde contamos con $A_1, A_2,..., A_i,..., A_n$, una partición de $\\Omega$, y sea $B$ un evento cualquiera (las mismas hipótesis del teorema de la probabilidad total). Se cumple:\n",
    "\n",
    "$$P(A_i|B) = \\frac{P(A_i)P(B|A_i)}{P(B)} = \\frac{P(A_i)P(B|A_i)}{\\sum_{j=1}^n P(B|A_j)P(A_j)}$$\n"
   ]
  },
  {
   "cell_type": "markdown",
   "metadata": {},
   "source": [
    "Recomiendo los video del canal **3blue1brown** [Bayes theorem, and making probability intuitive](https://www.youtube.com/watch?v=HZGCoVF3YvM) y [The quick proof of Bayes' theorem](https://www.youtube.com/watch?v=U_85TaXbeIo) para poder entenderlo de manera visual."
   ]
  },
  {
   "cell_type": "markdown",
   "metadata": {},
   "source": [
    "Veamos como es utilizado el teorema con un ejemplo.\n",
    "\n",
    "Suponga que en su visita más reciente al consultorio del médico, decide hacerse la prueba de detección de una enfermedad rara. Si tiene la mala suerte de recibir un resultado positivo, la siguiente pregunta lógica es: **\"Dado el resultado de la prueba, ¿cuál es la probabilidad de que realmente tenga esta enfermedad?\"** (Después de todo, las pruebas médicas no son perfectamente precisas). El teorema de Bayes nos dice exactamente cómo calcular esta probabilidad:\n",
    "\n",
    "$$P(E|+)=\\frac{P(+|E)P(E)}{P(+)}$$\n",
    "\n",
    "Como indica la ecuación, la probabilidad posterior de tener la enfermedad (E) dado que la prueba fue positiva (+) depende de la probabilidad a priori de la enfermedad $P(E)$. Piense en esto como la incidencia de la enfermedad en la población general. La cual es solo de un $10\\%$\n",
    "\n",
    "$$P(E) = 0.1$$\n",
    "$$P(¬E) = P(S) = 0.9$$\n",
    "\n",
    "La probabilidad posterior también depende de la precisión de la prueba: ¿con qué frecuencia la prueba informa correctamente un resultado negativo para un paciente sano y con qué frecuencia informa un resultado positivo para alguien con la enfermedad?\n",
    "\n",
    "$$P(-|S) = 0.75$$\n",
    "$$P(+|S) = 0.25$$\n",
    "$$P(-|E) = 0.25$$\n",
    "$$P(+|E) = 0.75$$\n",
    "\n",
    "Finalmente, necesitamos saber la probabilidad general de un resultado positivo $P(+)$. La cual puede calcularse o obtenerse como parte de la información del problema."
   ]
  },
  {
   "cell_type": "code",
   "execution_count": 66,
   "metadata": {},
   "outputs": [
    {
     "data": {
      "image/png": "[encoded data removed]",
      "text/plain": [
       "<Figure size 432x288 with 1 Axes>"
      ]
     },
     "metadata": {
      "needs_background": "light"
     },
     "output_type": "display_data"
    }
   ],
   "source": [
    "# Prior\n",
    "P_E = 0.1\n",
    "P_S = 0.9\n",
    "\n",
    "# Likelihood\n",
    "P_neg_S = 0.75\n",
    "P_pos_S = 0.25\n",
    "P_neg_E = 0.25\n",
    "P_pos_E = 0.75\n",
    "\n",
    "# Const\n",
    "P_pos = P_pos_S*P_S + P_pos_E*P_E\n",
    "P_neg = P_neg_S*P_S + P_neg_E*P_E\n",
    "\n",
    "import matplotlib.pyplot as plt\n",
    "\n",
    "widths = [P_E, P_S]\n",
    "indices = [widths[0]/2., widths[0] + widths[1]/2.]\n",
    "\n",
    "plt.bar(indices, [1,1], widths, label=\"Negativo (-)\")\n",
    "plt.bar(indices, [P_pos_E,P_pos_S], widths, label=\"Positivo (+)\")\n",
    "plt.legend()\n",
    "plt.yticks([0, P_pos_E, P_pos_S, 1], [0, P_pos_E, P_pos_S, 1])\n",
    "plt.xticks(indices + [0, P_E,  1], ['P(E)', 'P(S)']+[0, P_E, 1])\n",
    "plt.axvline(x=P_E, linewidth=1, color='r')\n",
    "plt.show()"
   ]
  },
  {
   "cell_type": "markdown",
   "metadata": {},
   "source": [
    "Finalmente podemos obtener la probabilidad posterior utilizando la fórmula"
   ]
  },
  {
   "cell_type": "code",
   "execution_count": 70,
   "metadata": {},
   "outputs": [
    {
     "name": "stdout",
     "output_type": "stream",
     "text": [
      "0.25 0.7499999999999999\n",
      "0.03571428571428571 0.9642857142857143\n"
     ]
    }
   ],
   "source": [
    "P_E_pos = P_pos_E*P_E/P_pos\n",
    "P_E_neg = P_neg_E*P_E/P_neg\n",
    "P_S_pos = P_pos_S*P_S/P_pos\n",
    "P_S_neg = P_neg_S*P_S/P_neg\n",
    "\n",
    "print(P_E_pos, P_S_pos)\n",
    "\n",
    "print(P_E_neg, P_S_neg)"
   ]
  },
  {
   "cell_type": "markdown",
   "metadata": {},
   "source": [
    "Dado el resultado positivo de la prueba, ¿cuál es la probabilidad de que realmente tenga esta enfermedad?\n",
    "\n",
    "Es solo un **25%**."
   ]
  }
 ],
 "metadata": {
  "kernelspec": {
   "display_name": "Python 3",
   "language": "python",
   "name": "python3"
  },
  "language_info": {
   "codemirror_mode": {
    "name": "ipython",
    "version": 3
   },
   "file_extension": ".py",
   "mimetype": "text/x-python",
   "name": "python",
   "nbconvert_exporter": "python",
   "pygments_lexer": "ipython3",
   "version": "3.7.6"
  }
 },
 "nbformat": 4,
 "nbformat_minor": 4
}
